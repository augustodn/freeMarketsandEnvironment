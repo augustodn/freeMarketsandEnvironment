{
  "nbformat": 4,
  "nbformat_minor": 0,
  "metadata": {
    "colab": {
      "name": "1.Extraccion y limpieza de datos.ipynb",
      "provenance": [],
      "toc_visible": true,
      "authorship_tag": "ABX9TyOb4SqFY1Pclknjn/cdc7iq",
      "include_colab_link": true
    },
    "kernelspec": {
      "name": "python3",
      "display_name": "Python 3"
    }
  },
  "cells": [
    {
      "cell_type": "markdown",
      "metadata": {
        "id": "view-in-github",
        "colab_type": "text"
      },
      "source": [
        "<a href=\"https://colab.research.google.com/github/francomanca93/liberalismo-y-medioambiente/blob/master/Notebooks/1_Extraccion_y_limpieza_de_datos.ipynb\" target=\"_parent\"><img src=\"https://colab.research.google.com/assets/colab-badge.svg\" alt=\"Open In Colab\"/></a>"
      ]
    },
    {
      "cell_type": "markdown",
      "metadata": {
        "id": "tSX_sZLj-ije",
        "colab_type": "text"
      },
      "source": [
        "# Extracción de datos. Conociendo a los mismos.\n",
        "\n",
        "Este documento es sobre como se irán limpiando los datos para el proyecto Liberalismo y Medioambiente para la fundación Republica Liberal\n",
        "\n",
        "Se irán agregando los enlaces a los datasets de los datos correspondientes.\n",
        "\n",
        "[EPI](https://epi.yale.edu/downloads)\n",
        "\n",
        "[Index of Economic Freedom - 2020](https://www.heritage.org/index/explore?u=637340655378618037)\n",
        "\n",
        "[Index of Economic Freedom - 1995/2020](https://www.heritage.org/index/explore?view=by-region-country-year&u=637340656550516325)\n",
        "\n"
      ]
    },
    {
      "cell_type": "markdown",
      "metadata": {
        "id": "rMy4Hdp9FRNV",
        "colab_type": "text"
      },
      "source": [
        "## Configuramos Google Colab y librerias"
      ]
    },
    {
      "cell_type": "markdown",
      "metadata": {
        "id": "iV01F8qgLYSi",
        "colab_type": "text"
      },
      "source": [
        "El siguiente chunk de codigo sirve para ingresar a mi unidad virtual de Drive para trabajar con los datasets descargados de los enlaces anteriores."
      ]
    },
    {
      "cell_type": "code",
      "metadata": {
        "id": "phKoc0L76Dy8",
        "colab_type": "code",
        "colab": {
          "base_uri": "https://localhost:8080/",
          "height": 54
        },
        "outputId": "6c4f6af4-3924-48af-f091-f4f1e950ab17"
      },
      "source": [
        "from google.colab import drive\n",
        "drive.mount('/content/drive/')"
      ],
      "execution_count": 1,
      "outputs": [
        {
          "output_type": "stream",
          "text": [
            "Drive already mounted at /content/drive/; to attempt to forcibly remount, call drive.mount(\"/content/drive/\", force_remount=True).\n"
          ],
          "name": "stdout"
        }
      ]
    },
    {
      "cell_type": "code",
      "metadata": {
        "id": "7Ps6nvIfEl24",
        "colab_type": "code",
        "colab": {
          "base_uri": "https://localhost:8080/",
          "height": 34
        },
        "outputId": "0022ddda-2f71-4693-f6e2-9ff3e16cd042"
      },
      "source": [
        "ls '/content/drive/My Drive/Colab Notebooks/republica-liberal/data/'"
      ],
      "execution_count": 2,
      "outputs": [
        {
          "output_type": "stream",
          "text": [
            "\u001b[0m\u001b[01;34mdata_to_work\u001b[0m/  \u001b[01;34mepi\u001b[0m/  \u001b[01;34mindex_economic_freedom\u001b[0m/\n"
          ],
          "name": "stdout"
        }
      ]
    },
    {
      "cell_type": "code",
      "metadata": {
        "id": "opT9UwUGFFsu",
        "colab_type": "code",
        "colab": {}
      },
      "source": [
        "import pandas as pd\n",
        "import numpy as np"
      ],
      "execution_count": 3,
      "outputs": []
    },
    {
      "cell_type": "markdown",
      "metadata": {
        "id": "1SSGkmorFWlp",
        "colab_type": "text"
      },
      "source": [
        "## Conociendo Enviroment performance index\n",
        "\n",
        "Leemos nuestro dataset, lo guardamos en una variable para luego reconocer las labels que tiene el dataframe."
      ]
    },
    {
      "cell_type": "code",
      "metadata": {
        "id": "W3Db53kfRUl8",
        "colab_type": "code",
        "colab": {
          "base_uri": "https://localhost:8080/",
          "height": 69
        },
        "outputId": "d7d934d6-46fc-4f8a-a46c-cd89e6acc34d"
      },
      "source": [
        "ls '/content/drive/My Drive/Colab Notebooks/republica-liberal/data/epi'"
      ],
      "execution_count": 4,
      "outputs": [
        {
          "output_type": "stream",
          "text": [
            "epi2020countryattributes20200604.csv  epi2020resultsregions20200604.csv\n",
            "epi2020results20200604.csv            epi2020weights20200604.csv\n",
            "epi2020resultsgroups20200604.csv\n"
          ],
          "name": "stdout"
        }
      ]
    },
    {
      "cell_type": "code",
      "metadata": {
        "id": "rtAGoNf9E3tS",
        "colab_type": "code",
        "colab": {
          "base_uri": "https://localhost:8080/",
          "height": 34
        },
        "outputId": "909cbd55-a7af-43bf-8196-3e0acaadef6a"
      },
      "source": [
        "cd '/content/drive/My Drive/Colab Notebooks/republica-liberal/data/epi'"
      ],
      "execution_count": 5,
      "outputs": [
        {
          "output_type": "stream",
          "text": [
            "/content/drive/My Drive/Colab Notebooks/republica-liberal/data/epi\n"
          ],
          "name": "stdout"
        }
      ]
    },
    {
      "cell_type": "markdown",
      "metadata": {
        "id": "alCEwwl0Jji-",
        "colab_type": "text"
      },
      "source": [
        "Veamos que tiene el dataset **epi2020results...**"
      ]
    },
    {
      "cell_type": "code",
      "metadata": {
        "id": "CtTF2MVDFLew",
        "colab_type": "code",
        "colab": {
          "base_uri": "https://localhost:8080/",
          "height": 273
        },
        "outputId": "203a7b84-842e-49ca-b44a-fdf36c3328f2"
      },
      "source": [
        "df_epi = pd.read_csv('epi2020results20200604.csv')\n",
        "df_epi.head(5)"
      ],
      "execution_count": 6,
      "outputs": [
        {
          "output_type": "execute_result",
          "data": {
            "text/html": [
              "<div>\n",
              "<style scoped>\n",
              "    .dataframe tbody tr th:only-of-type {\n",
              "        vertical-align: middle;\n",
              "    }\n",
              "\n",
              "    .dataframe tbody tr th {\n",
              "        vertical-align: top;\n",
              "    }\n",
              "\n",
              "    .dataframe thead th {\n",
              "        text-align: right;\n",
              "    }\n",
              "</style>\n",
              "<table border=\"1\" class=\"dataframe\">\n",
              "  <thead>\n",
              "    <tr style=\"text-align: right;\">\n",
              "      <th></th>\n",
              "      <th>code</th>\n",
              "      <th>iso</th>\n",
              "      <th>country</th>\n",
              "      <th>EPI.new</th>\n",
              "      <th>HLT.new</th>\n",
              "      <th>AIR.new</th>\n",
              "      <th>PMD.new</th>\n",
              "      <th>HAD.new</th>\n",
              "      <th>OZD.new</th>\n",
              "      <th>H2O.new</th>\n",
              "      <th>USD.new</th>\n",
              "      <th>UWD.new</th>\n",
              "      <th>HMT.new</th>\n",
              "      <th>PBD.new</th>\n",
              "      <th>WMG.new</th>\n",
              "      <th>MSW.new</th>\n",
              "      <th>ECO.new</th>\n",
              "      <th>BDH.new</th>\n",
              "      <th>TBN.new</th>\n",
              "      <th>TBG.new</th>\n",
              "      <th>MPA.new</th>\n",
              "      <th>PAR.new</th>\n",
              "      <th>SHI.new</th>\n",
              "      <th>SPI.new</th>\n",
              "      <th>BHV.new</th>\n",
              "      <th>ECS.new</th>\n",
              "      <th>TCL.new</th>\n",
              "      <th>GRL.new</th>\n",
              "      <th>WTL.new</th>\n",
              "      <th>FSH.new</th>\n",
              "      <th>FSS.new</th>\n",
              "      <th>RMS.new</th>\n",
              "      <th>FGT.new</th>\n",
              "      <th>CCH.new</th>\n",
              "      <th>CDA.new</th>\n",
              "      <th>CHA.new</th>\n",
              "      <th>FGA.new</th>\n",
              "      <th>NDA.new</th>\n",
              "      <th>BCA.new</th>\n",
              "      <th>LCB.new</th>\n",
              "      <th>...</th>\n",
              "      <th>H2O.rnk.new</th>\n",
              "      <th>USD.rnk.new</th>\n",
              "      <th>UWD.rnk.new</th>\n",
              "      <th>HMT.rnk.new</th>\n",
              "      <th>PBD.rnk.new</th>\n",
              "      <th>WMG.rnk.new</th>\n",
              "      <th>MSW.rnk.new</th>\n",
              "      <th>ECO.rnk.new</th>\n",
              "      <th>BDH.rnk.new</th>\n",
              "      <th>TBN.rnk.new</th>\n",
              "      <th>TBG.rnk.new</th>\n",
              "      <th>MPA.rnk.new</th>\n",
              "      <th>PAR.rnk.new</th>\n",
              "      <th>SHI.rnk.new</th>\n",
              "      <th>SPI.rnk.new</th>\n",
              "      <th>BHV.rnk.new</th>\n",
              "      <th>ECS.rnk.new</th>\n",
              "      <th>TCL.rnk.new</th>\n",
              "      <th>GRL.rnk.new</th>\n",
              "      <th>WTL.rnk.new</th>\n",
              "      <th>FSH.rnk.new</th>\n",
              "      <th>FSS.rnk.new</th>\n",
              "      <th>RMS.rnk.new</th>\n",
              "      <th>FGT.rnk.new</th>\n",
              "      <th>CCH.rnk.new</th>\n",
              "      <th>CDA.rnk.new</th>\n",
              "      <th>CHA.rnk.new</th>\n",
              "      <th>FGA.rnk.new</th>\n",
              "      <th>NDA.rnk.new</th>\n",
              "      <th>BCA.rnk.new</th>\n",
              "      <th>LCB.rnk.new</th>\n",
              "      <th>GIB.rnk.new</th>\n",
              "      <th>GHP.rnk.new</th>\n",
              "      <th>APE.rnk.new</th>\n",
              "      <th>SDA.rnk.new</th>\n",
              "      <th>NXA.rnk.new</th>\n",
              "      <th>AGR.rnk.new</th>\n",
              "      <th>SNM.rnk.new</th>\n",
              "      <th>WRS.rnk.new</th>\n",
              "      <th>WWT.rnk.new</th>\n",
              "    </tr>\n",
              "  </thead>\n",
              "  <tbody>\n",
              "    <tr>\n",
              "      <th>0</th>\n",
              "      <td>4</td>\n",
              "      <td>AFG</td>\n",
              "      <td>Afghanistan</td>\n",
              "      <td>25.5</td>\n",
              "      <td>20.0</td>\n",
              "      <td>17.7</td>\n",
              "      <td>25.4</td>\n",
              "      <td>7.3</td>\n",
              "      <td>16.9</td>\n",
              "      <td>28.0</td>\n",
              "      <td>28.5</td>\n",
              "      <td>27.7</td>\n",
              "      <td>0.0</td>\n",
              "      <td>0.0</td>\n",
              "      <td>0.0</td>\n",
              "      <td>0.0</td>\n",
              "      <td>29.2</td>\n",
              "      <td>21.9</td>\n",
              "      <td>0.6</td>\n",
              "      <td>1.3</td>\n",
              "      <td>NaN</td>\n",
              "      <td>5.0</td>\n",
              "      <td>90.7</td>\n",
              "      <td>18.0</td>\n",
              "      <td>57.7</td>\n",
              "      <td>93.6</td>\n",
              "      <td>95.0</td>\n",
              "      <td>60.9</td>\n",
              "      <td>100.0</td>\n",
              "      <td>NaN</td>\n",
              "      <td>NaN</td>\n",
              "      <td>NaN</td>\n",
              "      <td>NaN</td>\n",
              "      <td>22.2</td>\n",
              "      <td>0.0</td>\n",
              "      <td>66.1</td>\n",
              "      <td>NaN</td>\n",
              "      <td>34.1</td>\n",
              "      <td>15.7</td>\n",
              "      <td>100.0</td>\n",
              "      <td>...</td>\n",
              "      <td>127</td>\n",
              "      <td>128</td>\n",
              "      <td>125</td>\n",
              "      <td>180</td>\n",
              "      <td>180</td>\n",
              "      <td>133</td>\n",
              "      <td>133</td>\n",
              "      <td>175</td>\n",
              "      <td>167</td>\n",
              "      <td>179</td>\n",
              "      <td>179</td>\n",
              "      <td>NaN</td>\n",
              "      <td>164</td>\n",
              "      <td>54.0</td>\n",
              "      <td>149.0</td>\n",
              "      <td>66</td>\n",
              "      <td>15.0</td>\n",
              "      <td>12.0</td>\n",
              "      <td>68.0</td>\n",
              "      <td>1.0</td>\n",
              "      <td>NaN</td>\n",
              "      <td>NaN</td>\n",
              "      <td>NaN</td>\n",
              "      <td>NaN</td>\n",
              "      <td>172</td>\n",
              "      <td>176</td>\n",
              "      <td>89</td>\n",
              "      <td>NaN</td>\n",
              "      <td>147</td>\n",
              "      <td>156</td>\n",
              "      <td>1.0</td>\n",
              "      <td>77</td>\n",
              "      <td>1</td>\n",
              "      <td>179</td>\n",
              "      <td>176</td>\n",
              "      <td>176</td>\n",
              "      <td>48</td>\n",
              "      <td>48</td>\n",
              "      <td>134</td>\n",
              "      <td>134</td>\n",
              "    </tr>\n",
              "    <tr>\n",
              "      <th>1</th>\n",
              "      <td>24</td>\n",
              "      <td>AGO</td>\n",
              "      <td>Angola</td>\n",
              "      <td>29.7</td>\n",
              "      <td>20.4</td>\n",
              "      <td>26.8</td>\n",
              "      <td>32.6</td>\n",
              "      <td>17.8</td>\n",
              "      <td>34.4</td>\n",
              "      <td>12.8</td>\n",
              "      <td>14.1</td>\n",
              "      <td>11.9</td>\n",
              "      <td>37.3</td>\n",
              "      <td>37.3</td>\n",
              "      <td>0.0</td>\n",
              "      <td>0.0</td>\n",
              "      <td>35.9</td>\n",
              "      <td>39.3</td>\n",
              "      <td>34.1</td>\n",
              "      <td>36.6</td>\n",
              "      <td>0.0</td>\n",
              "      <td>29.8</td>\n",
              "      <td>88.3</td>\n",
              "      <td>66.6</td>\n",
              "      <td>67.2</td>\n",
              "      <td>33.7</td>\n",
              "      <td>31.2</td>\n",
              "      <td>49.3</td>\n",
              "      <td>63.5</td>\n",
              "      <td>14.7</td>\n",
              "      <td>16.9</td>\n",
              "      <td>21.3</td>\n",
              "      <td>4.4</td>\n",
              "      <td>49.0</td>\n",
              "      <td>30.3</td>\n",
              "      <td>100.0</td>\n",
              "      <td>89.3</td>\n",
              "      <td>63.2</td>\n",
              "      <td>7.1</td>\n",
              "      <td>27.2</td>\n",
              "      <td>...</td>\n",
              "      <td>161</td>\n",
              "      <td>154</td>\n",
              "      <td>163</td>\n",
              "      <td>132</td>\n",
              "      <td>132</td>\n",
              "      <td>133</td>\n",
              "      <td>133</td>\n",
              "      <td>144</td>\n",
              "      <td>133</td>\n",
              "      <td>139</td>\n",
              "      <td>140</td>\n",
              "      <td>117.0</td>\n",
              "      <td>87</td>\n",
              "      <td>68.0</td>\n",
              "      <td>108.0</td>\n",
              "      <td>33</td>\n",
              "      <td>94.0</td>\n",
              "      <td>89.0</td>\n",
              "      <td>110.0</td>\n",
              "      <td>53.0</td>\n",
              "      <td>51.0</td>\n",
              "      <td>24.0</td>\n",
              "      <td>34.0</td>\n",
              "      <td>47.0</td>\n",
              "      <td>97</td>\n",
              "      <td>122</td>\n",
              "      <td>1</td>\n",
              "      <td>85.0</td>\n",
              "      <td>76</td>\n",
              "      <td>167</td>\n",
              "      <td>136.0</td>\n",
              "      <td>67</td>\n",
              "      <td>78</td>\n",
              "      <td>176</td>\n",
              "      <td>174</td>\n",
              "      <td>176</td>\n",
              "      <td>123</td>\n",
              "      <td>123</td>\n",
              "      <td>134</td>\n",
              "      <td>134</td>\n",
              "    </tr>\n",
              "    <tr>\n",
              "      <th>2</th>\n",
              "      <td>8</td>\n",
              "      <td>ALB</td>\n",
              "      <td>Albania</td>\n",
              "      <td>49.0</td>\n",
              "      <td>44.5</td>\n",
              "      <td>41.2</td>\n",
              "      <td>44.2</td>\n",
              "      <td>34.6</td>\n",
              "      <td>60.1</td>\n",
              "      <td>54.0</td>\n",
              "      <td>59.7</td>\n",
              "      <td>50.2</td>\n",
              "      <td>46.1</td>\n",
              "      <td>46.1</td>\n",
              "      <td>0.0</td>\n",
              "      <td>0.0</td>\n",
              "      <td>52.0</td>\n",
              "      <td>68.2</td>\n",
              "      <td>100.0</td>\n",
              "      <td>100.0</td>\n",
              "      <td>14.7</td>\n",
              "      <td>38.6</td>\n",
              "      <td>82.1</td>\n",
              "      <td>92.2</td>\n",
              "      <td>39.6</td>\n",
              "      <td>43.2</td>\n",
              "      <td>41.1</td>\n",
              "      <td>70.2</td>\n",
              "      <td>54.4</td>\n",
              "      <td>8.9</td>\n",
              "      <td>NaN</td>\n",
              "      <td>16.2</td>\n",
              "      <td>0.4</td>\n",
              "      <td>56.8</td>\n",
              "      <td>41.2</td>\n",
              "      <td>79.2</td>\n",
              "      <td>89.4</td>\n",
              "      <td>61.9</td>\n",
              "      <td>100.0</td>\n",
              "      <td>78.4</td>\n",
              "      <td>...</td>\n",
              "      <td>69</td>\n",
              "      <td>69</td>\n",
              "      <td>66</td>\n",
              "      <td>99</td>\n",
              "      <td>99</td>\n",
              "      <td>133</td>\n",
              "      <td>133</td>\n",
              "      <td>55</td>\n",
              "      <td>65</td>\n",
              "      <td>1</td>\n",
              "      <td>1</td>\n",
              "      <td>57.0</td>\n",
              "      <td>62</td>\n",
              "      <td>98.0</td>\n",
              "      <td>47.0</td>\n",
              "      <td>165</td>\n",
              "      <td>55.0</td>\n",
              "      <td>47.0</td>\n",
              "      <td>41.0</td>\n",
              "      <td>81.0</td>\n",
              "      <td>108.0</td>\n",
              "      <td>NaN</td>\n",
              "      <td>58.0</td>\n",
              "      <td>75.0</td>\n",
              "      <td>66</td>\n",
              "      <td>92</td>\n",
              "      <td>65</td>\n",
              "      <td>78.0</td>\n",
              "      <td>80</td>\n",
              "      <td>1</td>\n",
              "      <td>26.0</td>\n",
              "      <td>130</td>\n",
              "      <td>87</td>\n",
              "      <td>1</td>\n",
              "      <td>1</td>\n",
              "      <td>1</td>\n",
              "      <td>94</td>\n",
              "      <td>94</td>\n",
              "      <td>92</td>\n",
              "      <td>92</td>\n",
              "    </tr>\n",
              "    <tr>\n",
              "      <th>3</th>\n",
              "      <td>784</td>\n",
              "      <td>ARE</td>\n",
              "      <td>United Arab Emirates</td>\n",
              "      <td>55.6</td>\n",
              "      <td>55.2</td>\n",
              "      <td>48.6</td>\n",
              "      <td>13.9</td>\n",
              "      <td>100.0</td>\n",
              "      <td>18.8</td>\n",
              "      <td>67.2</td>\n",
              "      <td>90.5</td>\n",
              "      <td>51.6</td>\n",
              "      <td>54.3</td>\n",
              "      <td>54.3</td>\n",
              "      <td>26.8</td>\n",
              "      <td>26.8</td>\n",
              "      <td>55.9</td>\n",
              "      <td>80.9</td>\n",
              "      <td>90.4</td>\n",
              "      <td>90.4</td>\n",
              "      <td>100.0</td>\n",
              "      <td>8.9</td>\n",
              "      <td>81.3</td>\n",
              "      <td>80.3</td>\n",
              "      <td>76.8</td>\n",
              "      <td>100.0</td>\n",
              "      <td>NaN</td>\n",
              "      <td>100.0</td>\n",
              "      <td>100.0</td>\n",
              "      <td>14.5</td>\n",
              "      <td>13.5</td>\n",
              "      <td>15.6</td>\n",
              "      <td>NaN</td>\n",
              "      <td>38.9</td>\n",
              "      <td>26.5</td>\n",
              "      <td>52.7</td>\n",
              "      <td>92.6</td>\n",
              "      <td>41.7</td>\n",
              "      <td>74.4</td>\n",
              "      <td>15.0</td>\n",
              "      <td>...</td>\n",
              "      <td>40</td>\n",
              "      <td>26</td>\n",
              "      <td>62</td>\n",
              "      <td>75</td>\n",
              "      <td>75</td>\n",
              "      <td>93</td>\n",
              "      <td>93</td>\n",
              "      <td>41</td>\n",
              "      <td>34</td>\n",
              "      <td>69</td>\n",
              "      <td>70</td>\n",
              "      <td>1.0</td>\n",
              "      <td>154</td>\n",
              "      <td>100.0</td>\n",
              "      <td>83.0</td>\n",
              "      <td>9</td>\n",
              "      <td>1.0</td>\n",
              "      <td>NaN</td>\n",
              "      <td>1.0</td>\n",
              "      <td>1.0</td>\n",
              "      <td>53.0</td>\n",
              "      <td>37.0</td>\n",
              "      <td>63.0</td>\n",
              "      <td>NaN</td>\n",
              "      <td>125</td>\n",
              "      <td>132</td>\n",
              "      <td>123</td>\n",
              "      <td>34.0</td>\n",
              "      <td>128</td>\n",
              "      <td>56</td>\n",
              "      <td>151.0</td>\n",
              "      <td>165</td>\n",
              "      <td>172</td>\n",
              "      <td>46</td>\n",
              "      <td>1</td>\n",
              "      <td>69</td>\n",
              "      <td>169</td>\n",
              "      <td>169</td>\n",
              "      <td>21</td>\n",
              "      <td>21</td>\n",
              "    </tr>\n",
              "    <tr>\n",
              "      <th>4</th>\n",
              "      <td>32</td>\n",
              "      <td>ARG</td>\n",
              "      <td>Argentina</td>\n",
              "      <td>52.2</td>\n",
              "      <td>60.2</td>\n",
              "      <td>56.9</td>\n",
              "      <td>54.7</td>\n",
              "      <td>60.9</td>\n",
              "      <td>48.7</td>\n",
              "      <td>64.7</td>\n",
              "      <td>72.7</td>\n",
              "      <td>59.3</td>\n",
              "      <td>73.1</td>\n",
              "      <td>73.1</td>\n",
              "      <td>44.6</td>\n",
              "      <td>44.6</td>\n",
              "      <td>46.8</td>\n",
              "      <td>49.1</td>\n",
              "      <td>41.7</td>\n",
              "      <td>56.7</td>\n",
              "      <td>43.0</td>\n",
              "      <td>16.2</td>\n",
              "      <td>69.4</td>\n",
              "      <td>64.3</td>\n",
              "      <td>58.9</td>\n",
              "      <td>29.4</td>\n",
              "      <td>27.6</td>\n",
              "      <td>47.3</td>\n",
              "      <td>44.5</td>\n",
              "      <td>3.2</td>\n",
              "      <td>0.7</td>\n",
              "      <td>6.2</td>\n",
              "      <td>2.6</td>\n",
              "      <td>60.2</td>\n",
              "      <td>48.2</td>\n",
              "      <td>88.1</td>\n",
              "      <td>90.7</td>\n",
              "      <td>58.0</td>\n",
              "      <td>90.3</td>\n",
              "      <td>57.8</td>\n",
              "      <td>...</td>\n",
              "      <td>46</td>\n",
              "      <td>48</td>\n",
              "      <td>43</td>\n",
              "      <td>35</td>\n",
              "      <td>35</td>\n",
              "      <td>73</td>\n",
              "      <td>73</td>\n",
              "      <td>80</td>\n",
              "      <td>120</td>\n",
              "      <td>134</td>\n",
              "      <td>115</td>\n",
              "      <td>39.0</td>\n",
              "      <td>127</td>\n",
              "      <td>131.0</td>\n",
              "      <td>112.0</td>\n",
              "      <td>57</td>\n",
              "      <td>112.0</td>\n",
              "      <td>99.0</td>\n",
              "      <td>120.0</td>\n",
              "      <td>102.0</td>\n",
              "      <td>135.0</td>\n",
              "      <td>105.0</td>\n",
              "      <td>115.0</td>\n",
              "      <td>63.0</td>\n",
              "      <td>54</td>\n",
              "      <td>68</td>\n",
              "      <td>46</td>\n",
              "      <td>48.0</td>\n",
              "      <td>95</td>\n",
              "      <td>33</td>\n",
              "      <td>67.0</td>\n",
              "      <td>132</td>\n",
              "      <td>132</td>\n",
              "      <td>88</td>\n",
              "      <td>89</td>\n",
              "      <td>90</td>\n",
              "      <td>2</td>\n",
              "      <td>2</td>\n",
              "      <td>77</td>\n",
              "      <td>77</td>\n",
              "    </tr>\n",
              "  </tbody>\n",
              "</table>\n",
              "<p>5 rows × 141 columns</p>\n",
              "</div>"
            ],
            "text/plain": [
              "   code  iso               country  ...  SNM.rnk.new  WRS.rnk.new  WWT.rnk.new\n",
              "0     4  AFG           Afghanistan  ...           48          134          134\n",
              "1    24  AGO                Angola  ...          123          134          134\n",
              "2     8  ALB               Albania  ...           94           92           92\n",
              "3   784  ARE  United Arab Emirates  ...          169           21           21\n",
              "4    32  ARG             Argentina  ...            2           77           77\n",
              "\n",
              "[5 rows x 141 columns]"
            ]
          },
          "metadata": {
            "tags": []
          },
          "execution_count": 6
        }
      ]
    },
    {
      "cell_type": "markdown",
      "metadata": {
        "id": "2g3zpwTdJvOQ",
        "colab_type": "text"
      },
      "source": [
        "Conozcamos la dimensión del EPI."
      ]
    },
    {
      "cell_type": "code",
      "metadata": {
        "id": "xVZWSX6hJrRB",
        "colab_type": "code",
        "colab": {
          "base_uri": "https://localhost:8080/",
          "height": 34
        },
        "outputId": "a69b2054-7916-4988-a766-895baba237c9"
      },
      "source": [
        "df_epi.shape"
      ],
      "execution_count": 7,
      "outputs": [
        {
          "output_type": "execute_result",
          "data": {
            "text/plain": [
              "(180, 141)"
            ]
          },
          "metadata": {
            "tags": []
          },
          "execution_count": 7
        }
      ]
    },
    {
      "cell_type": "markdown",
      "metadata": {
        "id": "1P1_wREYKNI-",
        "colab_type": "text"
      },
      "source": [
        "Conozcamos el otro dataset, el mismo nos dice que tenemos las regiones, por el titulo, **epi2020resultsregions**"
      ]
    },
    {
      "cell_type": "code",
      "metadata": {
        "id": "nUSq_ZnzFutn",
        "colab_type": "code",
        "colab": {
          "base_uri": "https://localhost:8080/",
          "height": 412
        },
        "outputId": "69ec28a6-9ab7-476f-a63d-cd50836a696e"
      },
      "source": [
        "df_epi_region = pd.read_csv('epi2020resultsregions20200604.csv')\n",
        "df_epi_region.head(5)"
      ],
      "execution_count": 8,
      "outputs": [
        {
          "output_type": "execute_result",
          "data": {
            "text/html": [
              "<div>\n",
              "<style scoped>\n",
              "    .dataframe tbody tr th:only-of-type {\n",
              "        vertical-align: middle;\n",
              "    }\n",
              "\n",
              "    .dataframe tbody tr th {\n",
              "        vertical-align: top;\n",
              "    }\n",
              "\n",
              "    .dataframe thead th {\n",
              "        text-align: right;\n",
              "    }\n",
              "</style>\n",
              "<table border=\"1\" class=\"dataframe\">\n",
              "  <thead>\n",
              "    <tr style=\"text-align: right;\">\n",
              "      <th></th>\n",
              "      <th>code</th>\n",
              "      <th>iso</th>\n",
              "      <th>country</th>\n",
              "      <th>region</th>\n",
              "      <th>EPI.new</th>\n",
              "      <th>HLT.new</th>\n",
              "      <th>AIR.new</th>\n",
              "      <th>PMD.new</th>\n",
              "      <th>HAD.new</th>\n",
              "      <th>OZD.new</th>\n",
              "      <th>H2O.new</th>\n",
              "      <th>USD.new</th>\n",
              "      <th>UWD.new</th>\n",
              "      <th>HMT.new</th>\n",
              "      <th>PBD.new</th>\n",
              "      <th>WMG.new</th>\n",
              "      <th>MSW.new</th>\n",
              "      <th>ECO.new</th>\n",
              "      <th>BDH.new</th>\n",
              "      <th>TBN.new</th>\n",
              "      <th>TBG.new</th>\n",
              "      <th>MPA.new</th>\n",
              "      <th>PAR.new</th>\n",
              "      <th>SHI.new</th>\n",
              "      <th>SPI.new</th>\n",
              "      <th>BHV.new</th>\n",
              "      <th>ECS.new</th>\n",
              "      <th>TCL.new</th>\n",
              "      <th>GRL.new</th>\n",
              "      <th>WTL.new</th>\n",
              "      <th>FSH.new</th>\n",
              "      <th>FSS.new</th>\n",
              "      <th>RMS.new</th>\n",
              "      <th>FGT.new</th>\n",
              "      <th>CCH.new</th>\n",
              "      <th>CDA.new</th>\n",
              "      <th>CHA.new</th>\n",
              "      <th>FGA.new</th>\n",
              "      <th>NDA.new</th>\n",
              "      <th>BCA.new</th>\n",
              "      <th>...</th>\n",
              "      <th>FSH.rgn.mean</th>\n",
              "      <th>FSH.rgn.rank</th>\n",
              "      <th>FSS.rgn.mean</th>\n",
              "      <th>FSS.rgn.rank</th>\n",
              "      <th>RMS.rgn.mean</th>\n",
              "      <th>RMS.rgn.rank</th>\n",
              "      <th>FGT.rgn.mean</th>\n",
              "      <th>FGT.rgn.rank</th>\n",
              "      <th>CCH.rgn.mean</th>\n",
              "      <th>CCH.rgn.rank</th>\n",
              "      <th>CDA.rgn.mean</th>\n",
              "      <th>CDA.rgn.rank</th>\n",
              "      <th>CHA.rgn.mean</th>\n",
              "      <th>CHA.rgn.rank</th>\n",
              "      <th>FGA.rgn.mean</th>\n",
              "      <th>FGA.rgn.rank</th>\n",
              "      <th>NDA.rgn.mean</th>\n",
              "      <th>NDA.rgn.rank</th>\n",
              "      <th>BCA.rgn.mean</th>\n",
              "      <th>BCA.rgn.rank</th>\n",
              "      <th>LCB.rgn.mean</th>\n",
              "      <th>LCB.rgn.rank</th>\n",
              "      <th>GIB.rgn.mean</th>\n",
              "      <th>GIB.rgn.rank</th>\n",
              "      <th>GHP.rgn.mean</th>\n",
              "      <th>GHP.rgn.rank</th>\n",
              "      <th>APE.rgn.mean</th>\n",
              "      <th>APE.rgn.rank</th>\n",
              "      <th>SDA.rgn.mean</th>\n",
              "      <th>SDA.rgn.rank</th>\n",
              "      <th>NXA.rgn.mean</th>\n",
              "      <th>NXA.rgn.rank</th>\n",
              "      <th>AGR.rgn.mean</th>\n",
              "      <th>AGR.rgn.rank</th>\n",
              "      <th>SNM.rgn.mean</th>\n",
              "      <th>SNM.rgn.rank</th>\n",
              "      <th>WRS.rgn.mean</th>\n",
              "      <th>WRS.rgn.rank</th>\n",
              "      <th>WWT.rgn.mean</th>\n",
              "      <th>WWT.rgn.rank</th>\n",
              "    </tr>\n",
              "  </thead>\n",
              "  <tbody>\n",
              "    <tr>\n",
              "      <th>0</th>\n",
              "      <td>4</td>\n",
              "      <td>AFG</td>\n",
              "      <td>Afghanistan</td>\n",
              "      <td>Southern Asia</td>\n",
              "      <td>25.5</td>\n",
              "      <td>20.0</td>\n",
              "      <td>17.7</td>\n",
              "      <td>25.4</td>\n",
              "      <td>7.3</td>\n",
              "      <td>16.9</td>\n",
              "      <td>28.0</td>\n",
              "      <td>28.5</td>\n",
              "      <td>27.7</td>\n",
              "      <td>0.0</td>\n",
              "      <td>0.0</td>\n",
              "      <td>0.0</td>\n",
              "      <td>0.0</td>\n",
              "      <td>29.2</td>\n",
              "      <td>21.9</td>\n",
              "      <td>0.6</td>\n",
              "      <td>1.3</td>\n",
              "      <td>NaN</td>\n",
              "      <td>5.0</td>\n",
              "      <td>90.7</td>\n",
              "      <td>18.0</td>\n",
              "      <td>57.7</td>\n",
              "      <td>93.6</td>\n",
              "      <td>95.0</td>\n",
              "      <td>60.9</td>\n",
              "      <td>100.0</td>\n",
              "      <td>NaN</td>\n",
              "      <td>NaN</td>\n",
              "      <td>NaN</td>\n",
              "      <td>NaN</td>\n",
              "      <td>22.2</td>\n",
              "      <td>0.0</td>\n",
              "      <td>66.1</td>\n",
              "      <td>NaN</td>\n",
              "      <td>34.1</td>\n",
              "      <td>15.7</td>\n",
              "      <td>...</td>\n",
              "      <td>20.400000</td>\n",
              "      <td>6</td>\n",
              "      <td>15.660000</td>\n",
              "      <td>6</td>\n",
              "      <td>18.980000</td>\n",
              "      <td>6</td>\n",
              "      <td>32.600000</td>\n",
              "      <td>5</td>\n",
              "      <td>32.562500</td>\n",
              "      <td>8</td>\n",
              "      <td>14.437500</td>\n",
              "      <td>6</td>\n",
              "      <td>67.750000</td>\n",
              "      <td>5</td>\n",
              "      <td>93.450000</td>\n",
              "      <td>4</td>\n",
              "      <td>49.837500</td>\n",
              "      <td>6</td>\n",
              "      <td>40.175000</td>\n",
              "      <td>7</td>\n",
              "      <td>56.857143</td>\n",
              "      <td>1</td>\n",
              "      <td>45.912500</td>\n",
              "      <td>3</td>\n",
              "      <td>77.700000</td>\n",
              "      <td>1</td>\n",
              "      <td>31.700000</td>\n",
              "      <td>8</td>\n",
              "      <td>36.650000</td>\n",
              "      <td>8</td>\n",
              "      <td>26.737500</td>\n",
              "      <td>8</td>\n",
              "      <td>39.250000</td>\n",
              "      <td>1</td>\n",
              "      <td>39.250000</td>\n",
              "      <td>1</td>\n",
              "      <td>0.825000</td>\n",
              "      <td>4</td>\n",
              "      <td>0.825000</td>\n",
              "      <td>4</td>\n",
              "    </tr>\n",
              "    <tr>\n",
              "      <th>1</th>\n",
              "      <td>24</td>\n",
              "      <td>AGO</td>\n",
              "      <td>Angola</td>\n",
              "      <td>Sub-Saharan Africa</td>\n",
              "      <td>29.7</td>\n",
              "      <td>20.4</td>\n",
              "      <td>26.8</td>\n",
              "      <td>32.6</td>\n",
              "      <td>17.8</td>\n",
              "      <td>34.4</td>\n",
              "      <td>12.8</td>\n",
              "      <td>14.1</td>\n",
              "      <td>11.9</td>\n",
              "      <td>37.3</td>\n",
              "      <td>37.3</td>\n",
              "      <td>0.0</td>\n",
              "      <td>0.0</td>\n",
              "      <td>35.9</td>\n",
              "      <td>39.3</td>\n",
              "      <td>34.1</td>\n",
              "      <td>36.6</td>\n",
              "      <td>0.0</td>\n",
              "      <td>29.8</td>\n",
              "      <td>88.3</td>\n",
              "      <td>66.6</td>\n",
              "      <td>67.2</td>\n",
              "      <td>33.7</td>\n",
              "      <td>31.2</td>\n",
              "      <td>49.3</td>\n",
              "      <td>63.5</td>\n",
              "      <td>14.7</td>\n",
              "      <td>16.9</td>\n",
              "      <td>21.3</td>\n",
              "      <td>4.4</td>\n",
              "      <td>49.0</td>\n",
              "      <td>30.3</td>\n",
              "      <td>100.0</td>\n",
              "      <td>89.3</td>\n",
              "      <td>63.2</td>\n",
              "      <td>7.1</td>\n",
              "      <td>...</td>\n",
              "      <td>12.293333</td>\n",
              "      <td>9</td>\n",
              "      <td>13.741667</td>\n",
              "      <td>6</td>\n",
              "      <td>13.258621</td>\n",
              "      <td>6</td>\n",
              "      <td>5.890000</td>\n",
              "      <td>5</td>\n",
              "      <td>37.826087</td>\n",
              "      <td>10</td>\n",
              "      <td>24.819565</td>\n",
              "      <td>17</td>\n",
              "      <td>54.528261</td>\n",
              "      <td>1</td>\n",
              "      <td>89.783333</td>\n",
              "      <td>13</td>\n",
              "      <td>53.023913</td>\n",
              "      <td>16</td>\n",
              "      <td>42.356522</td>\n",
              "      <td>44</td>\n",
              "      <td>37.332558</td>\n",
              "      <td>28</td>\n",
              "      <td>54.189130</td>\n",
              "      <td>22</td>\n",
              "      <td>75.610870</td>\n",
              "      <td>36</td>\n",
              "      <td>46.056522</td>\n",
              "      <td>44</td>\n",
              "      <td>50.158696</td>\n",
              "      <td>43</td>\n",
              "      <td>41.952174</td>\n",
              "      <td>45</td>\n",
              "      <td>32.882609</td>\n",
              "      <td>31</td>\n",
              "      <td>32.882609</td>\n",
              "      <td>31</td>\n",
              "      <td>1.519565</td>\n",
              "      <td>22</td>\n",
              "      <td>1.519565</td>\n",
              "      <td>22</td>\n",
              "    </tr>\n",
              "    <tr>\n",
              "      <th>2</th>\n",
              "      <td>8</td>\n",
              "      <td>ALB</td>\n",
              "      <td>Albania</td>\n",
              "      <td>Eastern Europe</td>\n",
              "      <td>49.0</td>\n",
              "      <td>44.5</td>\n",
              "      <td>41.2</td>\n",
              "      <td>44.2</td>\n",
              "      <td>34.6</td>\n",
              "      <td>60.1</td>\n",
              "      <td>54.0</td>\n",
              "      <td>59.7</td>\n",
              "      <td>50.2</td>\n",
              "      <td>46.1</td>\n",
              "      <td>46.1</td>\n",
              "      <td>0.0</td>\n",
              "      <td>0.0</td>\n",
              "      <td>52.0</td>\n",
              "      <td>68.2</td>\n",
              "      <td>100.0</td>\n",
              "      <td>100.0</td>\n",
              "      <td>14.7</td>\n",
              "      <td>38.6</td>\n",
              "      <td>82.1</td>\n",
              "      <td>92.2</td>\n",
              "      <td>39.6</td>\n",
              "      <td>43.2</td>\n",
              "      <td>41.1</td>\n",
              "      <td>70.2</td>\n",
              "      <td>54.4</td>\n",
              "      <td>8.9</td>\n",
              "      <td>NaN</td>\n",
              "      <td>16.2</td>\n",
              "      <td>0.4</td>\n",
              "      <td>56.8</td>\n",
              "      <td>41.2</td>\n",
              "      <td>79.2</td>\n",
              "      <td>89.4</td>\n",
              "      <td>61.9</td>\n",
              "      <td>100.0</td>\n",
              "      <td>...</td>\n",
              "      <td>15.633333</td>\n",
              "      <td>9</td>\n",
              "      <td>11.628571</td>\n",
              "      <td>18</td>\n",
              "      <td>23.833333</td>\n",
              "      <td>8</td>\n",
              "      <td>5.745455</td>\n",
              "      <td>11</td>\n",
              "      <td>67.310526</td>\n",
              "      <td>18</td>\n",
              "      <td>60.663158</td>\n",
              "      <td>18</td>\n",
              "      <td>85.726316</td>\n",
              "      <td>14</td>\n",
              "      <td>89.010526</td>\n",
              "      <td>12</td>\n",
              "      <td>70.405263</td>\n",
              "      <td>13</td>\n",
              "      <td>79.115789</td>\n",
              "      <td>1</td>\n",
              "      <td>58.131579</td>\n",
              "      <td>1</td>\n",
              "      <td>49.226316</td>\n",
              "      <td>16</td>\n",
              "      <td>31.626316</td>\n",
              "      <td>1</td>\n",
              "      <td>92.736842</td>\n",
              "      <td>1</td>\n",
              "      <td>94.284211</td>\n",
              "      <td>1</td>\n",
              "      <td>91.221053</td>\n",
              "      <td>1</td>\n",
              "      <td>53.094737</td>\n",
              "      <td>16</td>\n",
              "      <td>53.094737</td>\n",
              "      <td>16</td>\n",
              "      <td>41.731579</td>\n",
              "      <td>16</td>\n",
              "      <td>41.731579</td>\n",
              "      <td>16</td>\n",
              "    </tr>\n",
              "    <tr>\n",
              "      <th>3</th>\n",
              "      <td>784</td>\n",
              "      <td>ARE</td>\n",
              "      <td>United Arab Emirates</td>\n",
              "      <td>Greater Middle East</td>\n",
              "      <td>55.6</td>\n",
              "      <td>55.2</td>\n",
              "      <td>48.6</td>\n",
              "      <td>13.9</td>\n",
              "      <td>100.0</td>\n",
              "      <td>18.8</td>\n",
              "      <td>67.2</td>\n",
              "      <td>90.5</td>\n",
              "      <td>51.6</td>\n",
              "      <td>54.3</td>\n",
              "      <td>54.3</td>\n",
              "      <td>26.8</td>\n",
              "      <td>26.8</td>\n",
              "      <td>55.9</td>\n",
              "      <td>80.9</td>\n",
              "      <td>90.4</td>\n",
              "      <td>90.4</td>\n",
              "      <td>100.0</td>\n",
              "      <td>8.9</td>\n",
              "      <td>81.3</td>\n",
              "      <td>80.3</td>\n",
              "      <td>76.8</td>\n",
              "      <td>100.0</td>\n",
              "      <td>NaN</td>\n",
              "      <td>100.0</td>\n",
              "      <td>100.0</td>\n",
              "      <td>14.5</td>\n",
              "      <td>13.5</td>\n",
              "      <td>15.6</td>\n",
              "      <td>NaN</td>\n",
              "      <td>38.9</td>\n",
              "      <td>26.5</td>\n",
              "      <td>52.7</td>\n",
              "      <td>92.6</td>\n",
              "      <td>41.7</td>\n",
              "      <td>74.4</td>\n",
              "      <td>...</td>\n",
              "      <td>15.471429</td>\n",
              "      <td>7</td>\n",
              "      <td>14.122222</td>\n",
              "      <td>4</td>\n",
              "      <td>17.207143</td>\n",
              "      <td>6</td>\n",
              "      <td>5.750000</td>\n",
              "      <td>14</td>\n",
              "      <td>47.825000</td>\n",
              "      <td>12</td>\n",
              "      <td>42.993750</td>\n",
              "      <td>13</td>\n",
              "      <td>50.293750</td>\n",
              "      <td>8</td>\n",
              "      <td>93.154545</td>\n",
              "      <td>5</td>\n",
              "      <td>43.431250</td>\n",
              "      <td>9</td>\n",
              "      <td>46.843750</td>\n",
              "      <td>4</td>\n",
              "      <td>34.030769</td>\n",
              "      <td>10</td>\n",
              "      <td>51.406250</td>\n",
              "      <td>16</td>\n",
              "      <td>32.775000</td>\n",
              "      <td>12</td>\n",
              "      <td>68.350000</td>\n",
              "      <td>4</td>\n",
              "      <td>76.425000</td>\n",
              "      <td>1</td>\n",
              "      <td>60.268750</td>\n",
              "      <td>7</td>\n",
              "      <td>36.512500</td>\n",
              "      <td>16</td>\n",
              "      <td>36.512500</td>\n",
              "      <td>16</td>\n",
              "      <td>36.700000</td>\n",
              "      <td>3</td>\n",
              "      <td>36.700000</td>\n",
              "      <td>3</td>\n",
              "    </tr>\n",
              "    <tr>\n",
              "      <th>4</th>\n",
              "      <td>32</td>\n",
              "      <td>ARG</td>\n",
              "      <td>Argentina</td>\n",
              "      <td>Latin America &amp; Caribbean</td>\n",
              "      <td>52.2</td>\n",
              "      <td>60.2</td>\n",
              "      <td>56.9</td>\n",
              "      <td>54.7</td>\n",
              "      <td>60.9</td>\n",
              "      <td>48.7</td>\n",
              "      <td>64.7</td>\n",
              "      <td>72.7</td>\n",
              "      <td>59.3</td>\n",
              "      <td>73.1</td>\n",
              "      <td>73.1</td>\n",
              "      <td>44.6</td>\n",
              "      <td>44.6</td>\n",
              "      <td>46.8</td>\n",
              "      <td>49.1</td>\n",
              "      <td>41.7</td>\n",
              "      <td>56.7</td>\n",
              "      <td>43.0</td>\n",
              "      <td>16.2</td>\n",
              "      <td>69.4</td>\n",
              "      <td>64.3</td>\n",
              "      <td>58.9</td>\n",
              "      <td>29.4</td>\n",
              "      <td>27.6</td>\n",
              "      <td>47.3</td>\n",
              "      <td>44.5</td>\n",
              "      <td>3.2</td>\n",
              "      <td>0.7</td>\n",
              "      <td>6.2</td>\n",
              "      <td>2.6</td>\n",
              "      <td>60.2</td>\n",
              "      <td>48.2</td>\n",
              "      <td>88.1</td>\n",
              "      <td>90.7</td>\n",
              "      <td>58.0</td>\n",
              "      <td>90.3</td>\n",
              "      <td>...</td>\n",
              "      <td>13.416667</td>\n",
              "      <td>30</td>\n",
              "      <td>9.228000</td>\n",
              "      <td>22</td>\n",
              "      <td>15.534483</td>\n",
              "      <td>28</td>\n",
              "      <td>15.114286</td>\n",
              "      <td>7</td>\n",
              "      <td>51.653125</td>\n",
              "      <td>7</td>\n",
              "      <td>44.840625</td>\n",
              "      <td>14</td>\n",
              "      <td>65.156250</td>\n",
              "      <td>8</td>\n",
              "      <td>90.150000</td>\n",
              "      <td>8</td>\n",
              "      <td>58.128125</td>\n",
              "      <td>19</td>\n",
              "      <td>45.500000</td>\n",
              "      <td>4</td>\n",
              "      <td>61.293750</td>\n",
              "      <td>19</td>\n",
              "      <td>39.106250</td>\n",
              "      <td>21</td>\n",
              "      <td>50.793750</td>\n",
              "      <td>29</td>\n",
              "      <td>50.521875</td>\n",
              "      <td>12</td>\n",
              "      <td>55.718750</td>\n",
              "      <td>11</td>\n",
              "      <td>45.303125</td>\n",
              "      <td>14</td>\n",
              "      <td>32.653125</td>\n",
              "      <td>1</td>\n",
              "      <td>32.653125</td>\n",
              "      <td>1</td>\n",
              "      <td>9.681250</td>\n",
              "      <td>10</td>\n",
              "      <td>9.681250</td>\n",
              "      <td>10</td>\n",
              "    </tr>\n",
              "  </tbody>\n",
              "</table>\n",
              "<p>5 rows × 142 columns</p>\n",
              "</div>"
            ],
            "text/plain": [
              "   code  iso               country  ... WRS.rgn.rank  WWT.rgn.mean  WWT.rgn.rank\n",
              "0     4  AFG           Afghanistan  ...            4      0.825000             4\n",
              "1    24  AGO                Angola  ...           22      1.519565            22\n",
              "2     8  ALB               Albania  ...           16     41.731579            16\n",
              "3   784  ARE  United Arab Emirates  ...            3     36.700000             3\n",
              "4    32  ARG             Argentina  ...           10      9.681250            10\n",
              "\n",
              "[5 rows x 142 columns]"
            ]
          },
          "metadata": {
            "tags": []
          },
          "execution_count": 8
        }
      ]
    },
    {
      "cell_type": "code",
      "metadata": {
        "id": "RIQ_cB_FJaAf",
        "colab_type": "code",
        "colab": {
          "base_uri": "https://localhost:8080/",
          "height": 34
        },
        "outputId": "d05cc60a-8459-44f3-ce0a-c529f12dbca1"
      },
      "source": [
        "df_epi_region.shape"
      ],
      "execution_count": 9,
      "outputs": [
        {
          "output_type": "execute_result",
          "data": {
            "text/plain": [
              "(180, 142)"
            ]
          },
          "metadata": {
            "tags": []
          },
          "execution_count": 9
        }
      ]
    },
    {
      "cell_type": "markdown",
      "metadata": {
        "id": "uTgzFmd2Kf16",
        "colab_type": "text"
      },
      "source": [
        "Tiene 180 filas y 142 columnas. "
      ]
    },
    {
      "cell_type": "markdown",
      "metadata": {
        "id": "dcbnxLCBAeKB",
        "colab_type": "text"
      },
      "source": [
        "Obtengamos una lista de todas las columnas que tiene nuestro dataset. "
      ]
    },
    {
      "cell_type": "code",
      "metadata": {
        "id": "x9FRH4520j5J",
        "colab_type": "code",
        "colab": {}
      },
      "source": [
        "list(df_epi_region.columns)"
      ],
      "execution_count": null,
      "outputs": []
    },
    {
      "cell_type": "markdown",
      "metadata": {
        "id": "21r8RjoSAyWz",
        "colab_type": "text"
      },
      "source": [
        "Vemos que son muchas columnas. Vamos a buscar que significa cada abreviación."
      ]
    },
    {
      "cell_type": "markdown",
      "metadata": {
        "id": "1rC6E1W8CRKJ",
        "colab_type": "text"
      },
      "source": [
        "En la siguiente tabla se puede ver mas información acerca de los indicadores anteriores. \n",
        "\n",
        "La tabla se encuentra en un pdf en [EPI Downloads](https://epi.yale.edu/downloads).\n",
        "\n",
        "La misma fue obtenida del siguiente enlace:\n",
        "[Technical Appendix](https://epi.yale.edu/downloads/epi2020technicalappendix20200803.pdf)\n",
        "\n",
        "![Tabla EPI](https://imgur.com/fzFm1cZ.png)\n",
        "\n",
        "El [índice de rendimiento ambiental o índice de desempeño ambiental](https://es.wikipedia.org/wiki/%C3%8Dndice_de_desempe%C3%B1o_ambiental) (Inglés: Environmental Performance Index, siglas EPI) es un método para cuantificar y clasificar numéricamente el desempeño ambiental de las políticas de un país. \n",
        "\n",
        "Se puede observar 2 grandes indicadores que contienen a un total de 11 y que estos ultimos contienen un total de 32. \n",
        "\n",
        "Los 2 indicadores que contienen a los demas son: \n",
        "\n",
        "-----------------------------\n",
        "\n",
        "1. **El Environmental Health (HLT) tiene un 40% de peso en el Environment Performance Index (EPI).**\n",
        "\n",
        "Este indicador nos cuantifica la salud ambiental de un pais. La salud ambiental nos dice los factores en el medio ambiente que pueden potencialmente afectar adversamente la salud de presentes y futuras generaciones.\n",
        "\n",
        "Los indicadores que afectan a este son:\n",
        "- La [calidad de aire](https://es.wikipedia.org/wiki/Calidad_del_aire) (Air Quality). Peso de 50%.\n",
        "- El [saneamiento básico](https://es.wikipedia.org/wiki/Saneamiento_ambiental) y el [agua potable](https://es.wikipedia.org/wiki/Agua_potable) (Sanitation and Dringking water). Peso de 40%.\n",
        "- Metales pesados (Heavy Metals). Peso de 5%. ([Lead Exposure](https://en.wikipedia.org/wiki/Lead_poisoning))\n",
        "- [Gestion de residuos](https://es.wikipedia.org/wiki/Gesti%C3%B3n_de_residuos) (Waste Management). Peso de 5%.\n",
        "\n",
        "---------------------\n",
        "\n",
        "2. **El Ecosystem Vitality (ECO) tiene un 60% de peso en el Environment Performance Index (EPI).**\n",
        "\n",
        "La vitalidad del [ecosistema](https://es.wikipedia.org/wiki/Ecosistema) se refiere a la actividad o energía para vivir o desarrollarse del mismo. Si tiene una baja vitalidad, es un indicador que el pais no es amigable con su ecosistema. \n",
        "\n",
        "Los indicadores que afectan a ese son:\n",
        "\n",
        "- [Biodiversidad](https://es.wikipedia.org/wiki/Biodiversidad) y [habitat](https://es.wikipedia.org/wiki/H%C3%A1bitat) (Biodiversity & Habitat). Peso de 25%.\n",
        "- [Servicios del ecosistema](https://es.wikipedia.org/wiki/Servicios_del_ecosistema) (Ecosystem Services). Peso de 10%.\n",
        "- Pesca ([Fisheries](https://en.wikipedia.org/wiki/Fishery)). Peso de 10%.\n",
        "- [Cambio climatico](https://es.wikipedia.org/wiki/Cambio_clim%C3%A1tico) (Climate Change). Peso de 40%.\n",
        "- Emisiones contaminantes ([Pollution Emissions](https://en.wikipedia.org/wiki/Air_pollution)). Peso de 5%.\n",
        "- [Agricultura](https://es.wikipedia.org/wiki/Agricultura) (Agriculture). Peso de 5%.\n",
        "- [Recursos hídricos](https://es.wikipedia.org/wiki/Recurso_h%C3%ADdrico). (Water Resources). Peso de 5%.\n",
        "\n",
        "-----------------\n",
        "\n",
        "Por lo tanto para calcular el EPI se utiliza una [media ponderada](https://es.wikipedia.org/wiki/Media_ponderada) de los 2 indicadores principales. A su vez se calcula una media ponderada con los indicadores internos de ambos. "
      ]
    },
    {
      "cell_type": "code",
      "metadata": {
        "id": "NJdTKw_Y7SR-",
        "colab_type": "code",
        "colab": {
          "base_uri": "https://localhost:8080/",
          "height": 424
        },
        "outputId": "2ed2e18a-862d-4100-833f-c76c684e0439"
      },
      "source": [
        "df_epi_region[['country', 'region', 'EPI.rgn.rank', 'EPI.rgn.mean', 'EPI.new', 'HLT.new', 'ECO.new']]"
      ],
      "execution_count": 11,
      "outputs": [
        {
          "output_type": "execute_result",
          "data": {
            "text/html": [
              "<div>\n",
              "<style scoped>\n",
              "    .dataframe tbody tr th:only-of-type {\n",
              "        vertical-align: middle;\n",
              "    }\n",
              "\n",
              "    .dataframe tbody tr th {\n",
              "        vertical-align: top;\n",
              "    }\n",
              "\n",
              "    .dataframe thead th {\n",
              "        text-align: right;\n",
              "    }\n",
              "</style>\n",
              "<table border=\"1\" class=\"dataframe\">\n",
              "  <thead>\n",
              "    <tr style=\"text-align: right;\">\n",
              "      <th></th>\n",
              "      <th>country</th>\n",
              "      <th>region</th>\n",
              "      <th>EPI.rgn.rank</th>\n",
              "      <th>EPI.rgn.mean</th>\n",
              "      <th>EPI.new</th>\n",
              "      <th>HLT.new</th>\n",
              "      <th>ECO.new</th>\n",
              "    </tr>\n",
              "  </thead>\n",
              "  <tbody>\n",
              "    <tr>\n",
              "      <th>0</th>\n",
              "      <td>Afghanistan</td>\n",
              "      <td>Southern Asia</td>\n",
              "      <td>8</td>\n",
              "      <td>32.725000</td>\n",
              "      <td>25.5</td>\n",
              "      <td>20.0</td>\n",
              "      <td>29.2</td>\n",
              "    </tr>\n",
              "    <tr>\n",
              "      <th>1</th>\n",
              "      <td>Angola</td>\n",
              "      <td>Sub-Saharan Africa</td>\n",
              "      <td>31</td>\n",
              "      <td>33.202174</td>\n",
              "      <td>29.7</td>\n",
              "      <td>20.4</td>\n",
              "      <td>35.9</td>\n",
              "    </tr>\n",
              "    <tr>\n",
              "      <th>2</th>\n",
              "      <td>Albania</td>\n",
              "      <td>Eastern Europe</td>\n",
              "      <td>16</td>\n",
              "      <td>59.910526</td>\n",
              "      <td>49.0</td>\n",
              "      <td>44.5</td>\n",
              "      <td>52.0</td>\n",
              "    </tr>\n",
              "    <tr>\n",
              "      <th>3</th>\n",
              "      <td>United Arab Emirates</td>\n",
              "      <td>Greater Middle East</td>\n",
              "      <td>2</td>\n",
              "      <td>46.487500</td>\n",
              "      <td>55.6</td>\n",
              "      <td>55.2</td>\n",
              "      <td>55.9</td>\n",
              "    </tr>\n",
              "    <tr>\n",
              "      <th>4</th>\n",
              "      <td>Argentina</td>\n",
              "      <td>Latin America &amp; Caribbean</td>\n",
              "      <td>5</td>\n",
              "      <td>45.568750</td>\n",
              "      <td>52.2</td>\n",
              "      <td>60.2</td>\n",
              "      <td>46.8</td>\n",
              "    </tr>\n",
              "    <tr>\n",
              "      <th>...</th>\n",
              "      <td>...</td>\n",
              "      <td>...</td>\n",
              "      <td>...</td>\n",
              "      <td>...</td>\n",
              "      <td>...</td>\n",
              "      <td>...</td>\n",
              "      <td>...</td>\n",
              "    </tr>\n",
              "    <tr>\n",
              "      <th>175</th>\n",
              "      <td>Vanuatu</td>\n",
              "      <td>Asia-Pacific</td>\n",
              "      <td>23</td>\n",
              "      <td>40.768000</td>\n",
              "      <td>28.9</td>\n",
              "      <td>26.7</td>\n",
              "      <td>30.4</td>\n",
              "    </tr>\n",
              "    <tr>\n",
              "      <th>176</th>\n",
              "      <td>Samoa</td>\n",
              "      <td>Asia-Pacific</td>\n",
              "      <td>12</td>\n",
              "      <td>40.768000</td>\n",
              "      <td>37.3</td>\n",
              "      <td>42.4</td>\n",
              "      <td>33.9</td>\n",
              "    </tr>\n",
              "    <tr>\n",
              "      <th>177</th>\n",
              "      <td>South Africa</td>\n",
              "      <td>Sub-Saharan Africa</td>\n",
              "      <td>4</td>\n",
              "      <td>33.202174</td>\n",
              "      <td>43.1</td>\n",
              "      <td>31.1</td>\n",
              "      <td>51.0</td>\n",
              "    </tr>\n",
              "    <tr>\n",
              "      <th>178</th>\n",
              "      <td>Zambia</td>\n",
              "      <td>Sub-Saharan Africa</td>\n",
              "      <td>15</td>\n",
              "      <td>33.202174</td>\n",
              "      <td>34.7</td>\n",
              "      <td>21.0</td>\n",
              "      <td>43.9</td>\n",
              "    </tr>\n",
              "    <tr>\n",
              "      <th>179</th>\n",
              "      <td>Zimbabwe</td>\n",
              "      <td>Sub-Saharan Africa</td>\n",
              "      <td>11</td>\n",
              "      <td>33.202174</td>\n",
              "      <td>37.0</td>\n",
              "      <td>22.5</td>\n",
              "      <td>46.7</td>\n",
              "    </tr>\n",
              "  </tbody>\n",
              "</table>\n",
              "<p>180 rows × 7 columns</p>\n",
              "</div>"
            ],
            "text/plain": [
              "                  country                     region  ...  HLT.new  ECO.new\n",
              "0             Afghanistan              Southern Asia  ...     20.0     29.2\n",
              "1                  Angola         Sub-Saharan Africa  ...     20.4     35.9\n",
              "2                 Albania             Eastern Europe  ...     44.5     52.0\n",
              "3    United Arab Emirates        Greater Middle East  ...     55.2     55.9\n",
              "4               Argentina  Latin America & Caribbean  ...     60.2     46.8\n",
              "..                    ...                        ...  ...      ...      ...\n",
              "175               Vanuatu               Asia-Pacific  ...     26.7     30.4\n",
              "176                 Samoa               Asia-Pacific  ...     42.4     33.9\n",
              "177          South Africa         Sub-Saharan Africa  ...     31.1     51.0\n",
              "178                Zambia         Sub-Saharan Africa  ...     21.0     43.9\n",
              "179              Zimbabwe         Sub-Saharan Africa  ...     22.5     46.7\n",
              "\n",
              "[180 rows x 7 columns]"
            ]
          },
          "metadata": {
            "tags": []
          },
          "execution_count": 11
        }
      ]
    },
    {
      "cell_type": "code",
      "metadata": {
        "id": "PTP9FF6IKemt",
        "colab_type": "code",
        "colab": {
          "base_uri": "https://localhost:8080/",
          "height": 412
        },
        "outputId": "0e339602-12e5-467b-fa83-61bd9f552163"
      },
      "source": [
        "df_epi_group = pd.read_csv('epi2020resultsgroups20200604.csv')\n",
        "df_epi_group.head(5)"
      ],
      "execution_count": 12,
      "outputs": [
        {
          "output_type": "execute_result",
          "data": {
            "text/html": [
              "<div>\n",
              "<style scoped>\n",
              "    .dataframe tbody tr th:only-of-type {\n",
              "        vertical-align: middle;\n",
              "    }\n",
              "\n",
              "    .dataframe tbody tr th {\n",
              "        vertical-align: top;\n",
              "    }\n",
              "\n",
              "    .dataframe thead th {\n",
              "        text-align: right;\n",
              "    }\n",
              "</style>\n",
              "<table border=\"1\" class=\"dataframe\">\n",
              "  <thead>\n",
              "    <tr style=\"text-align: right;\">\n",
              "      <th></th>\n",
              "      <th>code</th>\n",
              "      <th>iso</th>\n",
              "      <th>country</th>\n",
              "      <th>region</th>\n",
              "      <th>ldc</th>\n",
              "      <th>arableague</th>\n",
              "      <th>asean</th>\n",
              "      <th>comwealth</th>\n",
              "      <th>eu27</th>\n",
              "      <th>g20</th>\n",
              "      <th>franco</th>\n",
              "      <th>oecd</th>\n",
              "      <th>oei</th>\n",
              "      <th>oic</th>\n",
              "      <th>opec</th>\n",
              "      <th>emmrkt</th>\n",
              "      <th>sids</th>\n",
              "      <th>lldc</th>\n",
              "      <th>EPI.new</th>\n",
              "      <th>HLT.new</th>\n",
              "      <th>AIR.new</th>\n",
              "      <th>PMD.new</th>\n",
              "      <th>HAD.new</th>\n",
              "      <th>OZD.new</th>\n",
              "      <th>H2O.new</th>\n",
              "      <th>USD.new</th>\n",
              "      <th>UWD.new</th>\n",
              "      <th>HMT.new</th>\n",
              "      <th>PBD.new</th>\n",
              "      <th>WMG.new</th>\n",
              "      <th>MSW.new</th>\n",
              "      <th>ECO.new</th>\n",
              "      <th>BDH.new</th>\n",
              "      <th>TBN.new</th>\n",
              "      <th>TBG.new</th>\n",
              "      <th>MPA.new</th>\n",
              "      <th>PAR.new</th>\n",
              "      <th>SHI.new</th>\n",
              "      <th>SPI.new</th>\n",
              "      <th>BHV.new</th>\n",
              "      <th>...</th>\n",
              "      <th>WRS.asean.rank</th>\n",
              "      <th>WRS.comwealth.rank</th>\n",
              "      <th>WRS.eu27.rank</th>\n",
              "      <th>WRS.g20.rank</th>\n",
              "      <th>WRS.franco.rank</th>\n",
              "      <th>WRS.oecd.rank</th>\n",
              "      <th>WRS.oei.rank</th>\n",
              "      <th>WRS.oic.rank</th>\n",
              "      <th>WRS.opec.rank</th>\n",
              "      <th>WRS.emmrkt.rank</th>\n",
              "      <th>WRS.sids.rank</th>\n",
              "      <th>WRS.lldc.rank</th>\n",
              "      <th>WWT.ldc.mean</th>\n",
              "      <th>WWT.arableague.mean</th>\n",
              "      <th>WWT.asean.mean</th>\n",
              "      <th>WWT.comwealth.mean</th>\n",
              "      <th>WWT.eu27.mean</th>\n",
              "      <th>WWT.g20.mean</th>\n",
              "      <th>WWT.franco.mean</th>\n",
              "      <th>WWT.oecd.mean</th>\n",
              "      <th>WWT.oei.mean</th>\n",
              "      <th>WWT.oic.mean</th>\n",
              "      <th>WWT.opec.mean</th>\n",
              "      <th>WWT.emmrkt.mean</th>\n",
              "      <th>WWT.sids.mean</th>\n",
              "      <th>WWT.lldc.mean</th>\n",
              "      <th>WWT.ldc.rank</th>\n",
              "      <th>WWT.arableague.rank</th>\n",
              "      <th>WWT.asean.rank</th>\n",
              "      <th>WWT.comwealth.rank</th>\n",
              "      <th>WWT.eu27.rank</th>\n",
              "      <th>WWT.g20.rank</th>\n",
              "      <th>WWT.franco.rank</th>\n",
              "      <th>WWT.oecd.rank</th>\n",
              "      <th>WWT.oei.rank</th>\n",
              "      <th>WWT.oic.rank</th>\n",
              "      <th>WWT.opec.rank</th>\n",
              "      <th>WWT.emmrkt.rank</th>\n",
              "      <th>WWT.sids.rank</th>\n",
              "      <th>WWT.lldc.rank</th>\n",
              "    </tr>\n",
              "  </thead>\n",
              "  <tbody>\n",
              "    <tr>\n",
              "      <th>0</th>\n",
              "      <td>4</td>\n",
              "      <td>AFG</td>\n",
              "      <td>Afghanistan</td>\n",
              "      <td>Southern Asia</td>\n",
              "      <td>1</td>\n",
              "      <td>0</td>\n",
              "      <td>0</td>\n",
              "      <td>0</td>\n",
              "      <td>0</td>\n",
              "      <td>0</td>\n",
              "      <td>0</td>\n",
              "      <td>0</td>\n",
              "      <td>0</td>\n",
              "      <td>1</td>\n",
              "      <td>0</td>\n",
              "      <td>0</td>\n",
              "      <td>0</td>\n",
              "      <td>1</td>\n",
              "      <td>25.5</td>\n",
              "      <td>20.0</td>\n",
              "      <td>17.7</td>\n",
              "      <td>25.4</td>\n",
              "      <td>7.3</td>\n",
              "      <td>16.9</td>\n",
              "      <td>28.0</td>\n",
              "      <td>28.5</td>\n",
              "      <td>27.7</td>\n",
              "      <td>0.0</td>\n",
              "      <td>0.0</td>\n",
              "      <td>0.0</td>\n",
              "      <td>0.0</td>\n",
              "      <td>29.2</td>\n",
              "      <td>21.9</td>\n",
              "      <td>0.6</td>\n",
              "      <td>1.3</td>\n",
              "      <td>NaN</td>\n",
              "      <td>5.0</td>\n",
              "      <td>90.7</td>\n",
              "      <td>18.0</td>\n",
              "      <td>57.7</td>\n",
              "      <td>...</td>\n",
              "      <td>NaN</td>\n",
              "      <td>NaN</td>\n",
              "      <td>NaN</td>\n",
              "      <td>NaN</td>\n",
              "      <td>NaN</td>\n",
              "      <td>NaN</td>\n",
              "      <td>NaN</td>\n",
              "      <td>33.0</td>\n",
              "      <td>NaN</td>\n",
              "      <td>NaN</td>\n",
              "      <td>NaN</td>\n",
              "      <td>17.0</td>\n",
              "      <td>0.181395</td>\n",
              "      <td>NaN</td>\n",
              "      <td>NaN</td>\n",
              "      <td>NaN</td>\n",
              "      <td>NaN</td>\n",
              "      <td>NaN</td>\n",
              "      <td>NaN</td>\n",
              "      <td>NaN</td>\n",
              "      <td>NaN</td>\n",
              "      <td>11.694231</td>\n",
              "      <td>NaN</td>\n",
              "      <td>NaN</td>\n",
              "      <td>NaN</td>\n",
              "      <td>2.658065</td>\n",
              "      <td>11.0</td>\n",
              "      <td>NaN</td>\n",
              "      <td>NaN</td>\n",
              "      <td>NaN</td>\n",
              "      <td>NaN</td>\n",
              "      <td>NaN</td>\n",
              "      <td>NaN</td>\n",
              "      <td>NaN</td>\n",
              "      <td>NaN</td>\n",
              "      <td>33.0</td>\n",
              "      <td>NaN</td>\n",
              "      <td>NaN</td>\n",
              "      <td>NaN</td>\n",
              "      <td>17.0</td>\n",
              "    </tr>\n",
              "    <tr>\n",
              "      <th>1</th>\n",
              "      <td>24</td>\n",
              "      <td>AGO</td>\n",
              "      <td>Angola</td>\n",
              "      <td>Sub-Saharan Africa</td>\n",
              "      <td>1</td>\n",
              "      <td>0</td>\n",
              "      <td>0</td>\n",
              "      <td>0</td>\n",
              "      <td>0</td>\n",
              "      <td>0</td>\n",
              "      <td>0</td>\n",
              "      <td>0</td>\n",
              "      <td>0</td>\n",
              "      <td>0</td>\n",
              "      <td>1</td>\n",
              "      <td>0</td>\n",
              "      <td>0</td>\n",
              "      <td>0</td>\n",
              "      <td>29.7</td>\n",
              "      <td>20.4</td>\n",
              "      <td>26.8</td>\n",
              "      <td>32.6</td>\n",
              "      <td>17.8</td>\n",
              "      <td>34.4</td>\n",
              "      <td>12.8</td>\n",
              "      <td>14.1</td>\n",
              "      <td>11.9</td>\n",
              "      <td>37.3</td>\n",
              "      <td>37.3</td>\n",
              "      <td>0.0</td>\n",
              "      <td>0.0</td>\n",
              "      <td>35.9</td>\n",
              "      <td>39.3</td>\n",
              "      <td>34.1</td>\n",
              "      <td>36.6</td>\n",
              "      <td>0.0</td>\n",
              "      <td>29.8</td>\n",
              "      <td>88.3</td>\n",
              "      <td>66.6</td>\n",
              "      <td>67.2</td>\n",
              "      <td>...</td>\n",
              "      <td>NaN</td>\n",
              "      <td>NaN</td>\n",
              "      <td>NaN</td>\n",
              "      <td>NaN</td>\n",
              "      <td>NaN</td>\n",
              "      <td>NaN</td>\n",
              "      <td>NaN</td>\n",
              "      <td>NaN</td>\n",
              "      <td>11.0</td>\n",
              "      <td>NaN</td>\n",
              "      <td>NaN</td>\n",
              "      <td>NaN</td>\n",
              "      <td>0.181395</td>\n",
              "      <td>NaN</td>\n",
              "      <td>NaN</td>\n",
              "      <td>NaN</td>\n",
              "      <td>NaN</td>\n",
              "      <td>NaN</td>\n",
              "      <td>NaN</td>\n",
              "      <td>NaN</td>\n",
              "      <td>NaN</td>\n",
              "      <td>NaN</td>\n",
              "      <td>16.341667</td>\n",
              "      <td>NaN</td>\n",
              "      <td>NaN</td>\n",
              "      <td>NaN</td>\n",
              "      <td>11.0</td>\n",
              "      <td>NaN</td>\n",
              "      <td>NaN</td>\n",
              "      <td>NaN</td>\n",
              "      <td>NaN</td>\n",
              "      <td>NaN</td>\n",
              "      <td>NaN</td>\n",
              "      <td>NaN</td>\n",
              "      <td>NaN</td>\n",
              "      <td>NaN</td>\n",
              "      <td>11.0</td>\n",
              "      <td>NaN</td>\n",
              "      <td>NaN</td>\n",
              "      <td>NaN</td>\n",
              "    </tr>\n",
              "    <tr>\n",
              "      <th>2</th>\n",
              "      <td>8</td>\n",
              "      <td>ALB</td>\n",
              "      <td>Albania</td>\n",
              "      <td>Eastern Europe</td>\n",
              "      <td>0</td>\n",
              "      <td>0</td>\n",
              "      <td>0</td>\n",
              "      <td>0</td>\n",
              "      <td>0</td>\n",
              "      <td>0</td>\n",
              "      <td>1</td>\n",
              "      <td>0</td>\n",
              "      <td>0</td>\n",
              "      <td>1</td>\n",
              "      <td>0</td>\n",
              "      <td>0</td>\n",
              "      <td>0</td>\n",
              "      <td>0</td>\n",
              "      <td>49.0</td>\n",
              "      <td>44.5</td>\n",
              "      <td>41.2</td>\n",
              "      <td>44.2</td>\n",
              "      <td>34.6</td>\n",
              "      <td>60.1</td>\n",
              "      <td>54.0</td>\n",
              "      <td>59.7</td>\n",
              "      <td>50.2</td>\n",
              "      <td>46.1</td>\n",
              "      <td>46.1</td>\n",
              "      <td>0.0</td>\n",
              "      <td>0.0</td>\n",
              "      <td>52.0</td>\n",
              "      <td>68.2</td>\n",
              "      <td>100.0</td>\n",
              "      <td>100.0</td>\n",
              "      <td>14.7</td>\n",
              "      <td>38.6</td>\n",
              "      <td>82.1</td>\n",
              "      <td>92.2</td>\n",
              "      <td>39.6</td>\n",
              "      <td>...</td>\n",
              "      <td>NaN</td>\n",
              "      <td>NaN</td>\n",
              "      <td>NaN</td>\n",
              "      <td>NaN</td>\n",
              "      <td>16.0</td>\n",
              "      <td>NaN</td>\n",
              "      <td>NaN</td>\n",
              "      <td>22.0</td>\n",
              "      <td>NaN</td>\n",
              "      <td>NaN</td>\n",
              "      <td>NaN</td>\n",
              "      <td>NaN</td>\n",
              "      <td>NaN</td>\n",
              "      <td>NaN</td>\n",
              "      <td>NaN</td>\n",
              "      <td>NaN</td>\n",
              "      <td>NaN</td>\n",
              "      <td>NaN</td>\n",
              "      <td>14.789796</td>\n",
              "      <td>NaN</td>\n",
              "      <td>NaN</td>\n",
              "      <td>11.694231</td>\n",
              "      <td>NaN</td>\n",
              "      <td>NaN</td>\n",
              "      <td>NaN</td>\n",
              "      <td>NaN</td>\n",
              "      <td>NaN</td>\n",
              "      <td>NaN</td>\n",
              "      <td>NaN</td>\n",
              "      <td>NaN</td>\n",
              "      <td>NaN</td>\n",
              "      <td>NaN</td>\n",
              "      <td>16.0</td>\n",
              "      <td>NaN</td>\n",
              "      <td>NaN</td>\n",
              "      <td>22.0</td>\n",
              "      <td>NaN</td>\n",
              "      <td>NaN</td>\n",
              "      <td>NaN</td>\n",
              "      <td>NaN</td>\n",
              "    </tr>\n",
              "    <tr>\n",
              "      <th>3</th>\n",
              "      <td>784</td>\n",
              "      <td>ARE</td>\n",
              "      <td>United Arab Emirates</td>\n",
              "      <td>Greater Middle East</td>\n",
              "      <td>0</td>\n",
              "      <td>1</td>\n",
              "      <td>0</td>\n",
              "      <td>0</td>\n",
              "      <td>0</td>\n",
              "      <td>0</td>\n",
              "      <td>0</td>\n",
              "      <td>0</td>\n",
              "      <td>0</td>\n",
              "      <td>1</td>\n",
              "      <td>1</td>\n",
              "      <td>1</td>\n",
              "      <td>0</td>\n",
              "      <td>0</td>\n",
              "      <td>55.6</td>\n",
              "      <td>55.2</td>\n",
              "      <td>48.6</td>\n",
              "      <td>13.9</td>\n",
              "      <td>100.0</td>\n",
              "      <td>18.8</td>\n",
              "      <td>67.2</td>\n",
              "      <td>90.5</td>\n",
              "      <td>51.6</td>\n",
              "      <td>54.3</td>\n",
              "      <td>54.3</td>\n",
              "      <td>26.8</td>\n",
              "      <td>26.8</td>\n",
              "      <td>55.9</td>\n",
              "      <td>80.9</td>\n",
              "      <td>90.4</td>\n",
              "      <td>90.4</td>\n",
              "      <td>100.0</td>\n",
              "      <td>8.9</td>\n",
              "      <td>81.3</td>\n",
              "      <td>80.3</td>\n",
              "      <td>76.8</td>\n",
              "      <td>...</td>\n",
              "      <td>NaN</td>\n",
              "      <td>NaN</td>\n",
              "      <td>NaN</td>\n",
              "      <td>NaN</td>\n",
              "      <td>NaN</td>\n",
              "      <td>NaN</td>\n",
              "      <td>NaN</td>\n",
              "      <td>2.0</td>\n",
              "      <td>1.0</td>\n",
              "      <td>2.0</td>\n",
              "      <td>NaN</td>\n",
              "      <td>NaN</td>\n",
              "      <td>NaN</td>\n",
              "      <td>29.523529</td>\n",
              "      <td>NaN</td>\n",
              "      <td>NaN</td>\n",
              "      <td>NaN</td>\n",
              "      <td>NaN</td>\n",
              "      <td>NaN</td>\n",
              "      <td>NaN</td>\n",
              "      <td>NaN</td>\n",
              "      <td>11.694231</td>\n",
              "      <td>16.341667</td>\n",
              "      <td>33.811111</td>\n",
              "      <td>NaN</td>\n",
              "      <td>NaN</td>\n",
              "      <td>NaN</td>\n",
              "      <td>2.0</td>\n",
              "      <td>NaN</td>\n",
              "      <td>NaN</td>\n",
              "      <td>NaN</td>\n",
              "      <td>NaN</td>\n",
              "      <td>NaN</td>\n",
              "      <td>NaN</td>\n",
              "      <td>NaN</td>\n",
              "      <td>2.0</td>\n",
              "      <td>1.0</td>\n",
              "      <td>2.0</td>\n",
              "      <td>NaN</td>\n",
              "      <td>NaN</td>\n",
              "    </tr>\n",
              "    <tr>\n",
              "      <th>4</th>\n",
              "      <td>32</td>\n",
              "      <td>ARG</td>\n",
              "      <td>Argentina</td>\n",
              "      <td>Latin America &amp; Caribbean</td>\n",
              "      <td>0</td>\n",
              "      <td>0</td>\n",
              "      <td>0</td>\n",
              "      <td>0</td>\n",
              "      <td>0</td>\n",
              "      <td>1</td>\n",
              "      <td>0</td>\n",
              "      <td>0</td>\n",
              "      <td>1</td>\n",
              "      <td>0</td>\n",
              "      <td>0</td>\n",
              "      <td>1</td>\n",
              "      <td>0</td>\n",
              "      <td>0</td>\n",
              "      <td>52.2</td>\n",
              "      <td>60.2</td>\n",
              "      <td>56.9</td>\n",
              "      <td>54.7</td>\n",
              "      <td>60.9</td>\n",
              "      <td>48.7</td>\n",
              "      <td>64.7</td>\n",
              "      <td>72.7</td>\n",
              "      <td>59.3</td>\n",
              "      <td>73.1</td>\n",
              "      <td>73.1</td>\n",
              "      <td>44.6</td>\n",
              "      <td>44.6</td>\n",
              "      <td>46.8</td>\n",
              "      <td>49.1</td>\n",
              "      <td>41.7</td>\n",
              "      <td>56.7</td>\n",
              "      <td>43.0</td>\n",
              "      <td>16.2</td>\n",
              "      <td>69.4</td>\n",
              "      <td>64.3</td>\n",
              "      <td>58.9</td>\n",
              "      <td>...</td>\n",
              "      <td>NaN</td>\n",
              "      <td>NaN</td>\n",
              "      <td>NaN</td>\n",
              "      <td>17.0</td>\n",
              "      <td>NaN</td>\n",
              "      <td>NaN</td>\n",
              "      <td>12.0</td>\n",
              "      <td>NaN</td>\n",
              "      <td>NaN</td>\n",
              "      <td>22.0</td>\n",
              "      <td>NaN</td>\n",
              "      <td>NaN</td>\n",
              "      <td>NaN</td>\n",
              "      <td>NaN</td>\n",
              "      <td>NaN</td>\n",
              "      <td>NaN</td>\n",
              "      <td>NaN</td>\n",
              "      <td>47.063158</td>\n",
              "      <td>NaN</td>\n",
              "      <td>NaN</td>\n",
              "      <td>20.15</td>\n",
              "      <td>NaN</td>\n",
              "      <td>NaN</td>\n",
              "      <td>33.811111</td>\n",
              "      <td>NaN</td>\n",
              "      <td>NaN</td>\n",
              "      <td>NaN</td>\n",
              "      <td>NaN</td>\n",
              "      <td>NaN</td>\n",
              "      <td>NaN</td>\n",
              "      <td>NaN</td>\n",
              "      <td>17.0</td>\n",
              "      <td>NaN</td>\n",
              "      <td>NaN</td>\n",
              "      <td>12.0</td>\n",
              "      <td>NaN</td>\n",
              "      <td>NaN</td>\n",
              "      <td>22.0</td>\n",
              "      <td>NaN</td>\n",
              "      <td>NaN</td>\n",
              "    </tr>\n",
              "  </tbody>\n",
              "</table>\n",
              "<p>5 rows × 1352 columns</p>\n",
              "</div>"
            ],
            "text/plain": [
              "   code  iso  ... WWT.sids.rank WWT.lldc.rank\n",
              "0     4  AFG  ...           NaN          17.0\n",
              "1    24  AGO  ...           NaN           NaN\n",
              "2     8  ALB  ...           NaN           NaN\n",
              "3   784  ARE  ...           NaN           NaN\n",
              "4    32  ARG  ...           NaN           NaN\n",
              "\n",
              "[5 rows x 1352 columns]"
            ]
          },
          "metadata": {
            "tags": []
          },
          "execution_count": 12
        }
      ]
    },
    {
      "cell_type": "markdown",
      "metadata": {
        "id": "HpfZFdULLQrE",
        "colab_type": "text"
      },
      "source": [
        "Aparentemente se ven columnas adicionales, utilizadas para obtener diferentes indices. No lo tomares a este dataframe."
      ]
    },
    {
      "cell_type": "code",
      "metadata": {
        "id": "4pERhUa6K9NM",
        "colab_type": "code",
        "colab": {
          "base_uri": "https://localhost:8080/",
          "height": 348
        },
        "outputId": "1101be86-c4ce-41f4-f183-2def984a4528"
      },
      "source": [
        "df_epi_attr = pd.read_csv('epi2020countryattributes20200604.csv')\n",
        "df_epi_attr.head(5) "
      ],
      "execution_count": 13,
      "outputs": [
        {
          "output_type": "execute_result",
          "data": {
            "text/html": [
              "<div>\n",
              "<style scoped>\n",
              "    .dataframe tbody tr th:only-of-type {\n",
              "        vertical-align: middle;\n",
              "    }\n",
              "\n",
              "    .dataframe tbody tr th {\n",
              "        vertical-align: top;\n",
              "    }\n",
              "\n",
              "    .dataframe thead th {\n",
              "        text-align: right;\n",
              "    }\n",
              "</style>\n",
              "<table border=\"1\" class=\"dataframe\">\n",
              "  <thead>\n",
              "    <tr style=\"text-align: right;\">\n",
              "      <th></th>\n",
              "      <th>code</th>\n",
              "      <th>iso</th>\n",
              "      <th>country</th>\n",
              "      <th>region</th>\n",
              "      <th>include</th>\n",
              "      <th>SEA</th>\n",
              "      <th>sids</th>\n",
              "      <th>ldc</th>\n",
              "      <th>lldc</th>\n",
              "      <th>arableague</th>\n",
              "      <th>asean</th>\n",
              "      <th>comwealth</th>\n",
              "      <th>eu27</th>\n",
              "      <th>g20</th>\n",
              "      <th>franco</th>\n",
              "      <th>oecd</th>\n",
              "      <th>oei</th>\n",
              "      <th>oic</th>\n",
              "      <th>opec</th>\n",
              "      <th>emmrkt</th>\n",
              "    </tr>\n",
              "  </thead>\n",
              "  <tbody>\n",
              "    <tr>\n",
              "      <th>0</th>\n",
              "      <td>4</td>\n",
              "      <td>AFG</td>\n",
              "      <td>Afghanistan</td>\n",
              "      <td>Southern Asia</td>\n",
              "      <td>1</td>\n",
              "      <td>1</td>\n",
              "      <td>0</td>\n",
              "      <td>1</td>\n",
              "      <td>1</td>\n",
              "      <td>0</td>\n",
              "      <td>0</td>\n",
              "      <td>0</td>\n",
              "      <td>0</td>\n",
              "      <td>0</td>\n",
              "      <td>0</td>\n",
              "      <td>0</td>\n",
              "      <td>0</td>\n",
              "      <td>1</td>\n",
              "      <td>0</td>\n",
              "      <td>0</td>\n",
              "    </tr>\n",
              "    <tr>\n",
              "      <th>1</th>\n",
              "      <td>8</td>\n",
              "      <td>ALB</td>\n",
              "      <td>Albania</td>\n",
              "      <td>Eastern Europe</td>\n",
              "      <td>1</td>\n",
              "      <td>0</td>\n",
              "      <td>0</td>\n",
              "      <td>0</td>\n",
              "      <td>0</td>\n",
              "      <td>0</td>\n",
              "      <td>0</td>\n",
              "      <td>0</td>\n",
              "      <td>0</td>\n",
              "      <td>0</td>\n",
              "      <td>1</td>\n",
              "      <td>0</td>\n",
              "      <td>0</td>\n",
              "      <td>1</td>\n",
              "      <td>0</td>\n",
              "      <td>0</td>\n",
              "    </tr>\n",
              "    <tr>\n",
              "      <th>2</th>\n",
              "      <td>12</td>\n",
              "      <td>DZA</td>\n",
              "      <td>Algeria</td>\n",
              "      <td>Greater Middle East</td>\n",
              "      <td>1</td>\n",
              "      <td>0</td>\n",
              "      <td>0</td>\n",
              "      <td>0</td>\n",
              "      <td>0</td>\n",
              "      <td>1</td>\n",
              "      <td>0</td>\n",
              "      <td>0</td>\n",
              "      <td>0</td>\n",
              "      <td>0</td>\n",
              "      <td>0</td>\n",
              "      <td>0</td>\n",
              "      <td>0</td>\n",
              "      <td>1</td>\n",
              "      <td>1</td>\n",
              "      <td>0</td>\n",
              "    </tr>\n",
              "    <tr>\n",
              "      <th>3</th>\n",
              "      <td>20</td>\n",
              "      <td>AND</td>\n",
              "      <td>Andorra</td>\n",
              "      <td>Global West</td>\n",
              "      <td>0</td>\n",
              "      <td>1</td>\n",
              "      <td>0</td>\n",
              "      <td>0</td>\n",
              "      <td>0</td>\n",
              "      <td>0</td>\n",
              "      <td>0</td>\n",
              "      <td>0</td>\n",
              "      <td>0</td>\n",
              "      <td>0</td>\n",
              "      <td>1</td>\n",
              "      <td>0</td>\n",
              "      <td>1</td>\n",
              "      <td>0</td>\n",
              "      <td>0</td>\n",
              "      <td>0</td>\n",
              "    </tr>\n",
              "    <tr>\n",
              "      <th>4</th>\n",
              "      <td>24</td>\n",
              "      <td>AGO</td>\n",
              "      <td>Angola</td>\n",
              "      <td>Sub-Saharan Africa</td>\n",
              "      <td>1</td>\n",
              "      <td>0</td>\n",
              "      <td>0</td>\n",
              "      <td>1</td>\n",
              "      <td>0</td>\n",
              "      <td>0</td>\n",
              "      <td>0</td>\n",
              "      <td>0</td>\n",
              "      <td>0</td>\n",
              "      <td>0</td>\n",
              "      <td>0</td>\n",
              "      <td>0</td>\n",
              "      <td>0</td>\n",
              "      <td>0</td>\n",
              "      <td>1</td>\n",
              "      <td>0</td>\n",
              "    </tr>\n",
              "  </tbody>\n",
              "</table>\n",
              "</div>"
            ],
            "text/plain": [
              "   code  iso      country               region  ...  oei  oic  opec  emmrkt\n",
              "0     4  AFG  Afghanistan        Southern Asia  ...    0    1     0       0\n",
              "1     8  ALB      Albania       Eastern Europe  ...    0    1     0       0\n",
              "2    12  DZA      Algeria  Greater Middle East  ...    0    1     1       0\n",
              "3    20  AND      Andorra          Global West  ...    1    0     0       0\n",
              "4    24  AGO       Angola   Sub-Saharan Africa  ...    0    0     1       0\n",
              "\n",
              "[5 rows x 20 columns]"
            ]
          },
          "metadata": {
            "tags": []
          },
          "execution_count": 13
        }
      ]
    },
    {
      "cell_type": "code",
      "metadata": {
        "id": "cOSwY2uQLoEt",
        "colab_type": "code",
        "colab": {
          "base_uri": "https://localhost:8080/",
          "height": 34
        },
        "outputId": "cf7b3d39-f1bd-4c1a-9841-e54d254284e9"
      },
      "source": [
        "df_epi_attr.shape"
      ],
      "execution_count": 14,
      "outputs": [
        {
          "output_type": "execute_result",
          "data": {
            "text/plain": [
              "(220, 20)"
            ]
          },
          "metadata": {
            "tags": []
          },
          "execution_count": 14
        }
      ]
    },
    {
      "cell_type": "markdown",
      "metadata": {
        "id": "c735OIR3L53P",
        "colab_type": "text"
      },
      "source": [
        "Se puede observar que este dataset se encuentra dentro del dataset **epi2020resultsgroups**, asique no lo utilizaremos."
      ]
    },
    {
      "cell_type": "code",
      "metadata": {
        "id": "0iLsLOVOLvz9",
        "colab_type": "code",
        "colab": {
          "base_uri": "https://localhost:8080/",
          "height": 363
        },
        "outputId": "b6eb0377-2697-4cf6-e74f-9e1f8acd4f6e"
      },
      "source": [
        "df_epi_weights = pd.read_csv('epi2020weights20200604.csv')\n",
        "df_epi_weights.head(10)"
      ],
      "execution_count": 15,
      "outputs": [
        {
          "output_type": "execute_result",
          "data": {
            "text/html": [
              "<div>\n",
              "<style scoped>\n",
              "    .dataframe tbody tr th:only-of-type {\n",
              "        vertical-align: middle;\n",
              "    }\n",
              "\n",
              "    .dataframe tbody tr th {\n",
              "        vertical-align: top;\n",
              "    }\n",
              "\n",
              "    .dataframe thead th {\n",
              "        text-align: right;\n",
              "    }\n",
              "</style>\n",
              "<table border=\"1\" class=\"dataframe\">\n",
              "  <thead>\n",
              "    <tr style=\"text-align: right;\">\n",
              "      <th></th>\n",
              "      <th>Type</th>\n",
              "      <th>Abbreviation</th>\n",
              "      <th>Variable</th>\n",
              "      <th>Weight</th>\n",
              "      <th>NextLevel</th>\n",
              "      <th>MaterialityFilter</th>\n",
              "      <th>Order</th>\n",
              "    </tr>\n",
              "  </thead>\n",
              "  <tbody>\n",
              "    <tr>\n",
              "      <th>0</th>\n",
              "      <td>EPI</td>\n",
              "      <td>EPI</td>\n",
              "      <td>Environmental Performance Index</td>\n",
              "      <td>NaN</td>\n",
              "      <td>NaN</td>\n",
              "      <td>NaN</td>\n",
              "      <td>1</td>\n",
              "    </tr>\n",
              "    <tr>\n",
              "      <th>1</th>\n",
              "      <td>PolicyObjective</td>\n",
              "      <td>HLT</td>\n",
              "      <td>Environmental Health</td>\n",
              "      <td>0.40</td>\n",
              "      <td>EPI</td>\n",
              "      <td>NaN</td>\n",
              "      <td>2</td>\n",
              "    </tr>\n",
              "    <tr>\n",
              "      <th>2</th>\n",
              "      <td>IssueCategory</td>\n",
              "      <td>AIR</td>\n",
              "      <td>Air Quality</td>\n",
              "      <td>0.50</td>\n",
              "      <td>HLT</td>\n",
              "      <td>NaN</td>\n",
              "      <td>3</td>\n",
              "    </tr>\n",
              "    <tr>\n",
              "      <th>3</th>\n",
              "      <td>Indicator</td>\n",
              "      <td>PMD</td>\n",
              "      <td>PM2.5 exposure</td>\n",
              "      <td>0.55</td>\n",
              "      <td>AIR</td>\n",
              "      <td>NaN</td>\n",
              "      <td>4</td>\n",
              "    </tr>\n",
              "    <tr>\n",
              "      <th>4</th>\n",
              "      <td>Indicator</td>\n",
              "      <td>HAD</td>\n",
              "      <td>Household solid fuels</td>\n",
              "      <td>0.40</td>\n",
              "      <td>AIR</td>\n",
              "      <td>NaN</td>\n",
              "      <td>5</td>\n",
              "    </tr>\n",
              "    <tr>\n",
              "      <th>5</th>\n",
              "      <td>Indicator</td>\n",
              "      <td>OZD</td>\n",
              "      <td>Ozone exposure</td>\n",
              "      <td>0.05</td>\n",
              "      <td>AIR</td>\n",
              "      <td>NaN</td>\n",
              "      <td>6</td>\n",
              "    </tr>\n",
              "    <tr>\n",
              "      <th>6</th>\n",
              "      <td>IssueCategory</td>\n",
              "      <td>H2O</td>\n",
              "      <td>Sanitation &amp; Drinking Water</td>\n",
              "      <td>0.40</td>\n",
              "      <td>HLT</td>\n",
              "      <td>NaN</td>\n",
              "      <td>7</td>\n",
              "    </tr>\n",
              "    <tr>\n",
              "      <th>7</th>\n",
              "      <td>Indicator</td>\n",
              "      <td>USD</td>\n",
              "      <td>Unsafe sanitation</td>\n",
              "      <td>0.40</td>\n",
              "      <td>H2O</td>\n",
              "      <td>NaN</td>\n",
              "      <td>8</td>\n",
              "    </tr>\n",
              "    <tr>\n",
              "      <th>8</th>\n",
              "      <td>Indicator</td>\n",
              "      <td>UWD</td>\n",
              "      <td>Unsafe drinking water</td>\n",
              "      <td>0.60</td>\n",
              "      <td>H2O</td>\n",
              "      <td>NaN</td>\n",
              "      <td>9</td>\n",
              "    </tr>\n",
              "    <tr>\n",
              "      <th>9</th>\n",
              "      <td>IssueCategory</td>\n",
              "      <td>HMT</td>\n",
              "      <td>Heavy Metals</td>\n",
              "      <td>0.05</td>\n",
              "      <td>HLT</td>\n",
              "      <td>NaN</td>\n",
              "      <td>10</td>\n",
              "    </tr>\n",
              "  </tbody>\n",
              "</table>\n",
              "</div>"
            ],
            "text/plain": [
              "              Type Abbreviation  ... MaterialityFilter  Order\n",
              "0              EPI          EPI  ...               NaN      1\n",
              "1  PolicyObjective          HLT  ...               NaN      2\n",
              "2    IssueCategory          AIR  ...               NaN      3\n",
              "3        Indicator          PMD  ...               NaN      4\n",
              "4        Indicator          HAD  ...               NaN      5\n",
              "5        Indicator          OZD  ...               NaN      6\n",
              "6    IssueCategory          H2O  ...               NaN      7\n",
              "7        Indicator          USD  ...               NaN      8\n",
              "8        Indicator          UWD  ...               NaN      9\n",
              "9    IssueCategory          HMT  ...               NaN     10\n",
              "\n",
              "[10 rows x 7 columns]"
            ]
          },
          "metadata": {
            "tags": []
          },
          "execution_count": 15
        }
      ]
    },
    {
      "cell_type": "code",
      "metadata": {
        "id": "25Tb_F2wMLOC",
        "colab_type": "code",
        "colab": {
          "base_uri": "https://localhost:8080/",
          "height": 34
        },
        "outputId": "326f4194-b4ed-4113-8274-8d5b501e0d63"
      },
      "source": [
        "df_epi_weights.shape"
      ],
      "execution_count": 16,
      "outputs": [
        {
          "output_type": "execute_result",
          "data": {
            "text/plain": [
              "(46, 7)"
            ]
          },
          "metadata": {
            "tags": []
          },
          "execution_count": 16
        }
      ]
    },
    {
      "cell_type": "markdown",
      "metadata": {
        "id": "iiyv1wmjQvzl",
        "colab_type": "text"
      },
      "source": [
        "## Conociendo Human Freedom Index (HFI)\n"
      ]
    },
    {
      "cell_type": "code",
      "metadata": {
        "id": "NPpxBRHmRI_R",
        "colab_type": "code",
        "colab": {
          "base_uri": "https://localhost:8080/",
          "height": 69
        },
        "outputId": "cafeac48-6756-4000-967a-e76da5616b9e"
      },
      "source": [
        "!ls '/content/drive/My Drive/Colab Notebooks/republica-liberal/data/index_economic_freedom/data-2020'"
      ],
      "execution_count": 17,
      "outputs": [
        {
          "output_type": "stream",
          "text": [
            "data-america-2020.csv\t    data-north-africa-middle-east-2020.csv\n",
            "data-asia-pacific-2020.csv  data-sub-saharan-africa-2020.csv\n",
            "data-europe-2020.csv\n"
          ],
          "name": "stdout"
        }
      ]
    },
    {
      "cell_type": "code",
      "metadata": {
        "id": "nEAcEmbBRc01",
        "colab_type": "code",
        "colab": {
          "base_uri": "https://localhost:8080/",
          "height": 52
        },
        "outputId": "c6469418-db42-4b53-9ad8-35623840b98d"
      },
      "source": [
        "!ls '/content/drive/My Drive/Colab Notebooks/republica-liberal/data/index_economic_freedom/'"
      ],
      "execution_count": 18,
      "outputs": [
        {
          "output_type": "stream",
          "text": [
            "data-2020\t  data-asia-pacific.csv  data-north-africa-middle-east.csv\n",
            "data-america.csv  data-europe.csv\t data-sub-saharan-africa.csv\n"
          ],
          "name": "stdout"
        }
      ]
    },
    {
      "cell_type": "markdown",
      "metadata": {
        "id": "8w90O4kxLyx1",
        "colab_type": "text"
      },
      "source": [
        "Ahora estudiemos un dataset de todos los que hay para saber el formato de los mismos. "
      ]
    },
    {
      "cell_type": "code",
      "metadata": {
        "id": "nPaRjrBP318I",
        "colab_type": "code",
        "colab": {
          "base_uri": "https://localhost:8080/",
          "height": 34
        },
        "outputId": "3855b421-6dea-435c-b0df-9177fd1bc8e2"
      },
      "source": [
        "cd '/content/drive/My Drive/Colab Notebooks/republica-liberal/data/index_economic_freedom/'"
      ],
      "execution_count": 19,
      "outputs": [
        {
          "output_type": "stream",
          "text": [
            "/content/drive/My Drive/Colab Notebooks/republica-liberal/data/index_economic_freedom\n"
          ],
          "name": "stdout"
        }
      ]
    },
    {
      "cell_type": "code",
      "metadata": {
        "id": "B31itwxqLyKm",
        "colab_type": "code",
        "colab": {
          "base_uri": "https://localhost:8080/",
          "height": 181
        },
        "outputId": "bd31d051-019a-44c7-dd89-5bb3404f65a5"
      },
      "source": [
        "df_america = pd.read_csv('data-america.csv')\n",
        "df_america.head(3)"
      ],
      "execution_count": 20,
      "outputs": [
        {
          "output_type": "execute_result",
          "data": {
            "text/html": [
              "<div>\n",
              "<style scoped>\n",
              "    .dataframe tbody tr th:only-of-type {\n",
              "        vertical-align: middle;\n",
              "    }\n",
              "\n",
              "    .dataframe tbody tr th {\n",
              "        vertical-align: top;\n",
              "    }\n",
              "\n",
              "    .dataframe thead th {\n",
              "        text-align: right;\n",
              "    }\n",
              "</style>\n",
              "<table border=\"1\" class=\"dataframe\">\n",
              "  <thead>\n",
              "    <tr style=\"text-align: right;\">\n",
              "      <th></th>\n",
              "      <th>Name</th>\n",
              "      <th>Index Year</th>\n",
              "      <th>Overall Score</th>\n",
              "      <th>Property Rights</th>\n",
              "      <th>Judicial Effectiveness</th>\n",
              "      <th>Government Integrity</th>\n",
              "      <th>Tax Burden</th>\n",
              "      <th>Government Spending</th>\n",
              "      <th>Fiscal Health</th>\n",
              "      <th>Business Freedom</th>\n",
              "      <th>Labor Freedom</th>\n",
              "      <th>Monetary Freedom</th>\n",
              "      <th>Trade Freedom</th>\n",
              "      <th>Investment Freedom</th>\n",
              "      <th>Financial Freedom</th>\n",
              "    </tr>\n",
              "  </thead>\n",
              "  <tbody>\n",
              "    <tr>\n",
              "      <th>0</th>\n",
              "      <td>Argentina</td>\n",
              "      <td>2020</td>\n",
              "      <td>53.1</td>\n",
              "      <td>50.5</td>\n",
              "      <td>47.0</td>\n",
              "      <td>49.7</td>\n",
              "      <td>69.6</td>\n",
              "      <td>50.7</td>\n",
              "      <td>24.7</td>\n",
              "      <td>60.2</td>\n",
              "      <td>46.5</td>\n",
              "      <td>53.7</td>\n",
              "      <td>69.2</td>\n",
              "      <td>55.0</td>\n",
              "      <td>60.0</td>\n",
              "    </tr>\n",
              "    <tr>\n",
              "      <th>1</th>\n",
              "      <td>Barbados</td>\n",
              "      <td>2020</td>\n",
              "      <td>61.4</td>\n",
              "      <td>56.6</td>\n",
              "      <td>36.1</td>\n",
              "      <td>44.0</td>\n",
              "      <td>73.6</td>\n",
              "      <td>69.2</td>\n",
              "      <td>63.1</td>\n",
              "      <td>69.4</td>\n",
              "      <td>60.0</td>\n",
              "      <td>77.9</td>\n",
              "      <td>56.6</td>\n",
              "      <td>70.0</td>\n",
              "      <td>60.0</td>\n",
              "    </tr>\n",
              "    <tr>\n",
              "      <th>2</th>\n",
              "      <td>Belize</td>\n",
              "      <td>2020</td>\n",
              "      <td>57.4</td>\n",
              "      <td>44.4</td>\n",
              "      <td>46.4</td>\n",
              "      <td>33.5</td>\n",
              "      <td>79.5</td>\n",
              "      <td>66.3</td>\n",
              "      <td>53.9</td>\n",
              "      <td>60.9</td>\n",
              "      <td>54.3</td>\n",
              "      <td>80.4</td>\n",
              "      <td>64.2</td>\n",
              "      <td>55.0</td>\n",
              "      <td>50.0</td>\n",
              "    </tr>\n",
              "  </tbody>\n",
              "</table>\n",
              "</div>"
            ],
            "text/plain": [
              "        Name  Index Year  ...  Investment Freedom  Financial Freedom\n",
              "0  Argentina        2020  ...                55.0               60.0\n",
              "1   Barbados        2020  ...                70.0               60.0\n",
              "2     Belize        2020  ...                55.0               50.0\n",
              "\n",
              "[3 rows x 15 columns]"
            ]
          },
          "metadata": {
            "tags": []
          },
          "execution_count": 20
        }
      ]
    },
    {
      "cell_type": "code",
      "metadata": {
        "id": "hdhcSa-NTD8C",
        "colab_type": "code",
        "colab": {
          "base_uri": "https://localhost:8080/",
          "height": 34
        },
        "outputId": "718c6b63-65ec-4bbd-bc53-d1e675d3f907"
      },
      "source": [
        "df_america.shape"
      ],
      "execution_count": 21,
      "outputs": [
        {
          "output_type": "execute_result",
          "data": {
            "text/plain": [
              "(832, 15)"
            ]
          },
          "metadata": {
            "tags": []
          },
          "execution_count": 21
        }
      ]
    },
    {
      "cell_type": "markdown",
      "metadata": {
        "id": "SAYTuG4wTLVK",
        "colab_type": "text"
      },
      "source": [
        "Podemos observar que el dataframe tiene 832 filas y 15 columnas. Veamos las columnas:"
      ]
    },
    {
      "cell_type": "code",
      "metadata": {
        "id": "w3IrtR4gTWR4",
        "colab_type": "code",
        "colab": {
          "base_uri": "https://localhost:8080/",
          "height": 121
        },
        "outputId": "9769fb9d-4c4f-4050-e972-352e4a24c592"
      },
      "source": [
        "df_america.columns"
      ],
      "execution_count": 22,
      "outputs": [
        {
          "output_type": "execute_result",
          "data": {
            "text/plain": [
              "Index(['Name', 'Index Year', 'Overall Score', 'Property Rights',\n",
              "       'Judicial Effectiveness', 'Government Integrity', 'Tax Burden',\n",
              "       'Government Spending', 'Fiscal Health', 'Business Freedom',\n",
              "       'Labor Freedom', 'Monetary Freedom', 'Trade Freedom',\n",
              "       'Investment Freedom', 'Financial Freedom'],\n",
              "      dtype='object')"
            ]
          },
          "metadata": {
            "tags": []
          },
          "execution_count": 22
        }
      ]
    },
    {
      "cell_type": "markdown",
      "metadata": {
        "id": "pguQtyMZ4WHC",
        "colab_type": "text"
      },
      "source": [
        "Estudiaremos los indicadores utilizados en el indice de Libertad Economica. [Indice de Libertad Economica - Español](https://es.wikipedia.org/wiki/%C3%8Dndice_de_Libertad_Econ%C3%B3mica), [Index of Economic Freedom- English](https://en.wikipedia.org/wiki/Index_of_Economic_Freedom#Investment_freedom)\n",
        "\n",
        "¿Que significa cada columna?\n",
        "\n",
        "En el siguiente informe, [2020 Index of Economic Freedom HIGHLIGHTS](https://www.heritage.org/index/pdf/2020/book/2020_IndexofEconomicFreedom_Highlights.pdf), se divide en 4 partes las 12 columnas desde Proporty Rights hasta Financial Freedom. A estas 12 columnas se las llama, **THE 12 ECONOMIC FREEDOMS** o **LAS 12 LIBERTADES ECONOMICAS**. Estudiemos un poco cada una de ellas. No se agregará información al documento, habrán enlaces que nos redirigen a información oficial. \n",
        "\n",
        "----------\n",
        "\n",
        "- [Rule of law](https://www.heritage.org/index/rule-of-law) - [Imperio de la ley](https://es.wikipedia.org/wiki/Imperio_de_la_ley)\n",
        "\n",
        "1. [Property Rights](https://www.heritage.org/index/property-rights) - Derechos de propiedad\n",
        "2. Judicial Effectiveness - Efectividad judicial\n",
        "3. [Government Integrity](https://www.heritage.org/index/freedom-from-corruption) - Integridad del gobierno\n",
        "\n",
        "----------\n",
        "\n",
        "- [Government Size](https://www.heritage.org/index/limited-government) - Tamaño del [Gobierno](https://es.wikipedia.org/wiki/Gobierno) ([Big Government](https://en.wikipedia.org/wiki/Big_government) or [Small Government](https://en.wikipedia.org/wiki/Small_government))\n",
        "\n",
        "4. [Tax Burden](https://www.heritage.org/index/fiscal-freedom) - Carga fiscal\n",
        "5. [Government Spending](https://www.heritage.org/index/government-spending) - Gastos gubernamentales \n",
        "6. Fiscal Health - Salud Fiscal\n",
        "\n",
        "----------\n",
        "\n",
        "- [Regulatory Efficiency](https://www.heritage.org/index/regulatory-efficiency) - Eficiencia Regulatoria\n",
        "\n",
        "7. [Business Freedom](https://www.heritage.org/index/business-freedom) - Libertad comercial\n",
        "8. [Labor Freedom](https://www.heritage.org/index/labor-freedom) - Libertad labotal\n",
        "9. [Monetary Freedom](https://www.heritage.org/index/monetary-freedom) - Libertad monetaria\n",
        "\n",
        "----------\n",
        "\n",
        "- [Open Markets](https://www.heritage.org/index/open-markets) - Apertura de mercados\n",
        "\n",
        "10. [Trade Freedom](https://www.heritage.org/index/trade-freedom.aspx) - [Libertad comercial](https://es.wikipedia.org/wiki/Libre_comercio)\n",
        "11. [Investment Freedom](https://www.heritage.org/index/investment-freedom) - Libertad de inversión.\n",
        "12. [Financial Freedom](https://www.heritage.org/index/financial-freedom) - Libertad financiera\n",
        "\n",
        "----------"
      ]
    },
    {
      "cell_type": "markdown",
      "metadata": {
        "id": "TZo1eZO0TyXh",
        "colab_type": "text"
      },
      "source": [
        "Veamos algo de información del dataframe"
      ]
    },
    {
      "cell_type": "code",
      "metadata": {
        "id": "f2XncyGSTxax",
        "colab_type": "code",
        "colab": {
          "base_uri": "https://localhost:8080/",
          "height": 399
        },
        "outputId": "cbf2ec12-489d-46fe-e1f0-f95e38585c5a"
      },
      "source": [
        "df_america.info()"
      ],
      "execution_count": 23,
      "outputs": [
        {
          "output_type": "stream",
          "text": [
            "<class 'pandas.core.frame.DataFrame'>\n",
            "RangeIndex: 832 entries, 0 to 831\n",
            "Data columns (total 15 columns):\n",
            " #   Column                  Non-Null Count  Dtype  \n",
            "---  ------                  --------------  -----  \n",
            " 0   Name                    832 non-null    object \n",
            " 1   Index Year              832 non-null    int64  \n",
            " 2   Overall Score           787 non-null    float64\n",
            " 3   Property Rights         787 non-null    float64\n",
            " 4   Judicial Effectiveness  128 non-null    float64\n",
            " 5   Government Integrity    787 non-null    float64\n",
            " 6   Tax Burden              787 non-null    float64\n",
            " 7   Government Spending     787 non-null    float64\n",
            " 8   Fiscal Health           128 non-null    float64\n",
            " 9   Business Freedom        787 non-null    float64\n",
            " 10  Labor Freedom           500 non-null    float64\n",
            " 11  Monetary Freedom        787 non-null    float64\n",
            " 12  Trade Freedom           787 non-null    float64\n",
            " 13  Investment Freedom      787 non-null    float64\n",
            " 14  Financial Freedom       787 non-null    float64\n",
            "dtypes: float64(13), int64(1), object(1)\n",
            "memory usage: 97.6+ KB\n"
          ],
          "name": "stdout"
        }
      ]
    },
    {
      "cell_type": "markdown",
      "metadata": {
        "id": "-zHtOUAqcOVS",
        "colab_type": "text"
      },
      "source": [
        "Agregamos una nueva columna para identificar la region de este dataframe. La misma nos ayudará a futuros analisis por regiones. "
      ]
    },
    {
      "cell_type": "code",
      "metadata": {
        "id": "BcoQV8VCa4_R",
        "colab_type": "code",
        "colab": {
          "base_uri": "https://localhost:8080/",
          "height": 531
        },
        "outputId": "9edc053f-b470-41f4-d695-475a79d70902"
      },
      "source": [
        "df_america['Region'] = 'America'\n",
        "df_america"
      ],
      "execution_count": 24,
      "outputs": [
        {
          "output_type": "execute_result",
          "data": {
            "text/html": [
              "<div>\n",
              "<style scoped>\n",
              "    .dataframe tbody tr th:only-of-type {\n",
              "        vertical-align: middle;\n",
              "    }\n",
              "\n",
              "    .dataframe tbody tr th {\n",
              "        vertical-align: top;\n",
              "    }\n",
              "\n",
              "    .dataframe thead th {\n",
              "        text-align: right;\n",
              "    }\n",
              "</style>\n",
              "<table border=\"1\" class=\"dataframe\">\n",
              "  <thead>\n",
              "    <tr style=\"text-align: right;\">\n",
              "      <th></th>\n",
              "      <th>Name</th>\n",
              "      <th>Index Year</th>\n",
              "      <th>Overall Score</th>\n",
              "      <th>Property Rights</th>\n",
              "      <th>Judicial Effectiveness</th>\n",
              "      <th>Government Integrity</th>\n",
              "      <th>Tax Burden</th>\n",
              "      <th>Government Spending</th>\n",
              "      <th>Fiscal Health</th>\n",
              "      <th>Business Freedom</th>\n",
              "      <th>Labor Freedom</th>\n",
              "      <th>Monetary Freedom</th>\n",
              "      <th>Trade Freedom</th>\n",
              "      <th>Investment Freedom</th>\n",
              "      <th>Financial Freedom</th>\n",
              "      <th>Region</th>\n",
              "    </tr>\n",
              "  </thead>\n",
              "  <tbody>\n",
              "    <tr>\n",
              "      <th>0</th>\n",
              "      <td>Argentina</td>\n",
              "      <td>2020</td>\n",
              "      <td>53.1</td>\n",
              "      <td>50.5</td>\n",
              "      <td>47.0</td>\n",
              "      <td>49.7</td>\n",
              "      <td>69.6</td>\n",
              "      <td>50.7</td>\n",
              "      <td>24.7</td>\n",
              "      <td>60.2</td>\n",
              "      <td>46.5</td>\n",
              "      <td>53.7</td>\n",
              "      <td>69.2</td>\n",
              "      <td>55.0</td>\n",
              "      <td>60.0</td>\n",
              "      <td>America</td>\n",
              "    </tr>\n",
              "    <tr>\n",
              "      <th>1</th>\n",
              "      <td>Barbados</td>\n",
              "      <td>2020</td>\n",
              "      <td>61.4</td>\n",
              "      <td>56.6</td>\n",
              "      <td>36.1</td>\n",
              "      <td>44.0</td>\n",
              "      <td>73.6</td>\n",
              "      <td>69.2</td>\n",
              "      <td>63.1</td>\n",
              "      <td>69.4</td>\n",
              "      <td>60.0</td>\n",
              "      <td>77.9</td>\n",
              "      <td>56.6</td>\n",
              "      <td>70.0</td>\n",
              "      <td>60.0</td>\n",
              "      <td>America</td>\n",
              "    </tr>\n",
              "    <tr>\n",
              "      <th>2</th>\n",
              "      <td>Belize</td>\n",
              "      <td>2020</td>\n",
              "      <td>57.4</td>\n",
              "      <td>44.4</td>\n",
              "      <td>46.4</td>\n",
              "      <td>33.5</td>\n",
              "      <td>79.5</td>\n",
              "      <td>66.3</td>\n",
              "      <td>53.9</td>\n",
              "      <td>60.9</td>\n",
              "      <td>54.3</td>\n",
              "      <td>80.4</td>\n",
              "      <td>64.2</td>\n",
              "      <td>55.0</td>\n",
              "      <td>50.0</td>\n",
              "      <td>America</td>\n",
              "    </tr>\n",
              "    <tr>\n",
              "      <th>3</th>\n",
              "      <td>Bolivia</td>\n",
              "      <td>2020</td>\n",
              "      <td>42.8</td>\n",
              "      <td>20.1</td>\n",
              "      <td>11.2</td>\n",
              "      <td>23.1</td>\n",
              "      <td>86.3</td>\n",
              "      <td>54.2</td>\n",
              "      <td>14.2</td>\n",
              "      <td>58.3</td>\n",
              "      <td>52.9</td>\n",
              "      <td>69.9</td>\n",
              "      <td>67.8</td>\n",
              "      <td>15.0</td>\n",
              "      <td>40.0</td>\n",
              "      <td>America</td>\n",
              "    </tr>\n",
              "    <tr>\n",
              "      <th>4</th>\n",
              "      <td>Brazil</td>\n",
              "      <td>2020</td>\n",
              "      <td>53.7</td>\n",
              "      <td>57.3</td>\n",
              "      <td>46.7</td>\n",
              "      <td>45.6</td>\n",
              "      <td>70.4</td>\n",
              "      <td>54.6</td>\n",
              "      <td>4.6</td>\n",
              "      <td>60.5</td>\n",
              "      <td>49.5</td>\n",
              "      <td>77.2</td>\n",
              "      <td>67.8</td>\n",
              "      <td>60.0</td>\n",
              "      <td>50.0</td>\n",
              "      <td>America</td>\n",
              "    </tr>\n",
              "    <tr>\n",
              "      <th>...</th>\n",
              "      <td>...</td>\n",
              "      <td>...</td>\n",
              "      <td>...</td>\n",
              "      <td>...</td>\n",
              "      <td>...</td>\n",
              "      <td>...</td>\n",
              "      <td>...</td>\n",
              "      <td>...</td>\n",
              "      <td>...</td>\n",
              "      <td>...</td>\n",
              "      <td>...</td>\n",
              "      <td>...</td>\n",
              "      <td>...</td>\n",
              "      <td>...</td>\n",
              "      <td>...</td>\n",
              "      <td>...</td>\n",
              "    </tr>\n",
              "    <tr>\n",
              "      <th>827</th>\n",
              "      <td>The Bahamas</td>\n",
              "      <td>1995</td>\n",
              "      <td>71.8</td>\n",
              "      <td>90.0</td>\n",
              "      <td>NaN</td>\n",
              "      <td>70.0</td>\n",
              "      <td>97.7</td>\n",
              "      <td>86.9</td>\n",
              "      <td>NaN</td>\n",
              "      <td>100.0</td>\n",
              "      <td>NaN</td>\n",
              "      <td>82.6</td>\n",
              "      <td>19.0</td>\n",
              "      <td>30.0</td>\n",
              "      <td>70.0</td>\n",
              "      <td>America</td>\n",
              "    </tr>\n",
              "    <tr>\n",
              "      <th>828</th>\n",
              "      <td>Trinidad and Tobago</td>\n",
              "      <td>1995</td>\n",
              "      <td>NaN</td>\n",
              "      <td>NaN</td>\n",
              "      <td>NaN</td>\n",
              "      <td>NaN</td>\n",
              "      <td>NaN</td>\n",
              "      <td>NaN</td>\n",
              "      <td>NaN</td>\n",
              "      <td>NaN</td>\n",
              "      <td>NaN</td>\n",
              "      <td>NaN</td>\n",
              "      <td>NaN</td>\n",
              "      <td>NaN</td>\n",
              "      <td>NaN</td>\n",
              "      <td>America</td>\n",
              "    </tr>\n",
              "    <tr>\n",
              "      <th>829</th>\n",
              "      <td>United States</td>\n",
              "      <td>1995</td>\n",
              "      <td>76.7</td>\n",
              "      <td>90.0</td>\n",
              "      <td>NaN</td>\n",
              "      <td>90.0</td>\n",
              "      <td>64.8</td>\n",
              "      <td>57.8</td>\n",
              "      <td>NaN</td>\n",
              "      <td>85.0</td>\n",
              "      <td>NaN</td>\n",
              "      <td>83.8</td>\n",
              "      <td>78.4</td>\n",
              "      <td>70.0</td>\n",
              "      <td>70.0</td>\n",
              "      <td>America</td>\n",
              "    </tr>\n",
              "    <tr>\n",
              "      <th>830</th>\n",
              "      <td>Uruguay</td>\n",
              "      <td>1995</td>\n",
              "      <td>62.5</td>\n",
              "      <td>50.0</td>\n",
              "      <td>NaN</td>\n",
              "      <td>50.0</td>\n",
              "      <td>84.6</td>\n",
              "      <td>79.6</td>\n",
              "      <td>NaN</td>\n",
              "      <td>70.0</td>\n",
              "      <td>NaN</td>\n",
              "      <td>45.2</td>\n",
              "      <td>63.0</td>\n",
              "      <td>70.0</td>\n",
              "      <td>50.0</td>\n",
              "      <td>America</td>\n",
              "    </tr>\n",
              "    <tr>\n",
              "      <th>831</th>\n",
              "      <td>Venezuela</td>\n",
              "      <td>1995</td>\n",
              "      <td>59.8</td>\n",
              "      <td>50.0</td>\n",
              "      <td>NaN</td>\n",
              "      <td>10.0</td>\n",
              "      <td>80.0</td>\n",
              "      <td>76.1</td>\n",
              "      <td>NaN</td>\n",
              "      <td>85.0</td>\n",
              "      <td>NaN</td>\n",
              "      <td>52.0</td>\n",
              "      <td>65.0</td>\n",
              "      <td>50.0</td>\n",
              "      <td>70.0</td>\n",
              "      <td>America</td>\n",
              "    </tr>\n",
              "  </tbody>\n",
              "</table>\n",
              "<p>832 rows × 16 columns</p>\n",
              "</div>"
            ],
            "text/plain": [
              "                    Name  Index Year  ...  Financial Freedom   Region\n",
              "0              Argentina        2020  ...               60.0  America\n",
              "1               Barbados        2020  ...               60.0  America\n",
              "2                 Belize        2020  ...               50.0  America\n",
              "3                Bolivia        2020  ...               40.0  America\n",
              "4                 Brazil        2020  ...               50.0  America\n",
              "..                   ...         ...  ...                ...      ...\n",
              "827          The Bahamas        1995  ...               70.0  America\n",
              "828  Trinidad and Tobago        1995  ...                NaN  America\n",
              "829        United States        1995  ...               70.0  America\n",
              "830             Uruguay         1995  ...               50.0  America\n",
              "831           Venezuela         1995  ...               70.0  America\n",
              "\n",
              "[832 rows x 16 columns]"
            ]
          },
          "metadata": {
            "tags": []
          },
          "execution_count": 24
        }
      ]
    },
    {
      "cell_type": "code",
      "metadata": {
        "id": "IqQMaD6jJt_1",
        "colab_type": "code",
        "colab": {}
      },
      "source": [
        "df_america['Index Year'] = pd.Categorical(df_america['Index Year'].apply(str))"
      ],
      "execution_count": 25,
      "outputs": []
    },
    {
      "cell_type": "markdown",
      "metadata": {
        "id": "kBIhlTRfg4mT",
        "colab_type": "text"
      },
      "source": [
        "### Generalizando y uniendo dataframes.\n",
        "\n",
        "Sabiendo cual es la estructura de uno de los dataset podemos generalizar a todos los demas, ya que fueron descargados de la misma fuente y de igual forma. Lo que haremos es agregar la region a cada dataframe, unirlos y luego eliminar las columnas que no se utilizarán para este estudio. Las columnas que se eliminarán son los indicadores utilizados para obtener el indice. \n",
        "\n",
        "> Nota: El indice HFI es una media de estos indicadores.\n"
      ]
    },
    {
      "cell_type": "markdown",
      "metadata": {
        "id": "z1ItEDSBiHRK",
        "colab_type": "text"
      },
      "source": [
        "Crearemos una función para obtener el nombre de los archivos de las carpetas donde se encuentran contenidos los datasets."
      ]
    },
    {
      "cell_type": "code",
      "metadata": {
        "id": "Iws7m-QVgnVY",
        "colab_type": "code",
        "colab": {}
      },
      "source": [
        "from os import scandir, getcwd\n",
        "\n",
        "def ls(ruta): # getcwd()\n",
        "  '''Funcion que retorna una lista con el nombre de los archivos de la ruta que le pasemos\n",
        "  Param:\n",
        "    ruta : str, string de la ruta del directorio. getcwd(): para la ruta actual\n",
        "  '''\n",
        "  return [arch.name for arch in scandir(ruta) if arch.is_file()]"
      ],
      "execution_count": 26,
      "outputs": []
    },
    {
      "cell_type": "code",
      "metadata": {
        "id": "AYNBtiD8R1Xg",
        "colab_type": "code",
        "colab": {}
      },
      "source": [
        "path_data_2020 = '/content/drive/My Drive/Colab Notebooks/republica-liberal/data/index_economic_freedom/data-2020'\n",
        "path_data = '/content/drive/My Drive/Colab Notebooks/republica-liberal/data/index_economic_freedom/'"
      ],
      "execution_count": 27,
      "outputs": []
    },
    {
      "cell_type": "markdown",
      "metadata": {
        "id": "SBR9A5bQSt8J",
        "colab_type": "text"
      },
      "source": [
        "Lista con los nombres de los archivos del año 2020 y del historico de 1995 a 2020."
      ]
    },
    {
      "cell_type": "code",
      "metadata": {
        "id": "boK8xeHQibQE",
        "colab_type": "code",
        "colab": {
          "base_uri": "https://localhost:8080/",
          "height": 0
        },
        "outputId": "db3f2d28-3f34-493a-d119-9a82ff08bc6b"
      },
      "source": [
        "nombres_datasets_hfi_2020 = ls(path_data_2020)\n",
        "nombres_datasets_hfi_2020"
      ],
      "execution_count": 28,
      "outputs": [
        {
          "output_type": "execute_result",
          "data": {
            "text/plain": [
              "['data-america-2020.csv',\n",
              " 'data-asia-pacific-2020.csv',\n",
              " 'data-north-africa-middle-east-2020.csv',\n",
              " 'data-europe-2020.csv',\n",
              " 'data-sub-saharan-africa-2020.csv']"
            ]
          },
          "metadata": {
            "tags": []
          },
          "execution_count": 28
        }
      ]
    },
    {
      "cell_type": "code",
      "metadata": {
        "id": "XXa2nW_YSIu8",
        "colab_type": "code",
        "colab": {
          "base_uri": "https://localhost:8080/",
          "height": 0
        },
        "outputId": "7a028d0a-f8a7-4be0-e08f-c206a9da777c"
      },
      "source": [
        "nombres_datasets_hfi = ls(path_data)\n",
        "nombres_datasets_hfi"
      ],
      "execution_count": 29,
      "outputs": [
        {
          "output_type": "execute_result",
          "data": {
            "text/plain": [
              "['data-europe.csv',\n",
              " 'data-america.csv',\n",
              " 'data-sub-saharan-africa.csv',\n",
              " 'data-north-africa-middle-east.csv',\n",
              " 'data-asia-pacific.csv']"
            ]
          },
          "metadata": {
            "tags": []
          },
          "execution_count": 29
        }
      ]
    },
    {
      "cell_type": "markdown",
      "metadata": {
        "id": "rFAGWgdjiS-n",
        "colab_type": "text"
      },
      "source": [
        "#### Año 2020\n",
        "\n",
        "Justamos todos los dataframes del año 2020 en uno, tambien le vamos a agregar una columna nueva llamada *Region*. El nombre de la region lo obtenemos del titulo de los csv's. "
      ]
    },
    {
      "cell_type": "code",
      "metadata": {
        "id": "MeOlWOzWe7OV",
        "colab_type": "code",
        "colab": {}
      },
      "source": [
        "import os "
      ],
      "execution_count": 30,
      "outputs": []
    },
    {
      "cell_type": "code",
      "metadata": {
        "colab_type": "code",
        "id": "LF32_rCXiqOq",
        "colab": {}
      },
      "source": [
        "os.chdir(path_data_2020)"
      ],
      "execution_count": 31,
      "outputs": []
    },
    {
      "cell_type": "code",
      "metadata": {
        "colab_type": "code",
        "id": "nXl1KcWDiqOc",
        "colab": {
          "base_uri": "https://localhost:8080/",
          "height": 0
        },
        "outputId": "9d6ea67e-c64a-46e4-868a-50f6d26b0edf"
      },
      "source": [
        "os.getcwd()"
      ],
      "execution_count": 32,
      "outputs": [
        {
          "output_type": "execute_result",
          "data": {
            "application/vnd.google.colaboratory.intrinsic+json": {
              "type": "string"
            },
            "text/plain": [
              "'/content/drive/My Drive/Colab Notebooks/republica-liberal/data/index_economic_freedom/data-2020'"
            ]
          },
          "metadata": {
            "tags": []
          },
          "execution_count": 32
        }
      ]
    },
    {
      "cell_type": "code",
      "metadata": {
        "id": "_lCoIg2U3iw7",
        "colab_type": "code",
        "colab": {
          "base_uri": "https://localhost:8080/",
          "height": 0
        },
        "outputId": "54f36d69-c6d8-43ef-aeb2-98db1bf89c26"
      },
      "source": [
        "import re\n",
        "\n",
        "pattern = 'data-([\\w\\W]+)-2020.csv'\n",
        "\n",
        "lista_de_datasets = []\n",
        "regiones = []\n",
        "\n",
        "for data_set in nombres_datasets_hfi_2020:\n",
        "  region = re.findall(pattern, data_set)\n",
        "  df = pd.read_csv(data_set)\n",
        "  df['Region'] = region[0]\n",
        "  df['Index Year'] = pd.Categorical(df['Index Year'].apply(str))\n",
        "  lista_de_datasets.append(df)\n",
        "\n",
        "df_hfi_2020 = pd.concat(lista_de_datasets)\n",
        "columnas = range(3, len(df_hfi_2020.columns) - 1)\n",
        "df_hfi_2020 = df_hfi_2020.drop(df_hfi_2020.columns[columnas], axis=1)\n",
        "df_hfi_2020.head(3)\n"
      ],
      "execution_count": 33,
      "outputs": [
        {
          "output_type": "execute_result",
          "data": {
            "text/html": [
              "<div>\n",
              "<style scoped>\n",
              "    .dataframe tbody tr th:only-of-type {\n",
              "        vertical-align: middle;\n",
              "    }\n",
              "\n",
              "    .dataframe tbody tr th {\n",
              "        vertical-align: top;\n",
              "    }\n",
              "\n",
              "    .dataframe thead th {\n",
              "        text-align: right;\n",
              "    }\n",
              "</style>\n",
              "<table border=\"1\" class=\"dataframe\">\n",
              "  <thead>\n",
              "    <tr style=\"text-align: right;\">\n",
              "      <th></th>\n",
              "      <th>Name</th>\n",
              "      <th>Index Year</th>\n",
              "      <th>Overall Score</th>\n",
              "      <th>Region</th>\n",
              "    </tr>\n",
              "  </thead>\n",
              "  <tbody>\n",
              "    <tr>\n",
              "      <th>0</th>\n",
              "      <td>Argentina</td>\n",
              "      <td>2020</td>\n",
              "      <td>53.1</td>\n",
              "      <td>america</td>\n",
              "    </tr>\n",
              "    <tr>\n",
              "      <th>1</th>\n",
              "      <td>Barbados</td>\n",
              "      <td>2020</td>\n",
              "      <td>61.4</td>\n",
              "      <td>america</td>\n",
              "    </tr>\n",
              "    <tr>\n",
              "      <th>2</th>\n",
              "      <td>Belize</td>\n",
              "      <td>2020</td>\n",
              "      <td>57.4</td>\n",
              "      <td>america</td>\n",
              "    </tr>\n",
              "  </tbody>\n",
              "</table>\n",
              "</div>"
            ],
            "text/plain": [
              "        Name Index Year  Overall Score   Region\n",
              "0  Argentina       2020           53.1  america\n",
              "1   Barbados       2020           61.4  america\n",
              "2     Belize       2020           57.4  america"
            ]
          },
          "metadata": {
            "tags": []
          },
          "execution_count": 33
        }
      ]
    },
    {
      "cell_type": "markdown",
      "metadata": {
        "id": "PmFuonSni7lV",
        "colab_type": "text"
      },
      "source": [
        "#### Historico 1995-2020\n",
        "\n",
        "Justamos todos los dataframes desde 1995 al año 2020 en uno, tambien le vamos a agregar una columna nueva llamada *Region*. El nombre de la region lo obtenemos del titulo de los csv's."
      ]
    },
    {
      "cell_type": "code",
      "metadata": {
        "id": "QO1TlmzwfJiS",
        "colab_type": "code",
        "colab": {}
      },
      "source": [
        "os.chdir(path_data)"
      ],
      "execution_count": 34,
      "outputs": []
    },
    {
      "cell_type": "code",
      "metadata": {
        "id": "KNi64YL7fG4H",
        "colab_type": "code",
        "colab": {
          "base_uri": "https://localhost:8080/",
          "height": 0
        },
        "outputId": "b0b9e1d2-83d9-40d8-c9bf-ab006483af7d"
      },
      "source": [
        "os.getcwd()"
      ],
      "execution_count": 35,
      "outputs": [
        {
          "output_type": "execute_result",
          "data": {
            "application/vnd.google.colaboratory.intrinsic+json": {
              "type": "string"
            },
            "text/plain": [
              "'/content/drive/My Drive/Colab Notebooks/republica-liberal/data/index_economic_freedom'"
            ]
          },
          "metadata": {
            "tags": []
          },
          "execution_count": 35
        }
      ]
    },
    {
      "cell_type": "code",
      "metadata": {
        "id": "aXe8-c-fVkM6",
        "colab_type": "code",
        "colab": {
          "base_uri": "https://localhost:8080/",
          "height": 0
        },
        "outputId": "d22a42a5-f8fe-4bb5-fe61-92edbcd93cff"
      },
      "source": [
        "import re\n",
        "\n",
        "pattern = 'data-([\\w\\W]+).csv'\n",
        "\n",
        "lista_de_datasets = []\n",
        "regiones = []\n",
        "\n",
        "for data_set in nombres_datasets_hfi:\n",
        "  region = re.findall(pattern, data_set)\n",
        "  df = pd.read_csv(data_set)\n",
        "  df['Region'] = region[0]\n",
        "  df['Index Year'] = pd.Categorical(df['Index Year'].apply(str))\n",
        "  lista_de_datasets.append(df)\n",
        "\n",
        "df_hfi = pd.concat(lista_de_datasets)\n",
        "columnas = range(3, len(df_hfi.columns) - 1)\n",
        "df_hfi = df_hfi.drop(df_hfi.columns[columnas], axis=1)\n",
        "df_hfi"
      ],
      "execution_count": 36,
      "outputs": [
        {
          "output_type": "execute_result",
          "data": {
            "text/html": [
              "<div>\n",
              "<style scoped>\n",
              "    .dataframe tbody tr th:only-of-type {\n",
              "        vertical-align: middle;\n",
              "    }\n",
              "\n",
              "    .dataframe tbody tr th {\n",
              "        vertical-align: top;\n",
              "    }\n",
              "\n",
              "    .dataframe thead th {\n",
              "        text-align: right;\n",
              "    }\n",
              "</style>\n",
              "<table border=\"1\" class=\"dataframe\">\n",
              "  <thead>\n",
              "    <tr style=\"text-align: right;\">\n",
              "      <th></th>\n",
              "      <th>Name</th>\n",
              "      <th>Index Year</th>\n",
              "      <th>Overall Score</th>\n",
              "      <th>Region</th>\n",
              "    </tr>\n",
              "  </thead>\n",
              "  <tbody>\n",
              "    <tr>\n",
              "      <th>0</th>\n",
              "      <td>Albania</td>\n",
              "      <td>2020</td>\n",
              "      <td>66.9</td>\n",
              "      <td>europe</td>\n",
              "    </tr>\n",
              "    <tr>\n",
              "      <th>1</th>\n",
              "      <td>Armenia</td>\n",
              "      <td>2020</td>\n",
              "      <td>70.6</td>\n",
              "      <td>europe</td>\n",
              "    </tr>\n",
              "    <tr>\n",
              "      <th>2</th>\n",
              "      <td>Austria</td>\n",
              "      <td>2020</td>\n",
              "      <td>73.3</td>\n",
              "      <td>europe</td>\n",
              "    </tr>\n",
              "    <tr>\n",
              "      <th>3</th>\n",
              "      <td>Azerbaijan</td>\n",
              "      <td>2020</td>\n",
              "      <td>69.3</td>\n",
              "      <td>europe</td>\n",
              "    </tr>\n",
              "    <tr>\n",
              "      <th>4</th>\n",
              "      <td>Belarus</td>\n",
              "      <td>2020</td>\n",
              "      <td>61.7</td>\n",
              "      <td>europe</td>\n",
              "    </tr>\n",
              "    <tr>\n",
              "      <th>...</th>\n",
              "      <td>...</td>\n",
              "      <td>...</td>\n",
              "      <td>...</td>\n",
              "      <td>...</td>\n",
              "    </tr>\n",
              "    <tr>\n",
              "      <th>1068</th>\n",
              "      <td>Tonga</td>\n",
              "      <td>1995</td>\n",
              "      <td>NaN</td>\n",
              "      <td>asia-pacific</td>\n",
              "    </tr>\n",
              "    <tr>\n",
              "      <th>1069</th>\n",
              "      <td>Turkmenistan</td>\n",
              "      <td>1995</td>\n",
              "      <td>NaN</td>\n",
              "      <td>asia-pacific</td>\n",
              "    </tr>\n",
              "    <tr>\n",
              "      <th>1070</th>\n",
              "      <td>Uzbekistan</td>\n",
              "      <td>1995</td>\n",
              "      <td>NaN</td>\n",
              "      <td>asia-pacific</td>\n",
              "    </tr>\n",
              "    <tr>\n",
              "      <th>1071</th>\n",
              "      <td>Vanuatu</td>\n",
              "      <td>1995</td>\n",
              "      <td>NaN</td>\n",
              "      <td>asia-pacific</td>\n",
              "    </tr>\n",
              "    <tr>\n",
              "      <th>1072</th>\n",
              "      <td>Vietnam</td>\n",
              "      <td>1995</td>\n",
              "      <td>41.7</td>\n",
              "      <td>asia-pacific</td>\n",
              "    </tr>\n",
              "  </tbody>\n",
              "</table>\n",
              "<p>4784 rows × 4 columns</p>\n",
              "</div>"
            ],
            "text/plain": [
              "              Name Index Year  Overall Score        Region\n",
              "0          Albania       2020           66.9        europe\n",
              "1          Armenia       2020           70.6        europe\n",
              "2          Austria       2020           73.3        europe\n",
              "3       Azerbaijan       2020           69.3        europe\n",
              "4          Belarus       2020           61.7        europe\n",
              "...            ...        ...            ...           ...\n",
              "1068         Tonga       1995            NaN  asia-pacific\n",
              "1069  Turkmenistan       1995            NaN  asia-pacific\n",
              "1070    Uzbekistan       1995            NaN  asia-pacific\n",
              "1071       Vanuatu       1995            NaN  asia-pacific\n",
              "1072       Vietnam       1995           41.7  asia-pacific\n",
              "\n",
              "[4784 rows x 4 columns]"
            ]
          },
          "metadata": {
            "tags": []
          },
          "execution_count": 36
        }
      ]
    },
    {
      "cell_type": "code",
      "metadata": {
        "id": "CDs06aXxRM4M",
        "colab_type": "code",
        "colab": {
          "base_uri": "https://localhost:8080/",
          "height": 0
        },
        "outputId": "d9b0a909-a56a-473b-bb34-93f62ba2201d"
      },
      "source": [
        "df_hfi.info()"
      ],
      "execution_count": 37,
      "outputs": [
        {
          "output_type": "stream",
          "text": [
            "<class 'pandas.core.frame.DataFrame'>\n",
            "Int64Index: 4784 entries, 0 to 1072\n",
            "Data columns (total 4 columns):\n",
            " #   Column         Non-Null Count  Dtype   \n",
            "---  ------         --------------  -----   \n",
            " 0   Name           4784 non-null   object  \n",
            " 1   Index Year     4784 non-null   category\n",
            " 2   Overall Score  4263 non-null   float64 \n",
            " 3   Region         4784 non-null   object  \n",
            "dtypes: category(1), float64(1), object(2)\n",
            "memory usage: 155.6+ KB\n"
          ],
          "name": "stdout"
        }
      ]
    },
    {
      "cell_type": "markdown",
      "metadata": {
        "id": "AQG_msDbLuaU",
        "colab_type": "text"
      },
      "source": [
        "# Selección de datasets. Limpiando datasets.\n",
        "\n",
        "Utilizaremos HFI 2020, HFI 1995-2020, EPI 1950 - 2020. "
      ]
    },
    {
      "cell_type": "markdown",
      "metadata": {
        "id": "iW_2C2YVkEH7",
        "colab_type": "text"
      },
      "source": [
        "## HFI 1995-2020"
      ]
    },
    {
      "cell_type": "code",
      "metadata": {
        "id": "5qlhoieTzNkM",
        "colab_type": "code",
        "colab": {
          "base_uri": "https://localhost:8080/",
          "height": 208
        },
        "outputId": "847b70d0-cd01-41e3-c575-c98715225421"
      },
      "source": [
        "df_hfi.info()"
      ],
      "execution_count": 38,
      "outputs": [
        {
          "output_type": "stream",
          "text": [
            "<class 'pandas.core.frame.DataFrame'>\n",
            "Int64Index: 4784 entries, 0 to 1072\n",
            "Data columns (total 4 columns):\n",
            " #   Column         Non-Null Count  Dtype   \n",
            "---  ------         --------------  -----   \n",
            " 0   Name           4784 non-null   object  \n",
            " 1   Index Year     4784 non-null   category\n",
            " 2   Overall Score  4263 non-null   float64 \n",
            " 3   Region         4784 non-null   object  \n",
            "dtypes: category(1), float64(1), object(2)\n",
            "memory usage: 155.6+ KB\n"
          ],
          "name": "stdout"
        }
      ]
    },
    {
      "cell_type": "code",
      "metadata": {
        "id": "xBjDDL5Xm9w_",
        "colab_type": "code",
        "colab": {}
      },
      "source": [
        ""
      ],
      "execution_count": 38,
      "outputs": []
    },
    {
      "cell_type": "markdown",
      "metadata": {
        "id": "3HGDqgqrj80L",
        "colab_type": "text"
      },
      "source": [
        "## HFI 2020"
      ]
    },
    {
      "cell_type": "code",
      "metadata": {
        "id": "WNZvorgzzTmc",
        "colab_type": "code",
        "colab": {
          "base_uri": "https://localhost:8080/",
          "height": 208
        },
        "outputId": "3ab2b9ba-bd59-483d-b1fc-c08ff6e552d1"
      },
      "source": [
        "df_hfi_2020.info()"
      ],
      "execution_count": 39,
      "outputs": [
        {
          "output_type": "stream",
          "text": [
            "<class 'pandas.core.frame.DataFrame'>\n",
            "Int64Index: 186 entries, 0 to 47\n",
            "Data columns (total 4 columns):\n",
            " #   Column         Non-Null Count  Dtype   \n",
            "---  ------         --------------  -----   \n",
            " 0   Name           186 non-null    object  \n",
            " 1   Index Year     186 non-null    category\n",
            " 2   Overall Score  180 non-null    float64 \n",
            " 3   Region         186 non-null    object  \n",
            "dtypes: category(1), float64(1), object(2)\n",
            "memory usage: 6.1+ KB\n"
          ],
          "name": "stdout"
        }
      ]
    },
    {
      "cell_type": "markdown",
      "metadata": {
        "id": "BEIQXEHHkIJM",
        "colab_type": "text"
      },
      "source": [
        "## EPI por Region"
      ]
    },
    {
      "cell_type": "markdown",
      "metadata": {
        "id": "NFp6tXwE07f-",
        "colab_type": "text"
      },
      "source": [
        "Utilizaremos el dataframe epi, con la columna adicional de las regiones."
      ]
    },
    {
      "cell_type": "code",
      "metadata": {
        "id": "vbnQvaWuMXUi",
        "colab_type": "code",
        "colab": {
          "base_uri": "https://localhost:8080/",
          "height": 104
        },
        "outputId": "5b9e35ff-6104-4a39-82b8-680f724c6e2a"
      },
      "source": [
        "df_epi_region.info()"
      ],
      "execution_count": 40,
      "outputs": [
        {
          "output_type": "stream",
          "text": [
            "<class 'pandas.core.frame.DataFrame'>\n",
            "RangeIndex: 180 entries, 0 to 179\n",
            "Columns: 142 entries, code to WWT.rgn.rank\n",
            "dtypes: float64(92), int64(47), object(3)\n",
            "memory usage: 199.8+ KB\n"
          ],
          "name": "stdout"
        }
      ]
    },
    {
      "cell_type": "code",
      "metadata": {
        "id": "JB9Wwq8piWKM",
        "colab_type": "code",
        "colab": {}
      },
      "source": [
        "df_epi_clean = df_epi_region.drop(['code', 'iso'], axis = 1)"
      ],
      "execution_count": 41,
      "outputs": []
    },
    {
      "cell_type": "markdown",
      "metadata": {
        "id": "lhoDY65wpb81",
        "colab_type": "text"
      },
      "source": [
        "Borraremos todas las columnas y solo dejaremos las del indice EPI y sus subindices ECO y HLT"
      ]
    },
    {
      "cell_type": "code",
      "metadata": {
        "id": "obl5QSegqsZr",
        "colab_type": "code",
        "colab": {
          "base_uri": "https://localhost:8080/",
          "height": 1000
        },
        "outputId": "95708f21-01b9-4a86-d941-26526233e007"
      },
      "source": [
        "list(df_epi_clean.columns)"
      ],
      "execution_count": 42,
      "outputs": [
        {
          "output_type": "execute_result",
          "data": {
            "text/plain": [
              "['country',\n",
              " 'region',\n",
              " 'EPI.new',\n",
              " 'HLT.new',\n",
              " 'AIR.new',\n",
              " 'PMD.new',\n",
              " 'HAD.new',\n",
              " 'OZD.new',\n",
              " 'H2O.new',\n",
              " 'USD.new',\n",
              " 'UWD.new',\n",
              " 'HMT.new',\n",
              " 'PBD.new',\n",
              " 'WMG.new',\n",
              " 'MSW.new',\n",
              " 'ECO.new',\n",
              " 'BDH.new',\n",
              " 'TBN.new',\n",
              " 'TBG.new',\n",
              " 'MPA.new',\n",
              " 'PAR.new',\n",
              " 'SHI.new',\n",
              " 'SPI.new',\n",
              " 'BHV.new',\n",
              " 'ECS.new',\n",
              " 'TCL.new',\n",
              " 'GRL.new',\n",
              " 'WTL.new',\n",
              " 'FSH.new',\n",
              " 'FSS.new',\n",
              " 'RMS.new',\n",
              " 'FGT.new',\n",
              " 'CCH.new',\n",
              " 'CDA.new',\n",
              " 'CHA.new',\n",
              " 'FGA.new',\n",
              " 'NDA.new',\n",
              " 'BCA.new',\n",
              " 'LCB.new',\n",
              " 'GIB.new',\n",
              " 'GHP.new',\n",
              " 'APE.new',\n",
              " 'SDA.new',\n",
              " 'NXA.new',\n",
              " 'AGR.new',\n",
              " 'SNM.new',\n",
              " 'WRS.new',\n",
              " 'WWT.new',\n",
              " 'EPI.rgn.mean',\n",
              " 'EPI.rgn.rank',\n",
              " 'HLT.rgn.mean',\n",
              " 'HLT.rgn.rank',\n",
              " 'AIR.rgn.mean',\n",
              " 'AIR.rgn.rank',\n",
              " 'PMD.rgn.mean',\n",
              " 'PMD.rgn.rank',\n",
              " 'HAD.rgn.mean',\n",
              " 'HAD.rgn.rank',\n",
              " 'OZD.rgn.mean',\n",
              " 'OZD.rgn.rank',\n",
              " 'H2O.rgn.mean',\n",
              " 'H2O.rgn.rank',\n",
              " 'USD.rgn.mean',\n",
              " 'USD.rgn.rank',\n",
              " 'UWD.rgn.mean',\n",
              " 'UWD.rgn.rank',\n",
              " 'HMT.rgn.mean',\n",
              " 'HMT.rgn.rank',\n",
              " 'PBD.rgn.mean',\n",
              " 'PBD.rgn.rank',\n",
              " 'WMG.rgn.mean',\n",
              " 'WMG.rgn.rank',\n",
              " 'MSW.rgn.mean',\n",
              " 'MSW.rgn.rank',\n",
              " 'ECO.rgn.mean',\n",
              " 'ECO.rgn.rank',\n",
              " 'BDH.rgn.mean',\n",
              " 'BDH.rgn.rank',\n",
              " 'TBN.rgn.mean',\n",
              " 'TBN.rgn.rank',\n",
              " 'TBG.rgn.mean',\n",
              " 'TBG.rgn.rank',\n",
              " 'MPA.rgn.mean',\n",
              " 'MPA.rgn.rank',\n",
              " 'PAR.rgn.mean',\n",
              " 'PAR.rgn.rank',\n",
              " 'SHI.rgn.mean',\n",
              " 'SHI.rgn.rank',\n",
              " 'SPI.rgn.mean',\n",
              " 'SPI.rgn.rank',\n",
              " 'BHV.rgn.mean',\n",
              " 'BHV.rgn.rank',\n",
              " 'ECS.rgn.mean',\n",
              " 'ECS.rgn.rank',\n",
              " 'TCL.rgn.mean',\n",
              " 'TCL.rgn.rank',\n",
              " 'GRL.rgn.mean',\n",
              " 'GRL.rgn.rank',\n",
              " 'WTL.rgn.mean',\n",
              " 'WTL.rgn.rank',\n",
              " 'FSH.rgn.mean',\n",
              " 'FSH.rgn.rank',\n",
              " 'FSS.rgn.mean',\n",
              " 'FSS.rgn.rank',\n",
              " 'RMS.rgn.mean',\n",
              " 'RMS.rgn.rank',\n",
              " 'FGT.rgn.mean',\n",
              " 'FGT.rgn.rank',\n",
              " 'CCH.rgn.mean',\n",
              " 'CCH.rgn.rank',\n",
              " 'CDA.rgn.mean',\n",
              " 'CDA.rgn.rank',\n",
              " 'CHA.rgn.mean',\n",
              " 'CHA.rgn.rank',\n",
              " 'FGA.rgn.mean',\n",
              " 'FGA.rgn.rank',\n",
              " 'NDA.rgn.mean',\n",
              " 'NDA.rgn.rank',\n",
              " 'BCA.rgn.mean',\n",
              " 'BCA.rgn.rank',\n",
              " 'LCB.rgn.mean',\n",
              " 'LCB.rgn.rank',\n",
              " 'GIB.rgn.mean',\n",
              " 'GIB.rgn.rank',\n",
              " 'GHP.rgn.mean',\n",
              " 'GHP.rgn.rank',\n",
              " 'APE.rgn.mean',\n",
              " 'APE.rgn.rank',\n",
              " 'SDA.rgn.mean',\n",
              " 'SDA.rgn.rank',\n",
              " 'NXA.rgn.mean',\n",
              " 'NXA.rgn.rank',\n",
              " 'AGR.rgn.mean',\n",
              " 'AGR.rgn.rank',\n",
              " 'SNM.rgn.mean',\n",
              " 'SNM.rgn.rank',\n",
              " 'WRS.rgn.mean',\n",
              " 'WRS.rgn.rank',\n",
              " 'WWT.rgn.mean',\n",
              " 'WWT.rgn.rank']"
            ]
          },
          "metadata": {
            "tags": []
          },
          "execution_count": 42
        }
      ]
    },
    {
      "cell_type": "code",
      "metadata": {
        "id": "A3iyQNU56bUd",
        "colab_type": "code",
        "colab": {}
      },
      "source": [
        "columns_selected = ['country','region', 'EPI.new', 'ECO.new', 'HLT.new'] "
      ],
      "execution_count": 43,
      "outputs": []
    },
    {
      "cell_type": "code",
      "metadata": {
        "id": "eEJyn_Xa73WX",
        "colab_type": "code",
        "colab": {
          "base_uri": "https://localhost:8080/",
          "height": 206
        },
        "outputId": "9c6e2e7b-f19c-4bc5-dab2-293285230858"
      },
      "source": [
        "df_epi_clean = df_epi_clean[columns_selected]\n",
        "df_epi_clean.head(5)"
      ],
      "execution_count": 44,
      "outputs": [
        {
          "output_type": "execute_result",
          "data": {
            "text/html": [
              "<div>\n",
              "<style scoped>\n",
              "    .dataframe tbody tr th:only-of-type {\n",
              "        vertical-align: middle;\n",
              "    }\n",
              "\n",
              "    .dataframe tbody tr th {\n",
              "        vertical-align: top;\n",
              "    }\n",
              "\n",
              "    .dataframe thead th {\n",
              "        text-align: right;\n",
              "    }\n",
              "</style>\n",
              "<table border=\"1\" class=\"dataframe\">\n",
              "  <thead>\n",
              "    <tr style=\"text-align: right;\">\n",
              "      <th></th>\n",
              "      <th>country</th>\n",
              "      <th>region</th>\n",
              "      <th>EPI.new</th>\n",
              "      <th>ECO.new</th>\n",
              "      <th>HLT.new</th>\n",
              "    </tr>\n",
              "  </thead>\n",
              "  <tbody>\n",
              "    <tr>\n",
              "      <th>0</th>\n",
              "      <td>Afghanistan</td>\n",
              "      <td>Southern Asia</td>\n",
              "      <td>25.5</td>\n",
              "      <td>29.2</td>\n",
              "      <td>20.0</td>\n",
              "    </tr>\n",
              "    <tr>\n",
              "      <th>1</th>\n",
              "      <td>Angola</td>\n",
              "      <td>Sub-Saharan Africa</td>\n",
              "      <td>29.7</td>\n",
              "      <td>35.9</td>\n",
              "      <td>20.4</td>\n",
              "    </tr>\n",
              "    <tr>\n",
              "      <th>2</th>\n",
              "      <td>Albania</td>\n",
              "      <td>Eastern Europe</td>\n",
              "      <td>49.0</td>\n",
              "      <td>52.0</td>\n",
              "      <td>44.5</td>\n",
              "    </tr>\n",
              "    <tr>\n",
              "      <th>3</th>\n",
              "      <td>United Arab Emirates</td>\n",
              "      <td>Greater Middle East</td>\n",
              "      <td>55.6</td>\n",
              "      <td>55.9</td>\n",
              "      <td>55.2</td>\n",
              "    </tr>\n",
              "    <tr>\n",
              "      <th>4</th>\n",
              "      <td>Argentina</td>\n",
              "      <td>Latin America &amp; Caribbean</td>\n",
              "      <td>52.2</td>\n",
              "      <td>46.8</td>\n",
              "      <td>60.2</td>\n",
              "    </tr>\n",
              "  </tbody>\n",
              "</table>\n",
              "</div>"
            ],
            "text/plain": [
              "                country                     region  EPI.new  ECO.new  HLT.new\n",
              "0           Afghanistan              Southern Asia     25.5     29.2     20.0\n",
              "1                Angola         Sub-Saharan Africa     29.7     35.9     20.4\n",
              "2               Albania             Eastern Europe     49.0     52.0     44.5\n",
              "3  United Arab Emirates        Greater Middle East     55.6     55.9     55.2\n",
              "4             Argentina  Latin America & Caribbean     52.2     46.8     60.2"
            ]
          },
          "metadata": {
            "tags": []
          },
          "execution_count": 44
        }
      ]
    },
    {
      "cell_type": "markdown",
      "metadata": {
        "id": "aQTPLHj3jKF8",
        "colab_type": "text"
      },
      "source": [
        "# Unificando datasets"
      ]
    },
    {
      "cell_type": "markdown",
      "metadata": {
        "id": "FxVGBRYrjR1-",
        "colab_type": "text"
      },
      "source": [
        "## Unificando datos 2020"
      ]
    },
    {
      "cell_type": "markdown",
      "metadata": {
        "id": "foniEgpfbjk1",
        "colab_type": "text"
      },
      "source": [
        "Vamos a hacer una unificacion de Regiones de ambos datasets. Veamos las regiones."
      ]
    },
    {
      "cell_type": "code",
      "metadata": {
        "id": "hVks4VHyBDiq",
        "colab_type": "code",
        "colab": {}
      },
      "source": [
        "df_epi_clean = df_epi_clean.rename(columns={'EPI.new':'EPI 2020', 'ECO.new': 'ECO 2020', 'HLT.new': 'HLT 2020'})"
      ],
      "execution_count": 45,
      "outputs": []
    },
    {
      "cell_type": "code",
      "metadata": {
        "id": "b4uRC9fKeXoS",
        "colab_type": "code",
        "colab": {
          "base_uri": "https://localhost:8080/",
          "height": 34
        },
        "outputId": "16ff30fb-0569-4119-92d1-072c51faf9e6"
      },
      "source": [
        "df_epi_clean.columns"
      ],
      "execution_count": 46,
      "outputs": [
        {
          "output_type": "execute_result",
          "data": {
            "text/plain": [
              "Index(['country', 'region', 'EPI 2020', 'ECO 2020', 'HLT 2020'], dtype='object')"
            ]
          },
          "metadata": {
            "tags": []
          },
          "execution_count": 46
        }
      ]
    },
    {
      "cell_type": "code",
      "metadata": {
        "id": "7CCNKUVIgrfM",
        "colab_type": "code",
        "colab": {
          "base_uri": "https://localhost:8080/",
          "height": 225
        },
        "outputId": "35864865-9e34-4739-d71a-9b0de3eb9176"
      },
      "source": [
        "df_epi_clean.info()"
      ],
      "execution_count": 47,
      "outputs": [
        {
          "output_type": "stream",
          "text": [
            "<class 'pandas.core.frame.DataFrame'>\n",
            "RangeIndex: 180 entries, 0 to 179\n",
            "Data columns (total 5 columns):\n",
            " #   Column    Non-Null Count  Dtype  \n",
            "---  ------    --------------  -----  \n",
            " 0   country   180 non-null    object \n",
            " 1   region    180 non-null    object \n",
            " 2   EPI 2020  180 non-null    float64\n",
            " 3   ECO 2020  180 non-null    float64\n",
            " 4   HLT 2020  180 non-null    float64\n",
            "dtypes: float64(3), object(2)\n",
            "memory usage: 7.2+ KB\n"
          ],
          "name": "stdout"
        }
      ]
    },
    {
      "cell_type": "code",
      "metadata": {
        "id": "vwO0WChJehFC",
        "colab_type": "code",
        "colab": {
          "base_uri": "https://localhost:8080/",
          "height": 34
        },
        "outputId": "d180913f-af54-4441-d08a-efb53861d7f7"
      },
      "source": [
        "df_hfi_2020.columns"
      ],
      "execution_count": 48,
      "outputs": [
        {
          "output_type": "execute_result",
          "data": {
            "text/plain": [
              "Index(['Name', 'Index Year', 'Overall Score', 'Region'], dtype='object')"
            ]
          },
          "metadata": {
            "tags": []
          },
          "execution_count": 48
        }
      ]
    },
    {
      "cell_type": "markdown",
      "metadata": {
        "id": "rbxtHHVSrpn9",
        "colab_type": "text"
      },
      "source": [
        "### Completando datos nulos"
      ]
    },
    {
      "cell_type": "markdown",
      "metadata": {
        "id": "sT11yoFt1PpM",
        "colab_type": "text"
      },
      "source": [
        "A ese diccionario llegamos porque se descubrio cuando se unieron los datasets y habian 36 valores nulos. Se creo una lista con los nombres de los paises nulos, con esa lista creamos un diccionario y modificamos los nombres que tenian espacios inadecuados.\n",
        "\n",
        "\n",
        "El codigo que utilizamos para descubrir y armar el diccionario de abajo es el siguiente: \n",
        "\n",
        "```py\n",
        "# Merge de datasets\n",
        "df_hfi_epi_union = pd.merge(df_hfi_2020, df_epi_clean, how = 'outer', left_on='Name', right_on='country')\n",
        "\n",
        "# Analisis de datos nulos \n",
        "df_hfi_epi_union_null = df_hfi_epi_union[df_hfi_epi_union.country.isnull()]\n",
        "list(df_hfi_epi_union_null['Name'].unique())\n",
        "\n",
        "df_hfi_epi_union_null_2 = df_hfi_epi_union[df_hfi_epi_union.Name.isnull()]\n",
        "list(df_hfi_epi_union_null_2['country'].unique())\n",
        "```\n",
        "\n"
      ]
    },
    {
      "cell_type": "code",
      "metadata": {
        "id": "bQptU72uzB-K",
        "colab_type": "code",
        "colab": {}
      },
      "source": [
        "# Diccionario para eliminar espacios al final del valor\n",
        "dict_para_hfi_Name = {\n",
        "  'Costa Rica '                 : 'Costa Rica',\n",
        "  'El Salvador '                : 'El Salvador',\n",
        "  'Guatemala '                  : 'Guatemala',\n",
        "  'Honduras '                   : 'Honduras',\n",
        "  'Jamaica '                    : 'Jamaica',\n",
        "  'Nicaragua '                  : 'Nicaragua',\n",
        "  'Panama '                     : 'Panama',\n",
        "  'Paraguay '                   : 'Paraguay',\n",
        "  'The Bahamas'                 : 'The Bahamas',\n",
        "  'United States'               : 'United States',\n",
        "  'Uruguay '                    : 'Uruguay',\n",
        "  'Venezuela '                  : 'Venezuela',\n",
        "  'Bangladesh '                 : 'Bangladesh',\n",
        "  'Burma'                       : 'Burma',\n",
        "  'Hong Kong'                   : 'Hong Kong',\n",
        "  'Kyrgyz Republic '            : 'Kyrgyz Republic',\n",
        "  'Macau'                       : 'Macau',\n",
        "  'Malaysia '                   : 'Malaysia',\n",
        "  'North Korea'                 : 'North Korea',\n",
        "  'Pakistan '                   : 'Pakistan',\n",
        "  'Thailand '                   : 'Thailand',\n",
        "  'Vietnam'                     : 'Vietnam',\n",
        "  'Libya'                       : 'Libya',\n",
        "  'Syria'                       : 'Syria',\n",
        "  'Yemen'                       : 'Yemen',\n",
        "  'Hungary '                    : 'Hungary',\n",
        "  'Kosovo'                      : 'Kosovo',\n",
        "  'Liechtenstein'               : 'Liechtenstein',\n",
        "  'Serbia '                     : 'Serbia',\n",
        "  \"Côte d'Ivoire \"              : \"Côte d'Ivoire\",\n",
        "  'Democratic Republic of Congo': 'Democratic Republic of Congo',\n",
        "  'Mozambique '                 : 'Mozambique',\n",
        "  'Republic of Congo '          : 'Republic of Congo',\n",
        "  'São Tomé and Príncipe '      : 'São Tomé and Príncipe',\n",
        "  'Somalia'                     : 'Somalia',\n",
        "  'The Gambia'                  : 'The Gambia'\n",
        "}"
      ],
      "execution_count": 49,
      "outputs": []
    },
    {
      "cell_type": "code",
      "metadata": {
        "id": "TWu60vv_y0UF",
        "colab_type": "code",
        "colab": {}
      },
      "source": [
        "# Seteo como indice la columna name, renombro esas columnas y luego reseteo la columna a su estado original\n",
        "df_hfi_2020 = df_hfi_2020.set_index(['Name']).rename(index = dict_para_hfi_Name)\n",
        "df_hfi_2020 = df_hfi_2020.reset_index()"
      ],
      "execution_count": 50,
      "outputs": []
    },
    {
      "cell_type": "code",
      "metadata": {
        "id": "RmauD53Bto-t",
        "colab_type": "code",
        "colab": {}
      },
      "source": [
        "df_hfi_epi_union = pd.merge(df_hfi_2020, df_epi_clean, how = 'outer', left_on='Name', right_on='country')"
      ],
      "execution_count": 51,
      "outputs": []
    },
    {
      "cell_type": "code",
      "metadata": {
        "id": "TAIwq61n1CeQ",
        "colab_type": "code",
        "colab": {
          "base_uri": "https://localhost:8080/",
          "height": 295
        },
        "outputId": "381b5093-9956-4b11-c3ba-b89bd646d707"
      },
      "source": [
        "df_hfi_epi_union.info()"
      ],
      "execution_count": 52,
      "outputs": [
        {
          "output_type": "stream",
          "text": [
            "<class 'pandas.core.frame.DataFrame'>\n",
            "Int64Index: 198 entries, 0 to 197\n",
            "Data columns (total 9 columns):\n",
            " #   Column         Non-Null Count  Dtype   \n",
            "---  ------         --------------  -----   \n",
            " 0   Name           186 non-null    object  \n",
            " 1   Index Year     186 non-null    category\n",
            " 2   Overall Score  180 non-null    float64 \n",
            " 3   Region         186 non-null    object  \n",
            " 4   country        180 non-null    object  \n",
            " 5   region         180 non-null    object  \n",
            " 6   EPI 2020       180 non-null    float64 \n",
            " 7   ECO 2020       180 non-null    float64 \n",
            " 8   HLT 2020       180 non-null    float64 \n",
            "dtypes: category(1), float64(4), object(4)\n",
            "memory usage: 14.2+ KB\n"
          ],
          "name": "stdout"
        }
      ]
    },
    {
      "cell_type": "markdown",
      "metadata": {
        "id": "dScCtqtO7Vak",
        "colab_type": "text"
      },
      "source": [
        "El mismo procedimiento que antes lo hago ahora, pero para los paises del epi (country de epi)\n",
        "\n",
        "\n",
        "El codigo usado fue: \n",
        "\n",
        "```py\n",
        "# Analisis de datos nulos. Name de hfi\n",
        "df_hfi_epi_union_null = df_hfi_epi_union[df_hfi_epi_union.country.isnull()]\n",
        "list(df_hfi_epi_union_null['Name'].unique())\n",
        "\n",
        "# Analisis de datos nulos. country de epi\n",
        "df_hfi_epi_union_null_2 = df_hfi_epi_union[df_hfi_epi_union.Name.isnull()]\n",
        "list(df_hfi_epi_union_null_2['country'].unique())\n",
        "```\n",
        "\n"
      ]
    },
    {
      "cell_type": "code",
      "metadata": {
        "id": "6Nb8_OSh400j",
        "colab_type": "code",
        "colab": {}
      },
      "source": [
        "dict_para_epi_country = {\n",
        " 'Antigua and Barbuda'      : 'Antigua and Barbuda',\n",
        " 'Bahamas'                  : 'The Bahamas',\n",
        " \"Cote d'Ivoire\"            : \"Côte d'Ivoire\",\n",
        " 'Dem. Rep. Congo'          : 'Democratic Republic of Congo',\n",
        " 'Gambia'                   : 'The Gambia',\n",
        " 'Grenada'                  : 'Grenada',\n",
        " 'Kyrgyzstan'               : 'Kyrgyz Republic',\n",
        " 'Marshall Islands'         : 'Marshall Islands',\n",
        " 'Myanmar'                  : 'Burma',\n",
        " 'Sao Tome and Principe'    : 'São Tomé and Príncipe',\n",
        " 'United States of America' : 'United States',\n",
        " 'Viet Nam'                 : 'Vietnam'\n",
        "}"
      ],
      "execution_count": 53,
      "outputs": []
    },
    {
      "cell_type": "code",
      "metadata": {
        "id": "dwIXiL4s7tD7",
        "colab_type": "code",
        "colab": {}
      },
      "source": [
        "df_epi_clean = df_epi_clean.set_index(['country']).rename(index = dict_para_epi_country)\n",
        "df_epi_clean = df_epi_clean.reset_index()"
      ],
      "execution_count": 54,
      "outputs": []
    },
    {
      "cell_type": "code",
      "metadata": {
        "id": "YYaI4G2g76bl",
        "colab_type": "code",
        "colab": {}
      },
      "source": [
        "df_hfi_epi_union = pd.merge(df_hfi_2020, df_epi_clean, how = 'outer', left_on='Name', right_on='country')"
      ],
      "execution_count": 55,
      "outputs": []
    },
    {
      "cell_type": "code",
      "metadata": {
        "id": "g1p6YF0n77_e",
        "colab_type": "code",
        "colab": {
          "base_uri": "https://localhost:8080/",
          "height": 295
        },
        "outputId": "2b399323-392b-470c-ebf9-7cd9e6630e8a"
      },
      "source": [
        "df_hfi_epi_union.info()"
      ],
      "execution_count": 56,
      "outputs": [
        {
          "output_type": "stream",
          "text": [
            "<class 'pandas.core.frame.DataFrame'>\n",
            "Int64Index: 189 entries, 0 to 188\n",
            "Data columns (total 9 columns):\n",
            " #   Column         Non-Null Count  Dtype   \n",
            "---  ------         --------------  -----   \n",
            " 0   Name           186 non-null    object  \n",
            " 1   Index Year     186 non-null    category\n",
            " 2   Overall Score  180 non-null    float64 \n",
            " 3   Region         186 non-null    object  \n",
            " 4   country        180 non-null    object  \n",
            " 5   region         180 non-null    object  \n",
            " 6   EPI 2020       180 non-null    float64 \n",
            " 7   ECO 2020       180 non-null    float64 \n",
            " 8   HLT 2020       180 non-null    float64 \n",
            "dtypes: category(1), float64(4), object(4)\n",
            "memory usage: 13.6+ KB\n"
          ],
          "name": "stdout"
        }
      ]
    },
    {
      "cell_type": "markdown",
      "metadata": {
        "id": "-diCrqcPrWvC",
        "colab_type": "text"
      },
      "source": [
        "### Cambiamos los nombres a las columnas.\n",
        "\n",
        "Cambiamos el nombre de algunas columnas."
      ]
    },
    {
      "cell_type": "code",
      "metadata": {
        "id": "IuX-fjrLE_yu",
        "colab_type": "code",
        "colab": {
          "base_uri": "https://localhost:8080/",
          "height": 173
        },
        "outputId": "aa2ed1cd-49ad-46d0-fdee-ef48eb65e7ef"
      },
      "source": [
        "list(df_hfi_epi_union.columns)"
      ],
      "execution_count": 57,
      "outputs": [
        {
          "output_type": "execute_result",
          "data": {
            "text/plain": [
              "['Name',\n",
              " 'Index Year',\n",
              " 'Overall Score',\n",
              " 'Region',\n",
              " 'country',\n",
              " 'region',\n",
              " 'EPI 2020',\n",
              " 'ECO 2020',\n",
              " 'HLT 2020']"
            ]
          },
          "metadata": {
            "tags": []
          },
          "execution_count": 57
        }
      ]
    },
    {
      "cell_type": "code",
      "metadata": {
        "id": "KpPod_jDFIMB",
        "colab_type": "code",
        "colab": {}
      },
      "source": [
        "dict_columnas = {\n",
        " 'Name'         :'Name',\n",
        " 'Index Year'   :'year',\n",
        " 'Overall Score':'human_freedom_index',\n",
        " 'Region'       :'Region',\n",
        " 'country'      :'country',\n",
        " 'region'       :'region',\n",
        " 'EPI 2020'     :'environmetal_performance_index',\n",
        " 'ECO 2020'     :'ecosystem_vitality',\n",
        " 'HLT 2020'     :'environmental_health'\n",
        "}"
      ],
      "execution_count": 58,
      "outputs": []
    },
    {
      "cell_type": "code",
      "metadata": {
        "id": "9pDBrIFJGcBZ",
        "colab_type": "code",
        "colab": {}
      },
      "source": [
        "df_hfi_epi_union = df_hfi_epi_union.rename(columns=dict_columnas)"
      ],
      "execution_count": 59,
      "outputs": []
    },
    {
      "cell_type": "markdown",
      "metadata": {
        "id": "ZVl1pE2Nra5t",
        "colab_type": "text"
      },
      "source": [
        "### Analizamos datos nulos\n",
        "\n",
        "Analizamos datos nulos que no pudimos completar."
      ]
    },
    {
      "cell_type": "code",
      "metadata": {
        "id": "doq6mRLk8G7J",
        "colab_type": "code",
        "colab": {
          "base_uri": "https://localhost:8080/",
          "height": 173
        },
        "outputId": "27eae5f3-87a3-42b8-84bc-ec7309495abe"
      },
      "source": [
        "# Analisis de datos nulos. Name de hfi\n",
        "df_hfi_epi_union_null = df_hfi_epi_union[df_hfi_epi_union.country.isnull()]\n",
        "list(df_hfi_epi_union_null['Name'].unique())"
      ],
      "execution_count": 60,
      "outputs": [
        {
          "output_type": "execute_result",
          "data": {
            "text/plain": [
              "['Hong Kong',\n",
              " 'Macau',\n",
              " 'North Korea',\n",
              " 'Libya',\n",
              " 'Syria',\n",
              " 'Yemen',\n",
              " 'Kosovo',\n",
              " 'Liechtenstein',\n",
              " 'Somalia']"
            ]
          },
          "metadata": {
            "tags": []
          },
          "execution_count": 60
        }
      ]
    },
    {
      "cell_type": "code",
      "metadata": {
        "id": "hORJoiEb8JgE",
        "colab_type": "code",
        "colab": {
          "base_uri": "https://localhost:8080/",
          "height": 34
        },
        "outputId": "36e75150-a321-4a05-aa21-52c55b8e03a5"
      },
      "source": [
        "# Analisis de datos nulos. country de epi\n",
        "df_hfi_epi_union_null_2 = df_hfi_epi_union[df_hfi_epi_union.Name.isnull()]\n",
        "list(df_hfi_epi_union_null_2['country'].unique())"
      ],
      "execution_count": 61,
      "outputs": [
        {
          "output_type": "execute_result",
          "data": {
            "text/plain": [
              "['Antigua and Barbuda', 'Grenada', 'Marshall Islands']"
            ]
          },
          "metadata": {
            "tags": []
          },
          "execution_count": 61
        }
      ]
    },
    {
      "cell_type": "markdown",
      "metadata": {
        "id": "zJPVko5HDVH2",
        "colab_type": "text"
      },
      "source": [
        "Los siguientes paises no tienen datos en las columnas que se observan. Se filtrara un dataset unido sin estos datos. \n",
        "\n",
        "Luego a modo de IDEA... se podria calcular los valores nulos de estos paises haciendo una regresin lineal con los datos que se saben. El valor que obtendremos será una aproximación con un grado de confiabilidad mayor o menor en funcion del modelo que se obtenda.  "
      ]
    },
    {
      "cell_type": "code",
      "metadata": {
        "id": "kes5NBaX8bKs",
        "colab_type": "code",
        "colab": {
          "base_uri": "https://localhost:8080/",
          "height": 285
        },
        "outputId": "d092acfa-9ff6-4f8c-e215-99d24326894b"
      },
      "source": [
        "df_hfi_epi_union_nulls = df_hfi_epi_union[df_hfi_epi_union.Name.isnull()]\n",
        "df_hfi_epi_union_nulls"
      ],
      "execution_count": 62,
      "outputs": [
        {
          "output_type": "execute_result",
          "data": {
            "text/html": [
              "<div>\n",
              "<style scoped>\n",
              "    .dataframe tbody tr th:only-of-type {\n",
              "        vertical-align: middle;\n",
              "    }\n",
              "\n",
              "    .dataframe tbody tr th {\n",
              "        vertical-align: top;\n",
              "    }\n",
              "\n",
              "    .dataframe thead th {\n",
              "        text-align: right;\n",
              "    }\n",
              "</style>\n",
              "<table border=\"1\" class=\"dataframe\">\n",
              "  <thead>\n",
              "    <tr style=\"text-align: right;\">\n",
              "      <th></th>\n",
              "      <th>Name</th>\n",
              "      <th>year</th>\n",
              "      <th>human_freedom_index</th>\n",
              "      <th>Region</th>\n",
              "      <th>country</th>\n",
              "      <th>region</th>\n",
              "      <th>environmetal_performance_index</th>\n",
              "      <th>ecosystem_vitality</th>\n",
              "      <th>environmental_health</th>\n",
              "    </tr>\n",
              "  </thead>\n",
              "  <tbody>\n",
              "    <tr>\n",
              "      <th>186</th>\n",
              "      <td>NaN</td>\n",
              "      <td>NaN</td>\n",
              "      <td>NaN</td>\n",
              "      <td>NaN</td>\n",
              "      <td>Antigua and Barbuda</td>\n",
              "      <td>Latin America &amp; Caribbean</td>\n",
              "      <td>48.5</td>\n",
              "      <td>43.8</td>\n",
              "      <td>55.5</td>\n",
              "    </tr>\n",
              "    <tr>\n",
              "      <th>187</th>\n",
              "      <td>NaN</td>\n",
              "      <td>NaN</td>\n",
              "      <td>NaN</td>\n",
              "      <td>NaN</td>\n",
              "      <td>Grenada</td>\n",
              "      <td>Latin America &amp; Caribbean</td>\n",
              "      <td>43.1</td>\n",
              "      <td>40.9</td>\n",
              "      <td>46.3</td>\n",
              "    </tr>\n",
              "    <tr>\n",
              "      <th>188</th>\n",
              "      <td>NaN</td>\n",
              "      <td>NaN</td>\n",
              "      <td>NaN</td>\n",
              "      <td>NaN</td>\n",
              "      <td>Marshall Islands</td>\n",
              "      <td>Asia-Pacific</td>\n",
              "      <td>30.8</td>\n",
              "      <td>29.6</td>\n",
              "      <td>32.6</td>\n",
              "    </tr>\n",
              "  </tbody>\n",
              "</table>\n",
              "</div>"
            ],
            "text/plain": [
              "    Name year  ...  ecosystem_vitality environmental_health\n",
              "186  NaN  NaN  ...                43.8                 55.5\n",
              "187  NaN  NaN  ...                40.9                 46.3\n",
              "188  NaN  NaN  ...                29.6                 32.6\n",
              "\n",
              "[3 rows x 9 columns]"
            ]
          },
          "metadata": {
            "tags": []
          },
          "execution_count": 62
        }
      ]
    },
    {
      "cell_type": "code",
      "metadata": {
        "id": "f8Vs2LvS-1K9",
        "colab_type": "code",
        "colab": {
          "base_uri": "https://localhost:8080/",
          "height": 595
        },
        "outputId": "f81dfa51-9de8-42ce-c5f8-9d8c5ac07680"
      },
      "source": [
        "df_hfi_epi_union_nulls_2 = df_hfi_epi_union[df_hfi_epi_union.country.isnull()]\n",
        "df_hfi_epi_union_nulls_2"
      ],
      "execution_count": 63,
      "outputs": [
        {
          "output_type": "execute_result",
          "data": {
            "text/html": [
              "<div>\n",
              "<style scoped>\n",
              "    .dataframe tbody tr th:only-of-type {\n",
              "        vertical-align: middle;\n",
              "    }\n",
              "\n",
              "    .dataframe tbody tr th {\n",
              "        vertical-align: top;\n",
              "    }\n",
              "\n",
              "    .dataframe thead th {\n",
              "        text-align: right;\n",
              "    }\n",
              "</style>\n",
              "<table border=\"1\" class=\"dataframe\">\n",
              "  <thead>\n",
              "    <tr style=\"text-align: right;\">\n",
              "      <th></th>\n",
              "      <th>Name</th>\n",
              "      <th>year</th>\n",
              "      <th>human_freedom_index</th>\n",
              "      <th>Region</th>\n",
              "      <th>country</th>\n",
              "      <th>region</th>\n",
              "      <th>environmetal_performance_index</th>\n",
              "      <th>ecosystem_vitality</th>\n",
              "      <th>environmental_health</th>\n",
              "    </tr>\n",
              "  </thead>\n",
              "  <tbody>\n",
              "    <tr>\n",
              "      <th>41</th>\n",
              "      <td>Hong Kong</td>\n",
              "      <td>2020</td>\n",
              "      <td>89.1</td>\n",
              "      <td>asia-pacific</td>\n",
              "      <td>NaN</td>\n",
              "      <td>NaN</td>\n",
              "      <td>NaN</td>\n",
              "      <td>NaN</td>\n",
              "      <td>NaN</td>\n",
              "    </tr>\n",
              "    <tr>\n",
              "      <th>49</th>\n",
              "      <td>Macau</td>\n",
              "      <td>2020</td>\n",
              "      <td>70.3</td>\n",
              "      <td>asia-pacific</td>\n",
              "      <td>NaN</td>\n",
              "      <td>NaN</td>\n",
              "      <td>NaN</td>\n",
              "      <td>NaN</td>\n",
              "      <td>NaN</td>\n",
              "    </tr>\n",
              "    <tr>\n",
              "      <th>56</th>\n",
              "      <td>North Korea</td>\n",
              "      <td>2020</td>\n",
              "      <td>4.2</td>\n",
              "      <td>asia-pacific</td>\n",
              "      <td>NaN</td>\n",
              "      <td>NaN</td>\n",
              "      <td>NaN</td>\n",
              "      <td>NaN</td>\n",
              "      <td>NaN</td>\n",
              "    </tr>\n",
              "    <tr>\n",
              "      <th>83</th>\n",
              "      <td>Libya</td>\n",
              "      <td>2020</td>\n",
              "      <td>NaN</td>\n",
              "      <td>north-africa-middle-east</td>\n",
              "      <td>NaN</td>\n",
              "      <td>NaN</td>\n",
              "      <td>NaN</td>\n",
              "      <td>NaN</td>\n",
              "      <td>NaN</td>\n",
              "    </tr>\n",
              "    <tr>\n",
              "      <th>88</th>\n",
              "      <td>Syria</td>\n",
              "      <td>2020</td>\n",
              "      <td>NaN</td>\n",
              "      <td>north-africa-middle-east</td>\n",
              "      <td>NaN</td>\n",
              "      <td>NaN</td>\n",
              "      <td>NaN</td>\n",
              "      <td>NaN</td>\n",
              "      <td>NaN</td>\n",
              "    </tr>\n",
              "    <tr>\n",
              "      <th>91</th>\n",
              "      <td>Yemen</td>\n",
              "      <td>2020</td>\n",
              "      <td>NaN</td>\n",
              "      <td>north-africa-middle-east</td>\n",
              "      <td>NaN</td>\n",
              "      <td>NaN</td>\n",
              "      <td>NaN</td>\n",
              "      <td>NaN</td>\n",
              "      <td>NaN</td>\n",
              "    </tr>\n",
              "    <tr>\n",
              "      <th>114</th>\n",
              "      <td>Kosovo</td>\n",
              "      <td>2020</td>\n",
              "      <td>67.4</td>\n",
              "      <td>europe</td>\n",
              "      <td>NaN</td>\n",
              "      <td>NaN</td>\n",
              "      <td>NaN</td>\n",
              "      <td>NaN</td>\n",
              "      <td>NaN</td>\n",
              "    </tr>\n",
              "    <tr>\n",
              "      <th>116</th>\n",
              "      <td>Liechtenstein</td>\n",
              "      <td>2020</td>\n",
              "      <td>NaN</td>\n",
              "      <td>europe</td>\n",
              "      <td>NaN</td>\n",
              "      <td>NaN</td>\n",
              "      <td>NaN</td>\n",
              "      <td>NaN</td>\n",
              "      <td>NaN</td>\n",
              "    </tr>\n",
              "    <tr>\n",
              "      <th>177</th>\n",
              "      <td>Somalia</td>\n",
              "      <td>2020</td>\n",
              "      <td>NaN</td>\n",
              "      <td>sub-saharan-africa</td>\n",
              "      <td>NaN</td>\n",
              "      <td>NaN</td>\n",
              "      <td>NaN</td>\n",
              "      <td>NaN</td>\n",
              "      <td>NaN</td>\n",
              "    </tr>\n",
              "  </tbody>\n",
              "</table>\n",
              "</div>"
            ],
            "text/plain": [
              "              Name  year  ...  ecosystem_vitality environmental_health\n",
              "41       Hong Kong  2020  ...                 NaN                  NaN\n",
              "49           Macau  2020  ...                 NaN                  NaN\n",
              "56     North Korea  2020  ...                 NaN                  NaN\n",
              "83           Libya  2020  ...                 NaN                  NaN\n",
              "88           Syria  2020  ...                 NaN                  NaN\n",
              "91           Yemen  2020  ...                 NaN                  NaN\n",
              "114         Kosovo  2020  ...                 NaN                  NaN\n",
              "116  Liechtenstein  2020  ...                 NaN                  NaN\n",
              "177        Somalia  2020  ...                 NaN                  NaN\n",
              "\n",
              "[9 rows x 9 columns]"
            ]
          },
          "metadata": {
            "tags": []
          },
          "execution_count": 63
        }
      ]
    },
    {
      "cell_type": "markdown",
      "metadata": {
        "id": "rNTW2gPMoO9h",
        "colab_type": "text"
      },
      "source": [
        "Creamos un dataframe con datos nulos, el cual nos puede servir para la propuesta que hicimos mas arriba.\n",
        "\n",
        "Primero concatenamos los datasets"
      ]
    },
    {
      "cell_type": "code",
      "metadata": {
        "id": "0jHUJ0OrnhmW",
        "colab_type": "code",
        "colab": {}
      },
      "source": [
        "df_hfi_epi_with_nulls = pd.concat([df_hfi_epi_union_nulls, df_hfi_epi_union_nulls_2]).reset_index().drop(columns=['index'])"
      ],
      "execution_count": 64,
      "outputs": []
    },
    {
      "cell_type": "code",
      "metadata": {
        "id": "vcexk_n-oUtm",
        "colab_type": "code",
        "colab": {
          "base_uri": "https://localhost:8080/",
          "height": 810
        },
        "outputId": "731ffa27-98ab-4122-d54c-41acd334493b"
      },
      "source": [
        "df_hfi_epi_with_nulls"
      ],
      "execution_count": 65,
      "outputs": [
        {
          "output_type": "execute_result",
          "data": {
            "text/html": [
              "<div>\n",
              "<style scoped>\n",
              "    .dataframe tbody tr th:only-of-type {\n",
              "        vertical-align: middle;\n",
              "    }\n",
              "\n",
              "    .dataframe tbody tr th {\n",
              "        vertical-align: top;\n",
              "    }\n",
              "\n",
              "    .dataframe thead th {\n",
              "        text-align: right;\n",
              "    }\n",
              "</style>\n",
              "<table border=\"1\" class=\"dataframe\">\n",
              "  <thead>\n",
              "    <tr style=\"text-align: right;\">\n",
              "      <th></th>\n",
              "      <th>Name</th>\n",
              "      <th>year</th>\n",
              "      <th>human_freedom_index</th>\n",
              "      <th>Region</th>\n",
              "      <th>country</th>\n",
              "      <th>region</th>\n",
              "      <th>environmetal_performance_index</th>\n",
              "      <th>ecosystem_vitality</th>\n",
              "      <th>environmental_health</th>\n",
              "    </tr>\n",
              "  </thead>\n",
              "  <tbody>\n",
              "    <tr>\n",
              "      <th>0</th>\n",
              "      <td>NaN</td>\n",
              "      <td>NaN</td>\n",
              "      <td>NaN</td>\n",
              "      <td>NaN</td>\n",
              "      <td>Antigua and Barbuda</td>\n",
              "      <td>Latin America &amp; Caribbean</td>\n",
              "      <td>48.5</td>\n",
              "      <td>43.8</td>\n",
              "      <td>55.5</td>\n",
              "    </tr>\n",
              "    <tr>\n",
              "      <th>1</th>\n",
              "      <td>NaN</td>\n",
              "      <td>NaN</td>\n",
              "      <td>NaN</td>\n",
              "      <td>NaN</td>\n",
              "      <td>Grenada</td>\n",
              "      <td>Latin America &amp; Caribbean</td>\n",
              "      <td>43.1</td>\n",
              "      <td>40.9</td>\n",
              "      <td>46.3</td>\n",
              "    </tr>\n",
              "    <tr>\n",
              "      <th>2</th>\n",
              "      <td>NaN</td>\n",
              "      <td>NaN</td>\n",
              "      <td>NaN</td>\n",
              "      <td>NaN</td>\n",
              "      <td>Marshall Islands</td>\n",
              "      <td>Asia-Pacific</td>\n",
              "      <td>30.8</td>\n",
              "      <td>29.6</td>\n",
              "      <td>32.6</td>\n",
              "    </tr>\n",
              "    <tr>\n",
              "      <th>3</th>\n",
              "      <td>Hong Kong</td>\n",
              "      <td>2020</td>\n",
              "      <td>89.1</td>\n",
              "      <td>asia-pacific</td>\n",
              "      <td>NaN</td>\n",
              "      <td>NaN</td>\n",
              "      <td>NaN</td>\n",
              "      <td>NaN</td>\n",
              "      <td>NaN</td>\n",
              "    </tr>\n",
              "    <tr>\n",
              "      <th>4</th>\n",
              "      <td>Macau</td>\n",
              "      <td>2020</td>\n",
              "      <td>70.3</td>\n",
              "      <td>asia-pacific</td>\n",
              "      <td>NaN</td>\n",
              "      <td>NaN</td>\n",
              "      <td>NaN</td>\n",
              "      <td>NaN</td>\n",
              "      <td>NaN</td>\n",
              "    </tr>\n",
              "    <tr>\n",
              "      <th>5</th>\n",
              "      <td>North Korea</td>\n",
              "      <td>2020</td>\n",
              "      <td>4.2</td>\n",
              "      <td>asia-pacific</td>\n",
              "      <td>NaN</td>\n",
              "      <td>NaN</td>\n",
              "      <td>NaN</td>\n",
              "      <td>NaN</td>\n",
              "      <td>NaN</td>\n",
              "    </tr>\n",
              "    <tr>\n",
              "      <th>6</th>\n",
              "      <td>Libya</td>\n",
              "      <td>2020</td>\n",
              "      <td>NaN</td>\n",
              "      <td>north-africa-middle-east</td>\n",
              "      <td>NaN</td>\n",
              "      <td>NaN</td>\n",
              "      <td>NaN</td>\n",
              "      <td>NaN</td>\n",
              "      <td>NaN</td>\n",
              "    </tr>\n",
              "    <tr>\n",
              "      <th>7</th>\n",
              "      <td>Syria</td>\n",
              "      <td>2020</td>\n",
              "      <td>NaN</td>\n",
              "      <td>north-africa-middle-east</td>\n",
              "      <td>NaN</td>\n",
              "      <td>NaN</td>\n",
              "      <td>NaN</td>\n",
              "      <td>NaN</td>\n",
              "      <td>NaN</td>\n",
              "    </tr>\n",
              "    <tr>\n",
              "      <th>8</th>\n",
              "      <td>Yemen</td>\n",
              "      <td>2020</td>\n",
              "      <td>NaN</td>\n",
              "      <td>north-africa-middle-east</td>\n",
              "      <td>NaN</td>\n",
              "      <td>NaN</td>\n",
              "      <td>NaN</td>\n",
              "      <td>NaN</td>\n",
              "      <td>NaN</td>\n",
              "    </tr>\n",
              "    <tr>\n",
              "      <th>9</th>\n",
              "      <td>Kosovo</td>\n",
              "      <td>2020</td>\n",
              "      <td>67.4</td>\n",
              "      <td>europe</td>\n",
              "      <td>NaN</td>\n",
              "      <td>NaN</td>\n",
              "      <td>NaN</td>\n",
              "      <td>NaN</td>\n",
              "      <td>NaN</td>\n",
              "    </tr>\n",
              "    <tr>\n",
              "      <th>10</th>\n",
              "      <td>Liechtenstein</td>\n",
              "      <td>2020</td>\n",
              "      <td>NaN</td>\n",
              "      <td>europe</td>\n",
              "      <td>NaN</td>\n",
              "      <td>NaN</td>\n",
              "      <td>NaN</td>\n",
              "      <td>NaN</td>\n",
              "      <td>NaN</td>\n",
              "    </tr>\n",
              "    <tr>\n",
              "      <th>11</th>\n",
              "      <td>Somalia</td>\n",
              "      <td>2020</td>\n",
              "      <td>NaN</td>\n",
              "      <td>sub-saharan-africa</td>\n",
              "      <td>NaN</td>\n",
              "      <td>NaN</td>\n",
              "      <td>NaN</td>\n",
              "      <td>NaN</td>\n",
              "      <td>NaN</td>\n",
              "    </tr>\n",
              "  </tbody>\n",
              "</table>\n",
              "</div>"
            ],
            "text/plain": [
              "             Name  year  ...  ecosystem_vitality environmental_health\n",
              "0             NaN   NaN  ...                43.8                 55.5\n",
              "1             NaN   NaN  ...                40.9                 46.3\n",
              "2             NaN   NaN  ...                29.6                 32.6\n",
              "3       Hong Kong  2020  ...                 NaN                  NaN\n",
              "4           Macau  2020  ...                 NaN                  NaN\n",
              "5     North Korea  2020  ...                 NaN                  NaN\n",
              "6           Libya  2020  ...                 NaN                  NaN\n",
              "7           Syria  2020  ...                 NaN                  NaN\n",
              "8           Yemen  2020  ...                 NaN                  NaN\n",
              "9          Kosovo  2020  ...                 NaN                  NaN\n",
              "10  Liechtenstein  2020  ...                 NaN                  NaN\n",
              "11        Somalia  2020  ...                 NaN                  NaN\n",
              "\n",
              "[12 rows x 9 columns]"
            ]
          },
          "metadata": {
            "tags": []
          },
          "execution_count": 65
        }
      ]
    },
    {
      "cell_type": "markdown",
      "metadata": {
        "id": "gqVRsXTNs1YK",
        "colab_type": "text"
      },
      "source": [
        "Haciendo los cambios correspondiente al dataframe con datos nulos."
      ]
    },
    {
      "cell_type": "code",
      "metadata": {
        "id": "EyviocPIpCqh",
        "colab_type": "code",
        "colab": {
          "base_uri": "https://localhost:8080/",
          "height": 124
        },
        "outputId": "4ce2ec28-cfeb-4e76-f13e-5e3f84b8c345"
      },
      "source": [
        "df_hfi_epi_with_nulls['Name'].iloc[0:3] = ['Antigua and Barbuda', 'Grenada', 'Marshall Islands']\n",
        "df_hfi_epi_with_nulls['Region'].iloc[0:3] = ['america', 'america', 'asia-pacific']\n",
        "df_hfi_epi_with_nulls['year'].iloc[0:3] = '2020'\n",
        "df_hfi_epi_with_nulls = df_hfi_epi_with_nulls.drop(columns=['country', 'region'])\n",
        "df_hfi_epi_with_nulls = df_hfi_epi_with_nulls.rename(columns={'Name': 'country', 'Region':'region'})\n",
        "df_hfi_epi_with_nulls = df_hfi_epi_with_nulls.reindex(columns=['country',\n",
        "                                     'region',\n",
        "                                     'year',\n",
        "                                     'human_freedom_index',\n",
        "                                     'environmetal_performance_index',\n",
        "                                     'ecosystem_vitality',\n",
        "                                     'environmental_health'])"
      ],
      "execution_count": 66,
      "outputs": [
        {
          "output_type": "stream",
          "text": [
            "/usr/local/lib/python3.6/dist-packages/pandas/core/indexing.py:671: SettingWithCopyWarning: \n",
            "A value is trying to be set on a copy of a slice from a DataFrame\n",
            "\n",
            "See the caveats in the documentation: https://pandas.pydata.org/pandas-docs/stable/user_guide/indexing.html#returning-a-view-versus-a-copy\n",
            "  self._setitem_with_indexer(indexer, value)\n"
          ],
          "name": "stderr"
        }
      ]
    },
    {
      "cell_type": "markdown",
      "metadata": {
        "id": "2tpI5NU3tQkY",
        "colab_type": "text"
      },
      "source": [
        "El siguiente dataframe ya esta adecuado para exportarlo."
      ]
    },
    {
      "cell_type": "code",
      "metadata": {
        "id": "4ABdZEYCsae3",
        "colab_type": "code",
        "colab": {
          "base_uri": "https://localhost:8080/",
          "height": 724
        },
        "outputId": "19a969a9-0bb2-4d4d-bc2e-65c7ed543f87"
      },
      "source": [
        "df_hfi_epi_with_nulls"
      ],
      "execution_count": 67,
      "outputs": [
        {
          "output_type": "execute_result",
          "data": {
            "text/html": [
              "<div>\n",
              "<style scoped>\n",
              "    .dataframe tbody tr th:only-of-type {\n",
              "        vertical-align: middle;\n",
              "    }\n",
              "\n",
              "    .dataframe tbody tr th {\n",
              "        vertical-align: top;\n",
              "    }\n",
              "\n",
              "    .dataframe thead th {\n",
              "        text-align: right;\n",
              "    }\n",
              "</style>\n",
              "<table border=\"1\" class=\"dataframe\">\n",
              "  <thead>\n",
              "    <tr style=\"text-align: right;\">\n",
              "      <th></th>\n",
              "      <th>country</th>\n",
              "      <th>region</th>\n",
              "      <th>year</th>\n",
              "      <th>human_freedom_index</th>\n",
              "      <th>environmetal_performance_index</th>\n",
              "      <th>ecosystem_vitality</th>\n",
              "      <th>environmental_health</th>\n",
              "    </tr>\n",
              "  </thead>\n",
              "  <tbody>\n",
              "    <tr>\n",
              "      <th>0</th>\n",
              "      <td>Antigua and Barbuda</td>\n",
              "      <td>america</td>\n",
              "      <td>2020</td>\n",
              "      <td>NaN</td>\n",
              "      <td>48.5</td>\n",
              "      <td>43.8</td>\n",
              "      <td>55.5</td>\n",
              "    </tr>\n",
              "    <tr>\n",
              "      <th>1</th>\n",
              "      <td>Grenada</td>\n",
              "      <td>america</td>\n",
              "      <td>2020</td>\n",
              "      <td>NaN</td>\n",
              "      <td>43.1</td>\n",
              "      <td>40.9</td>\n",
              "      <td>46.3</td>\n",
              "    </tr>\n",
              "    <tr>\n",
              "      <th>2</th>\n",
              "      <td>Marshall Islands</td>\n",
              "      <td>asia-pacific</td>\n",
              "      <td>2020</td>\n",
              "      <td>NaN</td>\n",
              "      <td>30.8</td>\n",
              "      <td>29.6</td>\n",
              "      <td>32.6</td>\n",
              "    </tr>\n",
              "    <tr>\n",
              "      <th>3</th>\n",
              "      <td>Hong Kong</td>\n",
              "      <td>asia-pacific</td>\n",
              "      <td>2020</td>\n",
              "      <td>89.1</td>\n",
              "      <td>NaN</td>\n",
              "      <td>NaN</td>\n",
              "      <td>NaN</td>\n",
              "    </tr>\n",
              "    <tr>\n",
              "      <th>4</th>\n",
              "      <td>Macau</td>\n",
              "      <td>asia-pacific</td>\n",
              "      <td>2020</td>\n",
              "      <td>70.3</td>\n",
              "      <td>NaN</td>\n",
              "      <td>NaN</td>\n",
              "      <td>NaN</td>\n",
              "    </tr>\n",
              "    <tr>\n",
              "      <th>5</th>\n",
              "      <td>North Korea</td>\n",
              "      <td>asia-pacific</td>\n",
              "      <td>2020</td>\n",
              "      <td>4.2</td>\n",
              "      <td>NaN</td>\n",
              "      <td>NaN</td>\n",
              "      <td>NaN</td>\n",
              "    </tr>\n",
              "    <tr>\n",
              "      <th>6</th>\n",
              "      <td>Libya</td>\n",
              "      <td>north-africa-middle-east</td>\n",
              "      <td>2020</td>\n",
              "      <td>NaN</td>\n",
              "      <td>NaN</td>\n",
              "      <td>NaN</td>\n",
              "      <td>NaN</td>\n",
              "    </tr>\n",
              "    <tr>\n",
              "      <th>7</th>\n",
              "      <td>Syria</td>\n",
              "      <td>north-africa-middle-east</td>\n",
              "      <td>2020</td>\n",
              "      <td>NaN</td>\n",
              "      <td>NaN</td>\n",
              "      <td>NaN</td>\n",
              "      <td>NaN</td>\n",
              "    </tr>\n",
              "    <tr>\n",
              "      <th>8</th>\n",
              "      <td>Yemen</td>\n",
              "      <td>north-africa-middle-east</td>\n",
              "      <td>2020</td>\n",
              "      <td>NaN</td>\n",
              "      <td>NaN</td>\n",
              "      <td>NaN</td>\n",
              "      <td>NaN</td>\n",
              "    </tr>\n",
              "    <tr>\n",
              "      <th>9</th>\n",
              "      <td>Kosovo</td>\n",
              "      <td>europe</td>\n",
              "      <td>2020</td>\n",
              "      <td>67.4</td>\n",
              "      <td>NaN</td>\n",
              "      <td>NaN</td>\n",
              "      <td>NaN</td>\n",
              "    </tr>\n",
              "    <tr>\n",
              "      <th>10</th>\n",
              "      <td>Liechtenstein</td>\n",
              "      <td>europe</td>\n",
              "      <td>2020</td>\n",
              "      <td>NaN</td>\n",
              "      <td>NaN</td>\n",
              "      <td>NaN</td>\n",
              "      <td>NaN</td>\n",
              "    </tr>\n",
              "    <tr>\n",
              "      <th>11</th>\n",
              "      <td>Somalia</td>\n",
              "      <td>sub-saharan-africa</td>\n",
              "      <td>2020</td>\n",
              "      <td>NaN</td>\n",
              "      <td>NaN</td>\n",
              "      <td>NaN</td>\n",
              "      <td>NaN</td>\n",
              "    </tr>\n",
              "  </tbody>\n",
              "</table>\n",
              "</div>"
            ],
            "text/plain": [
              "                country  ... environmental_health\n",
              "0   Antigua and Barbuda  ...                 55.5\n",
              "1               Grenada  ...                 46.3\n",
              "2      Marshall Islands  ...                 32.6\n",
              "3             Hong Kong  ...                  NaN\n",
              "4                 Macau  ...                  NaN\n",
              "5           North Korea  ...                  NaN\n",
              "6                 Libya  ...                  NaN\n",
              "7                 Syria  ...                  NaN\n",
              "8                 Yemen  ...                  NaN\n",
              "9                Kosovo  ...                  NaN\n",
              "10        Liechtenstein  ...                  NaN\n",
              "11              Somalia  ...                  NaN\n",
              "\n",
              "[12 rows x 7 columns]"
            ]
          },
          "metadata": {
            "tags": []
          },
          "execution_count": 67
        }
      ]
    },
    {
      "cell_type": "markdown",
      "metadata": {
        "id": "qMliiDhttEUa",
        "colab_type": "text"
      },
      "source": [
        "### Analizandos datos NO nulos\n",
        "\n",
        "Reordenamos las columnas y lo adecuamos para exportarlo mas adelante."
      ]
    },
    {
      "cell_type": "code",
      "metadata": {
        "id": "mpNccdKlEDll",
        "colab_type": "code",
        "colab": {
          "base_uri": "https://localhost:8080/",
          "height": 295
        },
        "outputId": "12c1e289-2301-492b-b04c-6cb8700f4cec"
      },
      "source": [
        "df_hfi_epi_notnulls = df_hfi_epi_union[df_hfi_epi_union.country.notnull()]\n",
        "df_hfi_epi_notnulls = df_hfi_epi_notnulls[df_hfi_epi_notnulls.Name.notnull()]\n",
        "df_hfi_epi_notnulls.info()"
      ],
      "execution_count": 68,
      "outputs": [
        {
          "output_type": "stream",
          "text": [
            "<class 'pandas.core.frame.DataFrame'>\n",
            "Int64Index: 177 entries, 0 to 185\n",
            "Data columns (total 9 columns):\n",
            " #   Column                          Non-Null Count  Dtype   \n",
            "---  ------                          --------------  -----   \n",
            " 0   Name                            177 non-null    object  \n",
            " 1   year                            177 non-null    category\n",
            " 2   human_freedom_index             176 non-null    float64 \n",
            " 3   Region                          177 non-null    object  \n",
            " 4   country                         177 non-null    object  \n",
            " 5   region                          177 non-null    object  \n",
            " 6   environmetal_performance_index  177 non-null    float64 \n",
            " 7   ecosystem_vitality              177 non-null    float64 \n",
            " 8   environmental_health            177 non-null    float64 \n",
            "dtypes: category(1), float64(4), object(4)\n",
            "memory usage: 12.7+ KB\n"
          ],
          "name": "stdout"
        }
      ]
    },
    {
      "cell_type": "code",
      "metadata": {
        "id": "u5fWz7YaisUf",
        "colab_type": "code",
        "colab": {}
      },
      "source": [
        "df_hfi_epi_notnulls = df_hfi_epi_notnulls.drop(columns=['Name', 'region'])"
      ],
      "execution_count": 69,
      "outputs": []
    },
    {
      "cell_type": "code",
      "metadata": {
        "id": "vWSFRQk3jpsk",
        "colab_type": "code",
        "colab": {
          "base_uri": "https://localhost:8080/",
          "height": 139
        },
        "outputId": "956535da-1efe-4b73-9110-39c9492fe3d6"
      },
      "source": [
        "df_hfi_epi_notnulls.columns.tolist()"
      ],
      "execution_count": 70,
      "outputs": [
        {
          "output_type": "execute_result",
          "data": {
            "text/plain": [
              "['year',\n",
              " 'human_freedom_index',\n",
              " 'Region',\n",
              " 'country',\n",
              " 'environmetal_performance_index',\n",
              " 'ecosystem_vitality',\n",
              " 'environmental_health']"
            ]
          },
          "metadata": {
            "tags": []
          },
          "execution_count": 70
        }
      ]
    },
    {
      "cell_type": "code",
      "metadata": {
        "id": "3DWWfiRuj2qC",
        "colab_type": "code",
        "colab": {}
      },
      "source": [
        "df_hfi_epi_notnulls = df_hfi_epi_notnulls.reindex(columns=\n",
        "                                                  ['country',\n",
        "                                                  'Region',\n",
        "                                                  'year',\n",
        "                                                  'human_freedom_index',\n",
        "                                                  'environmetal_performance_index',\n",
        "                                                  'ecosystem_vitality',\n",
        "                                                  'environmental_health'])\n",
        "df_hfi_epi_notnulls = df_hfi_epi_notnulls.rename(columns={'Region': 'region'})"
      ],
      "execution_count": 71,
      "outputs": []
    },
    {
      "cell_type": "markdown",
      "metadata": {
        "id": "MRrZIcHDk9PI",
        "colab_type": "text"
      },
      "source": [
        "# Exportando datasets"
      ]
    },
    {
      "cell_type": "code",
      "metadata": {
        "id": "MQl6nVDVmB7Z",
        "colab_type": "code",
        "colab": {
          "base_uri": "https://localhost:8080/",
          "height": 35
        },
        "outputId": "bb6aeef3-7ac4-4ccb-f4d1-502dfb2f5d3b"
      },
      "source": [
        "import os\n",
        "os.getcwd()"
      ],
      "execution_count": 72,
      "outputs": [
        {
          "output_type": "execute_result",
          "data": {
            "application/vnd.google.colaboratory.intrinsic+json": {
              "type": "string"
            },
            "text/plain": [
              "'/content/drive/My Drive/Colab Notebooks/republica-liberal/data/index_economic_freedom'"
            ]
          },
          "metadata": {
            "tags": []
          },
          "execution_count": 72
        }
      ]
    },
    {
      "cell_type": "code",
      "metadata": {
        "id": "Ch_xcBHlmrPe",
        "colab_type": "code",
        "colab": {}
      },
      "source": [
        "os.chdir('/content/drive/My Drive/Colab Notebooks/republica-liberal/data/data_to_work')"
      ],
      "execution_count": 73,
      "outputs": []
    },
    {
      "cell_type": "code",
      "metadata": {
        "id": "4aqhZNwtmurM",
        "colab_type": "code",
        "colab": {
          "base_uri": "https://localhost:8080/",
          "height": 35
        },
        "outputId": "c205c01e-aaa2-4707-9de8-5a33e93c2353"
      },
      "source": [
        "os.getcwd()"
      ],
      "execution_count": 74,
      "outputs": [
        {
          "output_type": "execute_result",
          "data": {
            "application/vnd.google.colaboratory.intrinsic+json": {
              "type": "string"
            },
            "text/plain": [
              "'/content/drive/My Drive/Colab Notebooks/republica-liberal/data/data_to_work'"
            ]
          },
          "metadata": {
            "tags": []
          },
          "execution_count": 74
        }
      ]
    },
    {
      "cell_type": "code",
      "metadata": {
        "id": "lpASUhQAlA76",
        "colab_type": "code",
        "colab": {}
      },
      "source": [
        "df_hfi_epi_notnulls.to_csv('dataset_hfi_epi_2020.csv')\n",
        "df_hfi_epi_with_nulls.to_csv('dataset_hfi_epi_with_nulls_2020.csv')"
      ],
      "execution_count": 76,
      "outputs": []
    },
    {
      "cell_type": "markdown",
      "metadata": {
        "id": "kynLV6vmtxC_",
        "colab_type": "text"
      },
      "source": [
        "> NOTA: Los datos historicos se limpiarán en otro notebook. "
      ]
    }
  ]
}